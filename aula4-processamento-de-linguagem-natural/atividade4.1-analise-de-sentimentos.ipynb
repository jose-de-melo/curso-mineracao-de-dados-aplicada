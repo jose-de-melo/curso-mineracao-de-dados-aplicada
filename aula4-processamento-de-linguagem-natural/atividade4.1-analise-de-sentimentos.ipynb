{
 "cells": [
  {
   "cell_type": "code",
   "execution_count": 10,
   "metadata": {},
   "outputs": [],
   "source": [
    "from leia import SentimentIntensityAnalyzer\n",
    "import requests \n",
    "from bs4 import BeautifulSoup\n",
    "import re"
   ]
  },
  {
   "cell_type": "code",
   "execution_count": 11,
   "metadata": {},
   "outputs": [],
   "source": [
    "s = SentimentIntensityAnalyzer()"
   ]
  },
  {
   "cell_type": "code",
   "execution_count": 12,
   "metadata": {},
   "outputs": [],
   "source": [
    "html = requests.get('https://barbacenaonline.com.br').text"
   ]
  },
  {
   "cell_type": "code",
   "execution_count": 13,
   "metadata": {},
   "outputs": [],
   "source": [
    "soup = BeautifulSoup(html)"
   ]
  },
  {
   "cell_type": "code",
   "execution_count": 14,
   "metadata": {},
   "outputs": [],
   "source": [
    "titles = re.findall(r'<a + title=\"(.+?)\"', html)"
   ]
  },
  {
   "cell_type": "code",
   "execution_count": 15,
   "metadata": {},
   "outputs": [
    {
     "data": {
      "text/plain": [
       "['#5 &#8211; Pílulas da reforma da previdência – Trabalhadores Rurais',\n",
       " 'Apreendido caminhão adulterado e com registro de roubo',\n",
       " 'Setembro Amarelo chama atenção para a prevenção ao suicídio',\n",
       " 'Centenário de nascimento de José Eugênio Dutra Câmara',\n",
       " 'Bituca promove oficina gratuita de poesia em Barbacena',\n",
       " 'Academia Barbacenense de Letras empossa novo acadêmico',\n",
       " 'Vacina contra o sarampo disponível nas UBS de Barbacena',\n",
       " 'SAS terá novo reservatório de água',\n",
       " 'Barbacenense morre em acidente com motocicleta na 040',\n",
       " 'Professora quebra o braço ao cair em bueiro inacabado',\n",
       " 'Acidente entre Kombi e caminhão deixa três feridos',\n",
       " 'Operação de combate ao crime organizado na região',\n",
       " 'Homem rouba celular de pedestre',\n",
       " 'Acidente na 265 deixa dois feridos',\n",
       " 'Motorista de caminhão morre na Serra de Santa Bárbara',\n",
       " 'Golpe do falso bilhete premiado faz nova vítima',\n",
       " 'Apreendido caminhão adulterado e com registro de roubo',\n",
       " 'Motociclista morre em acidente na estrada de Senhora dos Remédios',\n",
       " 'Dupla armada coloca fogo em carro na Major Diniz',\n",
       " 'Será que a mudança na cor do camaleão se deve exclusivamente à tentativa voluntária de sobrevivência?',\n",
       " 'Paisagem da vida',\n",
       " 'Empresa recebe currículo para a vaga de subgerente',\n",
       " 'UNIPAC Barbacena realiza Aula Magna do NPJ',\n",
       " 'UNIPAC prepara lançamento de cursos EAD',\n",
       " 'Alunos do curso de Direito participam da Aula Magna',\n",
       " '#5 &#8211; Pílulas da reforma da previdência – Trabalhadores Rurais',\n",
       " 'Homem rouba celular de pedestre',\n",
       " 'Apreendido caminhão adulterado e com registro de roubo',\n",
       " 'Setembro Amarelo chama atenção para a prevenção ao suicídio',\n",
       " 'Centenário de nascimento de José Eugênio Dutra Câmara',\n",
       " '#5 &#8211; Pílulas da reforma da previdência – Trabalhadores Rurais',\n",
       " 'Homem rouba celular de pedestre',\n",
       " 'UNIPAC Barbacena realiza Aula Magna do NPJ']"
      ]
     },
     "execution_count": 15,
     "metadata": {},
     "output_type": "execute_result"
    }
   ],
   "source": [
    "titles"
   ]
  },
  {
   "cell_type": "code",
   "execution_count": 17,
   "metadata": {},
   "outputs": [],
   "source": [
    "scores_titles = [(s.polarity_scores(t)['compound'], t) for t in titles]"
   ]
  },
  {
   "cell_type": "code",
   "execution_count": 18,
   "metadata": {},
   "outputs": [
    {
     "data": {
      "text/plain": [
       "[(0.0, '#5 &#8211; Pílulas da reforma da previdência – Trabalhadores Rurais'),\n",
       " (-0.4588, 'Apreendido caminhão adulterado e com registro de roubo'),\n",
       " (-0.8176, 'Setembro Amarelo chama atenção para a prevenção ao suicídio'),\n",
       " (0.0, 'Centenário de nascimento de José Eugênio Dutra Câmara'),\n",
       " (0.34, 'Bituca promove oficina gratuita de poesia em Barbacena'),\n",
       " (0.0, 'Academia Barbacenense de Letras empossa novo acadêmico'),\n",
       " (0.0, 'Vacina contra o sarampo disponível nas UBS de Barbacena'),\n",
       " (0.0, 'SAS terá novo reservatório de água'),\n",
       " (-0.5267, 'Barbacenense morre em acidente com motocicleta na 040'),\n",
       " (0.0, 'Professora quebra o braço ao cair em bueiro inacabado'),\n",
       " (-0.5267, 'Acidente entre Kombi e caminhão deixa três feridos'),\n",
       " (-0.7184, 'Operação de combate ao crime organizado na região'),\n",
       " (-0.7269, 'Homem rouba celular de pedestre'),\n",
       " (-0.5267, 'Acidente na 265 deixa dois feridos'),\n",
       " (0.0, 'Motorista de caminhão morre na Serra de Santa Bárbara'),\n",
       " (-0.6808, 'Golpe do falso bilhete premiado faz nova vítima'),\n",
       " (-0.4588, 'Apreendido caminhão adulterado e com registro de roubo'),\n",
       " (-0.5267,\n",
       "  'Motociclista morre em acidente na estrada de Senhora dos Remédios'),\n",
       " (-0.34, 'Dupla armada coloca fogo em carro na Major Diniz'),\n",
       " (0.0,\n",
       "  'Será que a mudança na cor do camaleão se deve exclusivamente à tentativa voluntária de sobrevivência?'),\n",
       " (0.0, 'Paisagem da vida'),\n",
       " (-0.1531, 'Empresa recebe currículo para a vaga de subgerente'),\n",
       " (0.4019, 'UNIPAC Barbacena realiza Aula Magna do NPJ'),\n",
       " (0.0, 'UNIPAC prepara lançamento de cursos EAD'),\n",
       " (0.0, 'Alunos do curso de Direito participam da Aula Magna'),\n",
       " (0.0, '#5 &#8211; Pílulas da reforma da previdência – Trabalhadores Rurais'),\n",
       " (-0.7269, 'Homem rouba celular de pedestre'),\n",
       " (-0.4588, 'Apreendido caminhão adulterado e com registro de roubo'),\n",
       " (-0.8176, 'Setembro Amarelo chama atenção para a prevenção ao suicídio'),\n",
       " (0.0, 'Centenário de nascimento de José Eugênio Dutra Câmara'),\n",
       " (0.0, '#5 &#8211; Pílulas da reforma da previdência – Trabalhadores Rurais'),\n",
       " (-0.7269, 'Homem rouba celular de pedestre'),\n",
       " (0.4019, 'UNIPAC Barbacena realiza Aula Magna do NPJ')]"
      ]
     },
     "execution_count": 18,
     "metadata": {},
     "output_type": "execute_result"
    }
   ],
   "source": [
    "scores_titles"
   ]
  },
  {
   "cell_type": "code",
   "execution_count": 19,
   "metadata": {},
   "outputs": [],
   "source": [
    "scores_titles.sort(key=lambda x : x[0], reverse=True)"
   ]
  },
  {
   "cell_type": "code",
   "execution_count": 20,
   "metadata": {},
   "outputs": [
    {
     "data": {
      "text/plain": [
       "[(0.4019, 'UNIPAC Barbacena realiza Aula Magna do NPJ'),\n",
       " (0.4019, 'UNIPAC Barbacena realiza Aula Magna do NPJ'),\n",
       " (0.34, 'Bituca promove oficina gratuita de poesia em Barbacena'),\n",
       " (0.0, '#5 &#8211; Pílulas da reforma da previdência – Trabalhadores Rurais'),\n",
       " (0.0, 'Centenário de nascimento de José Eugênio Dutra Câmara'),\n",
       " (0.0, 'Academia Barbacenense de Letras empossa novo acadêmico'),\n",
       " (0.0, 'Vacina contra o sarampo disponível nas UBS de Barbacena'),\n",
       " (0.0, 'SAS terá novo reservatório de água'),\n",
       " (0.0, 'Professora quebra o braço ao cair em bueiro inacabado'),\n",
       " (0.0, 'Motorista de caminhão morre na Serra de Santa Bárbara'),\n",
       " (0.0,\n",
       "  'Será que a mudança na cor do camaleão se deve exclusivamente à tentativa voluntária de sobrevivência?'),\n",
       " (0.0, 'Paisagem da vida'),\n",
       " (0.0, 'UNIPAC prepara lançamento de cursos EAD'),\n",
       " (0.0, 'Alunos do curso de Direito participam da Aula Magna'),\n",
       " (0.0, '#5 &#8211; Pílulas da reforma da previdência – Trabalhadores Rurais'),\n",
       " (0.0, 'Centenário de nascimento de José Eugênio Dutra Câmara'),\n",
       " (0.0, '#5 &#8211; Pílulas da reforma da previdência – Trabalhadores Rurais'),\n",
       " (-0.1531, 'Empresa recebe currículo para a vaga de subgerente'),\n",
       " (-0.34, 'Dupla armada coloca fogo em carro na Major Diniz'),\n",
       " (-0.4588, 'Apreendido caminhão adulterado e com registro de roubo'),\n",
       " (-0.4588, 'Apreendido caminhão adulterado e com registro de roubo'),\n",
       " (-0.4588, 'Apreendido caminhão adulterado e com registro de roubo'),\n",
       " (-0.5267, 'Barbacenense morre em acidente com motocicleta na 040'),\n",
       " (-0.5267, 'Acidente entre Kombi e caminhão deixa três feridos'),\n",
       " (-0.5267, 'Acidente na 265 deixa dois feridos'),\n",
       " (-0.5267,\n",
       "  'Motociclista morre em acidente na estrada de Senhora dos Remédios'),\n",
       " (-0.6808, 'Golpe do falso bilhete premiado faz nova vítima'),\n",
       " (-0.7184, 'Operação de combate ao crime organizado na região'),\n",
       " (-0.7269, 'Homem rouba celular de pedestre'),\n",
       " (-0.7269, 'Homem rouba celular de pedestre'),\n",
       " (-0.7269, 'Homem rouba celular de pedestre'),\n",
       " (-0.8176, 'Setembro Amarelo chama atenção para a prevenção ao suicídio'),\n",
       " (-0.8176, 'Setembro Amarelo chama atenção para a prevenção ao suicídio')]"
      ]
     },
     "execution_count": 20,
     "metadata": {},
     "output_type": "execute_result"
    }
   ],
   "source": [
    "scores_titles"
   ]
  },
  {
   "cell_type": "code",
   "execution_count": null,
   "metadata": {},
   "outputs": [],
   "source": []
  }
 ],
 "metadata": {
  "kernelspec": {
   "display_name": "Python 3",
   "language": "python",
   "name": "python3"
  },
  "language_info": {
   "codemirror_mode": {
    "name": "ipython",
    "version": 3
   },
   "file_extension": ".py",
   "mimetype": "text/x-python",
   "name": "python",
   "nbconvert_exporter": "python",
   "pygments_lexer": "ipython3",
   "version": "3.7.3"
  }
 },
 "nbformat": 4,
 "nbformat_minor": 2
}
