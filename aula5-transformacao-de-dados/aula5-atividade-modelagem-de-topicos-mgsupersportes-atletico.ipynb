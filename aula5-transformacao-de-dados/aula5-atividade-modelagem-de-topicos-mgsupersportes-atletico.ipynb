{
 "cells": [
  {
   "cell_type": "code",
   "execution_count": 183,
   "metadata": {},
   "outputs": [],
   "source": [
    "import pandas as pd\n",
    "import re\n",
    "import requests as r\n",
    "from bs4 import BeautifulSoup\n",
    "import re\n",
    "import nltk\n",
    "from string import punctuation\n",
    "from unicodedata import normalize"
   ]
  },
  {
   "cell_type": "code",
   "execution_count": 184,
   "metadata": {},
   "outputs": [],
   "source": [
    "text = r.get('https://www.mg.superesportes.com.br/futebol/atletico-mg/').text"
   ]
  },
  {
   "cell_type": "code",
   "execution_count": 185,
   "metadata": {},
   "outputs": [],
   "source": [
    "html = BeautifulSoup(text)\n",
    "notices = []"
   ]
  },
  {
   "cell_type": "code",
   "execution_count": 186,
   "metadata": {},
   "outputs": [],
   "source": [
    "list_notices = html.find_all('div', class_='l-generic')"
   ]
  },
  {
   "cell_type": "code",
   "execution_count": 187,
   "metadata": {},
   "outputs": [],
   "source": [
    "for notice in list_notices:\n",
    "    if(notice.find_all('script') == []):\n",
    "        info_notice = []\n",
    "        info_notice.append(notice.find_all('p')[0].text)\n",
    "        info_notice.append(notice.find_all('p')[1].text)\n",
    "        info_notice.append(notice.find_all('b')[0].text)\n",
    "        info_notice.append(notice.find_all('time')[0].text)\n",
    "        info_notice.append(notice.find_all('a')[0]['href'])\n",
    "    \n",
    "        notices.append(info_notice)"
   ]
  },
  {
   "cell_type": "code",
   "execution_count": 188,
   "metadata": {},
   "outputs": [
    {
     "data": {
      "text/plain": [
       "18"
      ]
     },
     "execution_count": 188,
     "metadata": {},
     "output_type": "execute_result"
    }
   ],
   "source": [
    "len(notices)"
   ]
  },
  {
   "cell_type": "code",
   "execution_count": 189,
   "metadata": {},
   "outputs": [],
   "source": [
    "df_notices = pd.DataFrame(\n",
    "    notices,\n",
    "    columns=['titulo', 'descricao', 'categoria', 'data-hora-publicacao', 'link']\n",
    ")"
   ]
  },
  {
   "cell_type": "code",
   "execution_count": 190,
   "metadata": {},
   "outputs": [
    {
     "data": {
      "text/html": [
       "<div>\n",
       "<style scoped>\n",
       "    .dataframe tbody tr th:only-of-type {\n",
       "        vertical-align: middle;\n",
       "    }\n",
       "\n",
       "    .dataframe tbody tr th {\n",
       "        vertical-align: top;\n",
       "    }\n",
       "\n",
       "    .dataframe thead th {\n",
       "        text-align: right;\n",
       "    }\n",
       "</style>\n",
       "<table border=\"1\" class=\"dataframe\">\n",
       "  <thead>\n",
       "    <tr style=\"text-align: right;\">\n",
       "      <th></th>\n",
       "      <th>titulo</th>\n",
       "      <th>descricao</th>\n",
       "      <th>categoria</th>\n",
       "      <th>data-hora-publicacao</th>\n",
       "      <th>link</th>\n",
       "    </tr>\n",
       "  </thead>\n",
       "  <tbody>\n",
       "    <tr>\n",
       "      <th>0</th>\n",
       "      <td>Lista liderada por Franck Ribéry conta com jog...</td>\n",
       "      <td>De acordo com ranking do site Transfermarkt, M...</td>\n",
       "      <td>MAIS VALIOSOS</td>\n",
       "      <td>31/08/2019 - 19:04</td>\n",
       "      <td>https://www.mg.superesportes.com.br/app/notici...</td>\n",
       "    </tr>\n",
       "    <tr>\n",
       "      <th>1</th>\n",
       "      <td>Com todos os titulares em campo, Atlético faz ...</td>\n",
       "      <td>Galo deve ter equipe completa no duelo contra ...</td>\n",
       "      <td>ATLÉTICO</td>\n",
       "      <td>31/08/2019 - 12:48</td>\n",
       "      <td>https://www.mg.superesportes.com.br/app/notici...</td>\n",
       "    </tr>\n",
       "    <tr>\n",
       "      <th>2</th>\n",
       "      <td>Time mais disciplinado do Brasileiro, Atlético...</td>\n",
       "      <td>Entre atletas com dois amarelos estão os titul...</td>\n",
       "      <td>ATLÉTICO</td>\n",
       "      <td>31/08/2019 - 07:00</td>\n",
       "      <td>https://www.mg.superesportes.com.br/app/notici...</td>\n",
       "    </tr>\n",
       "    <tr>\n",
       "      <th>3</th>\n",
       "      <td>Elias explica como o Atlético deve jogar para ...</td>\n",
       "      <td>Galo vai enfrentar o time paulista neste domin...</td>\n",
       "      <td>ATLÉTICO</td>\n",
       "      <td>31/08/2019 - 06:00</td>\n",
       "      <td>https://www.mg.superesportes.com.br/app/notici...</td>\n",
       "    </tr>\n",
       "    <tr>\n",
       "      <th>4</th>\n",
       "      <td>Por temor de punição, clubes da Série A lançam...</td>\n",
       "      <td>De acordo com o STJD, cânticos homofóbicos são...</td>\n",
       "      <td>FUTEBOL NACIONAL</td>\n",
       "      <td>30/08/2019 - 18:35</td>\n",
       "      <td>https://www.mg.superesportes.com.br/app/notici...</td>\n",
       "    </tr>\n",
       "  </tbody>\n",
       "</table>\n",
       "</div>"
      ],
      "text/plain": [
       "                                              titulo  \\\n",
       "0  Lista liderada por Franck Ribéry conta com jog...   \n",
       "1  Com todos os titulares em campo, Atlético faz ...   \n",
       "2  Time mais disciplinado do Brasileiro, Atlético...   \n",
       "3  Elias explica como o Atlético deve jogar para ...   \n",
       "4  Por temor de punição, clubes da Série A lançam...   \n",
       "\n",
       "                                           descricao         categoria  \\\n",
       "0  De acordo com ranking do site Transfermarkt, M...     MAIS VALIOSOS   \n",
       "1  Galo deve ter equipe completa no duelo contra ...          ATLÉTICO   \n",
       "2  Entre atletas com dois amarelos estão os titul...          ATLÉTICO   \n",
       "3  Galo vai enfrentar o time paulista neste domin...          ATLÉTICO   \n",
       "4  De acordo com o STJD, cânticos homofóbicos são...  FUTEBOL NACIONAL   \n",
       "\n",
       "  data-hora-publicacao                                               link  \n",
       "0   31/08/2019 - 19:04  https://www.mg.superesportes.com.br/app/notici...  \n",
       "1   31/08/2019 - 12:48  https://www.mg.superesportes.com.br/app/notici...  \n",
       "2   31/08/2019 - 07:00  https://www.mg.superesportes.com.br/app/notici...  \n",
       "3   31/08/2019 - 06:00  https://www.mg.superesportes.com.br/app/notici...  \n",
       "4   30/08/2019 - 18:35  https://www.mg.superesportes.com.br/app/notici...  "
      ]
     },
     "execution_count": 190,
     "metadata": {},
     "output_type": "execute_result"
    }
   ],
   "source": [
    "df_notices.head()"
   ]
  },
  {
   "cell_type": "code",
   "execution_count": 191,
   "metadata": {},
   "outputs": [
    {
     "data": {
      "text/plain": [
       "0    Lista liderada por Franck Ribéry conta com jog...\n",
       "1    Com todos os titulares em campo, Atlético faz ...\n",
       "2    Time mais disciplinado do Brasileiro, Atlético...\n",
       "3    Elias explica como o Atlético deve jogar para ...\n",
       "4    Por temor de punição, clubes da Série A lançam...\n",
       "Name: doc, dtype: object"
      ]
     },
     "execution_count": 191,
     "metadata": {},
     "output_type": "execute_result"
    }
   ],
   "source": [
    "df_notices['doc'] = df_notices.apply(lambda row : row['titulo'] + row['descricao'], axis=1)\n",
    "df_notices['doc'].head()"
   ]
  },
  {
   "cell_type": "code",
   "execution_count": 192,
   "metadata": {},
   "outputs": [],
   "source": [
    "numbers = '0123456789'\n",
    "stopwords = nltk.corpus.stopwords.words('portuguese')\n",
    "\n",
    "def preprocessa(txt):\n",
    "    txt = txt.lower()\n",
    "    txt = ''.join([c for c in txt if c not in punctuation + numbers])\n",
    "    txt = ' '.join([t for t in txt.split(' ') if t not in stopwords])\n",
    "    txt = normalize('NFKD', txt).encode('ASCII', 'ignore').decode('utf-8')\n",
    "    \n",
    "    \n",
    "    return txt"
   ]
  },
  {
   "cell_type": "code",
   "execution_count": 193,
   "metadata": {},
   "outputs": [],
   "source": [
    "df_notices['doc'] = df_notices['doc'].apply(preprocessa)"
   ]
  },
  {
   "cell_type": "code",
   "execution_count": null,
   "metadata": {},
   "outputs": [],
   "source": []
  },
  {
   "cell_type": "code",
   "execution_count": null,
   "metadata": {},
   "outputs": [],
   "source": []
  }
 ],
 "metadata": {
  "kernelspec": {
   "display_name": "Python 3",
   "language": "python",
   "name": "python3"
  },
  "language_info": {
   "codemirror_mode": {
    "name": "ipython",
    "version": 3
   },
   "file_extension": ".py",
   "mimetype": "text/x-python",
   "name": "python",
   "nbconvert_exporter": "python",
   "pygments_lexer": "ipython3",
   "version": "3.7.3"
  }
 },
 "nbformat": 4,
 "nbformat_minor": 2
}
