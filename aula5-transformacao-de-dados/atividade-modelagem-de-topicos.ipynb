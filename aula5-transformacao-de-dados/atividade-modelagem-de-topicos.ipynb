{
 "cells": [
  {
   "cell_type": "code",
   "execution_count": 1,
   "metadata": {},
   "outputs": [],
   "source": [
    "import numpy as np\n",
    "import pandas as pd"
   ]
  },
  {
   "cell_type": "code",
   "execution_count": 3,
   "metadata": {},
   "outputs": [],
   "source": [
    "df_notices = pd.read_csv('data/noticias_atletico.csv')"
   ]
  },
  {
   "cell_type": "code",
   "execution_count": 7,
   "metadata": {},
   "outputs": [
    {
     "data": {
      "text/plain": [
       "(18, 226)"
      ]
     },
     "execution_count": 7,
     "metadata": {},
     "output_type": "execute_result"
    }
   ],
   "source": [
    "from sklearn.feature_extraction.text import TfidfVectorizer\n",
    "from sklearn.decomposition import NMF\n",
    "\n",
    "tfidf_vectorizer = TfidfVectorizer()\n",
    "tfidf_matrix = tfidf_vectorizer.fit_transform(df_notices['doc'])\n",
    "\n",
    "tfidf_matrix.shape"
   ]
  },
  {
   "cell_type": "code",
   "execution_count": 8,
   "metadata": {},
   "outputs": [],
   "source": [
    "tfidf_feature_names = tfidf_vectorizer.get_feature_names()\n",
    "\n",
    "num_topics = 5\n",
    "\n",
    "nmf_model = NMF(n_components=num_topics).fit(tfidf_matrix)"
   ]
  },
  {
   "cell_type": "code",
   "execution_count": 11,
   "metadata": {},
   "outputs": [],
   "source": [
    "nmf_W = nmf_model.transform(tfidf_matrix)\n",
    "\n",
    "nmf_H = nmf_model.components_"
   ]
  },
  {
   "cell_type": "code",
   "execution_count": null,
   "metadata": {},
   "outputs": [],
   "source": []
  },
  {
   "cell_type": "code",
   "execution_count": 12,
   "metadata": {},
   "outputs": [],
   "source": [
    "def exibir_topicos(H, W, feature_names, documents, num_top_words, num_top_documents):\n",
    "    for topic_idx, topic in enumerate(H):\n",
    "        print('\\n\\n\\n Tópico %d' % (topic_idx + 1))\n",
    "        \n",
    "        print('\\nPrincipais termos: ' + ', '.join([feature_names[i] + ' (%s)' % round(H[topic_idx][i], 2) for i in topic.argsort()[:-num_top_words - 1:-1]]))\n",
    "        \n",
    "        print('\\nPrincipais notícias relacionadas ao tópico:')\n",
    "        \n",
    "        top_docs_indices = np.argsort(W[:, topic_idx])[::-1][0:num_top_documents]\n",
    "        for doc_index in top_docs_indices:\n",
    "            id_doc = int()\n",
    "            \n",
    "            texto = documents.iloc[doc_index]['titulo']\n",
    "            print('\\t-', texto, ' (%s)' % round(W[doc_index][topic_idx], 2))"
   ]
  },
  {
   "cell_type": "code",
   "execution_count": 17,
   "metadata": {},
   "outputs": [],
   "source": [
    "num_top_words = 5\n",
    "num_top_documents = 5"
   ]
  },
  {
   "cell_type": "code",
   "execution_count": null,
   "metadata": {},
   "outputs": [],
   "source": []
  },
  {
   "cell_type": "code",
   "execution_count": 18,
   "metadata": {},
   "outputs": [
    {
     "name": "stdout",
     "output_type": "stream",
     "text": [
      "\n",
      "\n",
      "\n",
      " Tópico 1\n",
      "\n",
      "Principais termos: consecutiva (0.4), terceira (0.4), galo (0.4), corinthians (0.39), fim (0.35)\n",
      "\n",
      "Principais notícias relacionadas ao tópico:\n",
      "\t- Cleiton erra no fim, e Atlético perde a terceira consecutiva no Brasileiro  (0.56)\n",
      "\t- Atlético vive pior momento no Brasileiro e deixa o G6 pela primeira vez  (0.51)\n",
      "\t- Jogadores do Atlético lamentam gol sofrido no fim: 'O empate seria mais justo'  (0.34)\n",
      "\t- Rodrigo Santana define Atlético para jogo contra o Corinthians; veja a escalação  (0.03)\n",
      "\t- Rodrigo Santana vê derrota injusta, comenta conversa com Cleiton e cita o que faltou ao Atlético  (0.02)\n",
      "\n",
      "\n",
      "\n",
      " Tópico 2\n",
      "\n",
      "Principais termos: contra (0.37), duelo (0.24), jogo (0.23), jogadores (0.21), time (0.19)\n",
      "\n",
      "Principais notícias relacionadas ao tópico:\n",
      "\t- Convocado, Otero será mais um desfalque do Atlético para jogo contra o Botafogo  (0.7)\n",
      "\t- Time mais disciplinado do Brasileiro, Atlético tem sete jogadores pendurados para jogo contra o Corinthians  (0.67)\n",
      "\t- Última derrota do Inter por dois gols de diferença em casa ocorreu em 2015 em duelo contra o maior rival do Cruzeiro  (0.51)\n",
      "\t- Com todos os titulares em campo, Atlético faz último treino antes de desafio no Itaquerão  (0.5)\n",
      "\t- Com sete clubes, Campeonato Mineiro Feminino começa dia 28 e terá final em jogo único  (0.19)\n",
      "\n",
      "\n",
      "\n",
      " Tópico 3\n",
      "\n",
      "Principais termos: santana (0.34), rodrigo (0.34), ultimos (0.21), brasileiro (0.16), recuperar (0.13)\n",
      "\n",
      "Principais notícias relacionadas ao tópico:\n",
      "\t- Rodrigo Santana liga 'sinal de alerta' no Atlético e espera recuperar 'pontos perdidos'  (0.66)\n",
      "\t- Embalado por classificação, Atlético busca reabilitação no Brasileiro contra o Corinthians  (0.61)\n",
      "\t- Rodrigo Santana vê derrota injusta, comenta conversa com Cleiton e cita o que faltou ao Atlético  (0.6)\n",
      "\t- Rodrigo Santana define Atlético para jogo contra o Corinthians; veja a escalação  (0.48)\n",
      "\t- Jogadores do Atlético lamentam gol sofrido no fim: 'O empate seria mais justo'  (0.08)\n",
      "\n",
      "\n",
      "\n",
      " Tópico 4\n",
      "\n",
      "Principais termos: partidas (0.32), equatoriano (0.32), estrangeiro (0.32), alvinegro (0.32), camisa (0.32)\n",
      "\n",
      "Principais notícias relacionadas ao tópico:\n",
      "\t- Cazares se isola como segundo estrangeiro com mais jogos com a camisa do Atlético  (0.95)\n",
      "\t- Rodrigo Santana liga 'sinal de alerta' no Atlético e espera recuperar 'pontos perdidos'  (0.07)\n",
      "\t- Atlético vive pior momento no Brasileiro e deixa o G6 pela primeira vez  (0.06)\n",
      "\t- Com sete clubes, Campeonato Mineiro Feminino começa dia 28 e terá final em jogo único  (0.03)\n",
      "\t- Time mais disciplinado do Brasileiro, Atlético tem sete jogadores pendurados para jogo contra o Corinthians  (0.0)\n",
      "\n",
      "\n",
      "\n",
      " Tópico 5\n",
      "\n",
      "Principais termos: goleiro (0.23), anos (0.21), sobre (0.2), wilson (0.17), paranaense (0.17)\n",
      "\n",
      "Principais notícias relacionadas ao tópico:\n",
      "\t- 'Boa sorte para o Fábio', diz Kalil sobre possível candidatura de goleiro do Cruzeiro à PBH  (0.61)\n",
      "\t- Vitória do Atlético sobre Seleção Brasileira no Mineirão faz 50 anos; relembre 'casos', curiosidades e a cobertura do jogo histórico  (0.61)\n",
      "\t- Atlético tenta contratação de Wilson, goleiro do Coritiba  (0.58)\n",
      "\t- Lista liderada por Franck Ribéry conta com jogadores de América e Atlético; entenda  (0.12)\n",
      "\t- Cleiton erra no fim, e Atlético perde a terceira consecutiva no Brasileiro  (0.03)\n"
     ]
    }
   ],
   "source": [
    "exibir_topicos(nmf_H, nmf_W, tfidf_feature_names, df_notices, num_top_words, num_top_documents)"
   ]
  },
  {
   "cell_type": "code",
   "execution_count": null,
   "metadata": {},
   "outputs": [],
   "source": []
  }
 ],
 "metadata": {
  "kernelspec": {
   "display_name": "Python 3",
   "language": "python",
   "name": "python3"
  },
  "language_info": {
   "codemirror_mode": {
    "name": "ipython",
    "version": 3
   },
   "file_extension": ".py",
   "mimetype": "text/x-python",
   "name": "python",
   "nbconvert_exporter": "python",
   "pygments_lexer": "ipython3",
   "version": "3.7.3"
  }
 },
 "nbformat": 4,
 "nbformat_minor": 2
}
