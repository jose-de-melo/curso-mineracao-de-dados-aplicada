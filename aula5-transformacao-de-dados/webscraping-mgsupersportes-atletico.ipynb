{
 "cells": [
  {
   "cell_type": "code",
   "execution_count": 1,
   "metadata": {},
   "outputs": [],
   "source": [
    "import pandas as pd\n",
    "import re\n",
    "import requests as r\n",
    "from bs4 import BeautifulSoup\n",
    "import re\n",
    "import nltk\n",
    "from string import punctuation\n",
    "from unicodedata import normalize"
   ]
  },
  {
   "cell_type": "code",
   "execution_count": 2,
   "metadata": {},
   "outputs": [],
   "source": [
    "text = r.get('https://www.mg.superesportes.com.br/futebol/atletico-mg/').text"
   ]
  },
  {
   "cell_type": "code",
   "execution_count": 3,
   "metadata": {},
   "outputs": [],
   "source": [
    "html = BeautifulSoup(text)\n",
    "notices = []"
   ]
  },
  {
   "cell_type": "code",
   "execution_count": 4,
   "metadata": {},
   "outputs": [],
   "source": [
    "list_notices = html.find_all('div', class_='l-generic')"
   ]
  },
  {
   "cell_type": "code",
   "execution_count": 5,
   "metadata": {},
   "outputs": [],
   "source": [
    "for notice in list_notices:\n",
    "    if(notice.find_all('script') == []):\n",
    "        info_notice = []\n",
    "        info_notice.append(notice.find_all('p')[0].text)\n",
    "        info_notice.append(notice.find_all('p')[1].text)\n",
    "        info_notice.append(notice.find_all('b')[0].text)\n",
    "        info_notice.append(notice.find_all('time')[0].text)\n",
    "        info_notice.append(notice.find_all('a')[0]['href'])\n",
    "    \n",
    "        notices.append(info_notice)"
   ]
  },
  {
   "cell_type": "code",
   "execution_count": 6,
   "metadata": {},
   "outputs": [
    {
     "data": {
      "text/plain": [
       "18"
      ]
     },
     "execution_count": 6,
     "metadata": {},
     "output_type": "execute_result"
    }
   ],
   "source": [
    "len(notices)"
   ]
  },
  {
   "cell_type": "code",
   "execution_count": 7,
   "metadata": {},
   "outputs": [],
   "source": [
    "df_notices = pd.DataFrame(\n",
    "    notices,\n",
    "    columns=['titulo', 'descricao', 'categoria', 'data-hora-publicacao', 'link']\n",
    ")"
   ]
  },
  {
   "cell_type": "code",
   "execution_count": 8,
   "metadata": {},
   "outputs": [
    {
     "data": {
      "text/html": [
       "<div>\n",
       "<style scoped>\n",
       "    .dataframe tbody tr th:only-of-type {\n",
       "        vertical-align: middle;\n",
       "    }\n",
       "\n",
       "    .dataframe tbody tr th {\n",
       "        vertical-align: top;\n",
       "    }\n",
       "\n",
       "    .dataframe thead th {\n",
       "        text-align: right;\n",
       "    }\n",
       "</style>\n",
       "<table border=\"1\" class=\"dataframe\">\n",
       "  <thead>\n",
       "    <tr style=\"text-align: right;\">\n",
       "      <th></th>\n",
       "      <th>titulo</th>\n",
       "      <th>descricao</th>\n",
       "      <th>categoria</th>\n",
       "      <th>data-hora-publicacao</th>\n",
       "      <th>link</th>\n",
       "    </tr>\n",
       "  </thead>\n",
       "  <tbody>\n",
       "    <tr>\n",
       "      <th>0</th>\n",
       "      <td>Vitória do Atlético sobre Seleção Brasileira n...</td>\n",
       "      <td>Equipe alvinegra, com o uniforme vermelho da F...</td>\n",
       "      <td>ESPECIAL</td>\n",
       "      <td>03/09/2019 - 06:30</td>\n",
       "      <td>https://www.mg.superesportes.com.br/app/notici...</td>\n",
       "    </tr>\n",
       "    <tr>\n",
       "      <th>1</th>\n",
       "      <td>Com sete clubes, Campeonato Mineiro Feminino c...</td>\n",
       "      <td>Mineirão ou Independência receberá decisão do ...</td>\n",
       "      <td>CAMPEONATO MINEIRO FEMININIO DE FUTEBOL</td>\n",
       "      <td>02/09/2019 - 19:12</td>\n",
       "      <td>https://www.mg.superesportes.com.br/app/notici...</td>\n",
       "    </tr>\n",
       "    <tr>\n",
       "      <th>2</th>\n",
       "      <td>'Boa sorte para o Fábio', diz Kalil sobre poss...</td>\n",
       "      <td>Atleta do time celeste é cotado para ser candi...</td>\n",
       "      <td>PREFEITURA DE BH</td>\n",
       "      <td>02/09/2019 - 17:48</td>\n",
       "      <td>https://www.mg.superesportes.com.br/app/notici...</td>\n",
       "    </tr>\n",
       "    <tr>\n",
       "      <th>3</th>\n",
       "      <td>Ronaldinho Gaúcho e Assis têm pedido de libera...</td>\n",
       "      <td>Ex-craque está impedido de deixar o Brasil dev...</td>\n",
       "      <td>RONALDINHO GAÚCHO</td>\n",
       "      <td>02/09/2019 - 16:56</td>\n",
       "      <td>https://www.mg.superesportes.com.br/app/notici...</td>\n",
       "    </tr>\n",
       "    <tr>\n",
       "      <th>4</th>\n",
       "      <td>Atlético tenta contratação de Wilson, goleiro ...</td>\n",
       "      <td>Experiente jogador de 35 anos é reserva de Mur...</td>\n",
       "      <td>ATLÉTICO</td>\n",
       "      <td>02/09/2019 - 14:06</td>\n",
       "      <td>https://www.mg.superesportes.com.br/app/notici...</td>\n",
       "    </tr>\n",
       "  </tbody>\n",
       "</table>\n",
       "</div>"
      ],
      "text/plain": [
       "                                              titulo  \\\n",
       "0  Vitória do Atlético sobre Seleção Brasileira n...   \n",
       "1  Com sete clubes, Campeonato Mineiro Feminino c...   \n",
       "2  'Boa sorte para o Fábio', diz Kalil sobre poss...   \n",
       "3  Ronaldinho Gaúcho e Assis têm pedido de libera...   \n",
       "4  Atlético tenta contratação de Wilson, goleiro ...   \n",
       "\n",
       "                                           descricao  \\\n",
       "0  Equipe alvinegra, com o uniforme vermelho da F...   \n",
       "1  Mineirão ou Independência receberá decisão do ...   \n",
       "2  Atleta do time celeste é cotado para ser candi...   \n",
       "3  Ex-craque está impedido de deixar o Brasil dev...   \n",
       "4  Experiente jogador de 35 anos é reserva de Mur...   \n",
       "\n",
       "                                 categoria data-hora-publicacao  \\\n",
       "0                                 ESPECIAL   03/09/2019 - 06:30   \n",
       "1  CAMPEONATO MINEIRO FEMININIO DE FUTEBOL   02/09/2019 - 19:12   \n",
       "2                         PREFEITURA DE BH   02/09/2019 - 17:48   \n",
       "3                        RONALDINHO GAÚCHO   02/09/2019 - 16:56   \n",
       "4                                 ATLÉTICO   02/09/2019 - 14:06   \n",
       "\n",
       "                                                link  \n",
       "0  https://www.mg.superesportes.com.br/app/notici...  \n",
       "1  https://www.mg.superesportes.com.br/app/notici...  \n",
       "2  https://www.mg.superesportes.com.br/app/notici...  \n",
       "3  https://www.mg.superesportes.com.br/app/notici...  \n",
       "4  https://www.mg.superesportes.com.br/app/notici...  "
      ]
     },
     "execution_count": 8,
     "metadata": {},
     "output_type": "execute_result"
    }
   ],
   "source": [
    "df_notices.head()"
   ]
  },
  {
   "cell_type": "code",
   "execution_count": 9,
   "metadata": {},
   "outputs": [
    {
     "data": {
      "text/plain": [
       "0    Vitória do Atlético sobre Seleção Brasileira n...\n",
       "1    Com sete clubes, Campeonato Mineiro Feminino c...\n",
       "2    'Boa sorte para o Fábio', diz Kalil sobre poss...\n",
       "3    Ronaldinho Gaúcho e Assis têm pedido de libera...\n",
       "4    Atlético tenta contratação de Wilson, goleiro ...\n",
       "Name: doc, dtype: object"
      ]
     },
     "execution_count": 9,
     "metadata": {},
     "output_type": "execute_result"
    }
   ],
   "source": [
    "df_notices['doc'] = df_notices.apply(lambda row : row['titulo'] + row['descricao'], axis=1)\n",
    "df_notices['doc'].head()"
   ]
  },
  {
   "cell_type": "code",
   "execution_count": 10,
   "metadata": {},
   "outputs": [],
   "source": [
    "numbers = '0123456789'\n",
    "stopwords = nltk.corpus.stopwords.words('portuguese')\n",
    "\n",
    "def preprocessa(txt):\n",
    "    txt = txt.lower()\n",
    "    txt = ''.join([c for c in txt if c not in punctuation + numbers])\n",
    "    txt = ' '.join([t for t in txt.split(' ') if t not in stopwords])\n",
    "    txt = normalize('NFKD', txt).encode('ASCII', 'ignore').decode('utf-8')\n",
    "    \n",
    "    \n",
    "    return txt"
   ]
  },
  {
   "cell_type": "code",
   "execution_count": 11,
   "metadata": {},
   "outputs": [],
   "source": [
    "df_notices['doc'] = df_notices['doc'].apply(preprocessa)"
   ]
  },
  {
   "cell_type": "code",
   "execution_count": 12,
   "metadata": {},
   "outputs": [
    {
     "data": {
      "text/html": [
       "<div>\n",
       "<style scoped>\n",
       "    .dataframe tbody tr th:only-of-type {\n",
       "        vertical-align: middle;\n",
       "    }\n",
       "\n",
       "    .dataframe tbody tr th {\n",
       "        vertical-align: top;\n",
       "    }\n",
       "\n",
       "    .dataframe thead th {\n",
       "        text-align: right;\n",
       "    }\n",
       "</style>\n",
       "<table border=\"1\" class=\"dataframe\">\n",
       "  <thead>\n",
       "    <tr style=\"text-align: right;\">\n",
       "      <th></th>\n",
       "      <th>titulo</th>\n",
       "      <th>descricao</th>\n",
       "      <th>categoria</th>\n",
       "      <th>data-hora-publicacao</th>\n",
       "      <th>link</th>\n",
       "      <th>doc</th>\n",
       "    </tr>\n",
       "  </thead>\n",
       "  <tbody>\n",
       "    <tr>\n",
       "      <th>0</th>\n",
       "      <td>Vitória do Atlético sobre Seleção Brasileira n...</td>\n",
       "      <td>Equipe alvinegra, com o uniforme vermelho da F...</td>\n",
       "      <td>ESPECIAL</td>\n",
       "      <td>03/09/2019 - 06:30</td>\n",
       "      <td>https://www.mg.superesportes.com.br/app/notici...</td>\n",
       "      <td>vitoria atletico sobre selecao brasileira mine...</td>\n",
       "    </tr>\n",
       "    <tr>\n",
       "      <th>1</th>\n",
       "      <td>Com sete clubes, Campeonato Mineiro Feminino c...</td>\n",
       "      <td>Mineirão ou Independência receberá decisão do ...</td>\n",
       "      <td>CAMPEONATO MINEIRO FEMININIO DE FUTEBOL</td>\n",
       "      <td>02/09/2019 - 19:12</td>\n",
       "      <td>https://www.mg.superesportes.com.br/app/notici...</td>\n",
       "      <td>sete clubes campeonato mineiro feminino comeca...</td>\n",
       "    </tr>\n",
       "    <tr>\n",
       "      <th>2</th>\n",
       "      <td>'Boa sorte para o Fábio', diz Kalil sobre poss...</td>\n",
       "      <td>Atleta do time celeste é cotado para ser candi...</td>\n",
       "      <td>PREFEITURA DE BH</td>\n",
       "      <td>02/09/2019 - 17:48</td>\n",
       "      <td>https://www.mg.superesportes.com.br/app/notici...</td>\n",
       "      <td>boa sorte fabio diz kalil sobre possivel candi...</td>\n",
       "    </tr>\n",
       "    <tr>\n",
       "      <th>3</th>\n",
       "      <td>Ronaldinho Gaúcho e Assis têm pedido de libera...</td>\n",
       "      <td>Ex-craque está impedido de deixar o Brasil dev...</td>\n",
       "      <td>RONALDINHO GAÚCHO</td>\n",
       "      <td>02/09/2019 - 16:56</td>\n",
       "      <td>https://www.mg.superesportes.com.br/app/notici...</td>\n",
       "      <td>ronaldinho gaucho assis tem pedido liberacao p...</td>\n",
       "    </tr>\n",
       "    <tr>\n",
       "      <th>4</th>\n",
       "      <td>Atlético tenta contratação de Wilson, goleiro ...</td>\n",
       "      <td>Experiente jogador de 35 anos é reserva de Mur...</td>\n",
       "      <td>ATLÉTICO</td>\n",
       "      <td>02/09/2019 - 14:06</td>\n",
       "      <td>https://www.mg.superesportes.com.br/app/notici...</td>\n",
       "      <td>atletico tenta contratacao wilson goleiro cori...</td>\n",
       "    </tr>\n",
       "  </tbody>\n",
       "</table>\n",
       "</div>"
      ],
      "text/plain": [
       "                                              titulo  \\\n",
       "0  Vitória do Atlético sobre Seleção Brasileira n...   \n",
       "1  Com sete clubes, Campeonato Mineiro Feminino c...   \n",
       "2  'Boa sorte para o Fábio', diz Kalil sobre poss...   \n",
       "3  Ronaldinho Gaúcho e Assis têm pedido de libera...   \n",
       "4  Atlético tenta contratação de Wilson, goleiro ...   \n",
       "\n",
       "                                           descricao  \\\n",
       "0  Equipe alvinegra, com o uniforme vermelho da F...   \n",
       "1  Mineirão ou Independência receberá decisão do ...   \n",
       "2  Atleta do time celeste é cotado para ser candi...   \n",
       "3  Ex-craque está impedido de deixar o Brasil dev...   \n",
       "4  Experiente jogador de 35 anos é reserva de Mur...   \n",
       "\n",
       "                                 categoria data-hora-publicacao  \\\n",
       "0                                 ESPECIAL   03/09/2019 - 06:30   \n",
       "1  CAMPEONATO MINEIRO FEMININIO DE FUTEBOL   02/09/2019 - 19:12   \n",
       "2                         PREFEITURA DE BH   02/09/2019 - 17:48   \n",
       "3                        RONALDINHO GAÚCHO   02/09/2019 - 16:56   \n",
       "4                                 ATLÉTICO   02/09/2019 - 14:06   \n",
       "\n",
       "                                                link  \\\n",
       "0  https://www.mg.superesportes.com.br/app/notici...   \n",
       "1  https://www.mg.superesportes.com.br/app/notici...   \n",
       "2  https://www.mg.superesportes.com.br/app/notici...   \n",
       "3  https://www.mg.superesportes.com.br/app/notici...   \n",
       "4  https://www.mg.superesportes.com.br/app/notici...   \n",
       "\n",
       "                                                 doc  \n",
       "0  vitoria atletico sobre selecao brasileira mine...  \n",
       "1  sete clubes campeonato mineiro feminino comeca...  \n",
       "2  boa sorte fabio diz kalil sobre possivel candi...  \n",
       "3  ronaldinho gaucho assis tem pedido liberacao p...  \n",
       "4  atletico tenta contratacao wilson goleiro cori...  "
      ]
     },
     "execution_count": 12,
     "metadata": {},
     "output_type": "execute_result"
    }
   ],
   "source": [
    "df_notices.head()"
   ]
  },
  {
   "cell_type": "code",
   "execution_count": null,
   "metadata": {},
   "outputs": [],
   "source": []
  }
 ],
 "metadata": {
  "kernelspec": {
   "display_name": "Python 3",
   "language": "python",
   "name": "python3"
  },
  "language_info": {
   "codemirror_mode": {
    "name": "ipython",
    "version": 3
   },
   "file_extension": ".py",
   "mimetype": "text/x-python",
   "name": "python",
   "nbconvert_exporter": "python",
   "pygments_lexer": "ipython3",
   "version": "3.7.3"
  }
 },
 "nbformat": 4,
 "nbformat_minor": 2
}
