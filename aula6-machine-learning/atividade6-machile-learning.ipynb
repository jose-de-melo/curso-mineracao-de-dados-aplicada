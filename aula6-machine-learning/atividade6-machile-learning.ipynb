{
 "cells": [
  {
   "cell_type": "code",
   "execution_count": 44,
   "metadata": {},
   "outputs": [],
   "source": [
    "import pandas as pd\n",
    "from nltk import word_tokenize\n",
    "from unicodedata import normalize\n",
    "import nltk\n",
    "stopwords = nltk.corpus.stopwords.words('portuguese')\n",
    "from string import punctuation\n",
    "\n",
    "import warnings\n",
    "warnings.filterwarnings('ignore')"
   ]
  },
  {
   "cell_type": "code",
   "execution_count": 2,
   "metadata": {},
   "outputs": [],
   "source": [
    "def processa(txt):\n",
    "    punctuantion=punctuation+'0123456789'\n",
    "    txt = normalize('NFKD', txt).encode('ASCII', 'ignore').decode()\n",
    "    return ' '.join([t for t in word_tokenize(txt.lower()) if (t not in stopwords) and (t not in punctuation)])"
   ]
  },
  {
   "cell_type": "code",
   "execution_count": null,
   "metadata": {},
   "outputs": [],
   "source": []
  },
  {
   "cell_type": "code",
   "execution_count": null,
   "metadata": {},
   "outputs": [],
   "source": []
  },
  {
   "cell_type": "code",
   "execution_count": 3,
   "metadata": {},
   "outputs": [
    {
     "data": {
      "text/plain": [
       "(2000, 5)"
      ]
     },
     "execution_count": 3,
     "metadata": {},
     "output_type": "execute_result"
    }
   ],
   "source": [
    "df_esportes = pd.read_csv('data/noticias_esportes.csv', nrows=2000)\n",
    "\n",
    "df_esportes.shape"
   ]
  },
  {
   "cell_type": "code",
   "execution_count": 4,
   "metadata": {},
   "outputs": [
    {
     "data": {
      "text/plain": [
       "(1954, 2)"
      ]
     },
     "execution_count": 4,
     "metadata": {},
     "output_type": "execute_result"
    }
   ],
   "source": [
    "df_gizmodo = pd.read_csv('data/noticias_gizmodo.csv')\n",
    "\n",
    "df_gizmodo.shape"
   ]
  },
  {
   "cell_type": "code",
   "execution_count": 5,
   "metadata": {},
   "outputs": [
    {
     "data": {
      "text/html": [
       "<div>\n",
       "<style scoped>\n",
       "    .dataframe tbody tr th:only-of-type {\n",
       "        vertical-align: middle;\n",
       "    }\n",
       "\n",
       "    .dataframe tbody tr th {\n",
       "        vertical-align: top;\n",
       "    }\n",
       "\n",
       "    .dataframe thead th {\n",
       "        text-align: right;\n",
       "    }\n",
       "</style>\n",
       "<table border=\"1\" class=\"dataframe\">\n",
       "  <thead>\n",
       "    <tr style=\"text-align: right;\">\n",
       "      <th></th>\n",
       "      <th>titulo</th>\n",
       "      <th>subtitulo</th>\n",
       "      <th>conteudo</th>\n",
       "      <th>link</th>\n",
       "      <th>target</th>\n",
       "    </tr>\n",
       "  </thead>\n",
       "  <tbody>\n",
       "    <tr>\n",
       "      <th>0</th>\n",
       "      <td>Carona com Deyverson: atacante do Palmeiras ab...</td>\n",
       "      <td>Autor do gol do décimo título brasileiro do Ve...</td>\n",
       "      <td>Deyverson foi o convidado do quadro \"Carona co...</td>\n",
       "      <td>https://globoesporte.globo.com/futebol/times/p...</td>\n",
       "      <td>1</td>\n",
       "    </tr>\n",
       "    <tr>\n",
       "      <th>1</th>\n",
       "      <td>River x Boca: final da Libertadores em Madri t...</td>\n",
       "      <td>Até véspera do anúncio, Doha era favorita para...</td>\n",
       "      <td>Um telefonema na manhã de quinta-feira entre o...</td>\n",
       "      <td>https://globoesporte.globo.com/futebol/liberta...</td>\n",
       "      <td>1</td>\n",
       "    </tr>\n",
       "    <tr>\n",
       "      <th>2</th>\n",
       "      <td>E-Brasileirão 2018</td>\n",
       "      <td>Assista ao vivo à fase final do campeonato de ...</td>\n",
       "      <td>NaN</td>\n",
       "      <td>https://sportv.globo.com/site/e-sportv/ao-vivo...</td>\n",
       "      <td>1</td>\n",
       "    </tr>\n",
       "    <tr>\n",
       "      <th>3</th>\n",
       "      <td>Inauguração de estátua de Renato Gaúcho no Grê...</td>\n",
       "      <td>Previsão para conclusão era 15 de setembro, ma...</td>\n",
       "      <td>Renato Gaúcho acertou sua renovação de contrat...</td>\n",
       "      <td>https://globoesporte.globo.com/rs/futebol/time...</td>\n",
       "      <td>1</td>\n",
       "    </tr>\n",
       "    <tr>\n",
       "      <th>4</th>\n",
       "      <td>Zagallo visita novo CT do Flamengo antes de in...</td>\n",
       "      <td>Ex-técnico do Flamengo e da seleção brasileira...</td>\n",
       "      <td>Zagallo \"furou\" a festa e foi o primeiro a con...</td>\n",
       "      <td>https://globoesporte.globo.com/futebol/times/f...</td>\n",
       "      <td>1</td>\n",
       "    </tr>\n",
       "  </tbody>\n",
       "</table>\n",
       "</div>"
      ],
      "text/plain": [
       "                                              titulo  \\\n",
       "0  Carona com Deyverson: atacante do Palmeiras ab...   \n",
       "1  River x Boca: final da Libertadores em Madri t...   \n",
       "2                                 E-Brasileirão 2018   \n",
       "3  Inauguração de estátua de Renato Gaúcho no Grê...   \n",
       "4  Zagallo visita novo CT do Flamengo antes de in...   \n",
       "\n",
       "                                           subtitulo  \\\n",
       "0  Autor do gol do décimo título brasileiro do Ve...   \n",
       "1  Até véspera do anúncio, Doha era favorita para...   \n",
       "2  Assista ao vivo à fase final do campeonato de ...   \n",
       "3  Previsão para conclusão era 15 de setembro, ma...   \n",
       "4  Ex-técnico do Flamengo e da seleção brasileira...   \n",
       "\n",
       "                                            conteudo  \\\n",
       "0  Deyverson foi o convidado do quadro \"Carona co...   \n",
       "1  Um telefonema na manhã de quinta-feira entre o...   \n",
       "2                                                NaN   \n",
       "3  Renato Gaúcho acertou sua renovação de contrat...   \n",
       "4  Zagallo \"furou\" a festa e foi o primeiro a con...   \n",
       "\n",
       "                                                link  target  \n",
       "0  https://globoesporte.globo.com/futebol/times/p...       1  \n",
       "1  https://globoesporte.globo.com/futebol/liberta...       1  \n",
       "2  https://sportv.globo.com/site/e-sportv/ao-vivo...       1  \n",
       "3  https://globoesporte.globo.com/rs/futebol/time...       1  \n",
       "4  https://globoesporte.globo.com/futebol/times/f...       1  "
      ]
     },
     "execution_count": 5,
     "metadata": {},
     "output_type": "execute_result"
    }
   ],
   "source": [
    "df_esportes.head()"
   ]
  },
  {
   "cell_type": "code",
   "execution_count": 6,
   "metadata": {},
   "outputs": [],
   "source": [
    "df_esportes = df_esportes.dropna()"
   ]
  },
  {
   "cell_type": "code",
   "execution_count": 7,
   "metadata": {},
   "outputs": [],
   "source": [
    "df_esportes['noticia'] = df_esportes['titulo'] + ' ' + df_esportes['conteudo']"
   ]
  },
  {
   "cell_type": "code",
   "execution_count": 8,
   "metadata": {},
   "outputs": [
    {
     "data": {
      "text/html": [
       "<div>\n",
       "<style scoped>\n",
       "    .dataframe tbody tr th:only-of-type {\n",
       "        vertical-align: middle;\n",
       "    }\n",
       "\n",
       "    .dataframe tbody tr th {\n",
       "        vertical-align: top;\n",
       "    }\n",
       "\n",
       "    .dataframe thead th {\n",
       "        text-align: right;\n",
       "    }\n",
       "</style>\n",
       "<table border=\"1\" class=\"dataframe\">\n",
       "  <thead>\n",
       "    <tr style=\"text-align: right;\">\n",
       "      <th></th>\n",
       "      <th>noticia</th>\n",
       "      <th>target</th>\n",
       "    </tr>\n",
       "  </thead>\n",
       "  <tbody>\n",
       "    <tr>\n",
       "      <th>0</th>\n",
       "      <td>5 detalhes para ficar de olho nas especificaçõ...</td>\n",
       "      <td>0</td>\n",
       "    </tr>\n",
       "    <tr>\n",
       "      <th>1</th>\n",
       "      <td>O que é matéria escura e por que ninguém a enc...</td>\n",
       "      <td>0</td>\n",
       "    </tr>\n",
       "    <tr>\n",
       "      <th>2</th>\n",
       "      <td>Chimpanzés podem ser manipuladores assim como ...</td>\n",
       "      <td>0</td>\n",
       "    </tr>\n",
       "    <tr>\n",
       "      <th>3</th>\n",
       "      <td>[Review] Headphones Surface, da Microsoft, são...</td>\n",
       "      <td>0</td>\n",
       "    </tr>\n",
       "    <tr>\n",
       "      <th>4</th>\n",
       "      <td>Estados Unidos pedem que governos aliados não ...</td>\n",
       "      <td>0</td>\n",
       "    </tr>\n",
       "  </tbody>\n",
       "</table>\n",
       "</div>"
      ],
      "text/plain": [
       "                                             noticia  target\n",
       "0  5 detalhes para ficar de olho nas especificaçõ...       0\n",
       "1  O que é matéria escura e por que ninguém a enc...       0\n",
       "2  Chimpanzés podem ser manipuladores assim como ...       0\n",
       "3  [Review] Headphones Surface, da Microsoft, são...       0\n",
       "4  Estados Unidos pedem que governos aliados não ...       0"
      ]
     },
     "execution_count": 8,
     "metadata": {},
     "output_type": "execute_result"
    }
   ],
   "source": [
    "df_gizmodo.head()"
   ]
  },
  {
   "cell_type": "code",
   "execution_count": 9,
   "metadata": {},
   "outputs": [],
   "source": [
    "df_all = pd.concat([df_esportes, df_gizmodo], axis=0,join='inner')"
   ]
  },
  {
   "cell_type": "code",
   "execution_count": 10,
   "metadata": {},
   "outputs": [
    {
     "data": {
      "text/html": [
       "<div>\n",
       "<style scoped>\n",
       "    .dataframe tbody tr th:only-of-type {\n",
       "        vertical-align: middle;\n",
       "    }\n",
       "\n",
       "    .dataframe tbody tr th {\n",
       "        vertical-align: top;\n",
       "    }\n",
       "\n",
       "    .dataframe thead th {\n",
       "        text-align: right;\n",
       "    }\n",
       "</style>\n",
       "<table border=\"1\" class=\"dataframe\">\n",
       "  <thead>\n",
       "    <tr style=\"text-align: right;\">\n",
       "      <th></th>\n",
       "      <th>target</th>\n",
       "      <th>noticia</th>\n",
       "    </tr>\n",
       "  </thead>\n",
       "  <tbody>\n",
       "    <tr>\n",
       "      <th>0</th>\n",
       "      <td>1</td>\n",
       "      <td>Carona com Deyverson: atacante do Palmeiras ab...</td>\n",
       "    </tr>\n",
       "    <tr>\n",
       "      <th>0</th>\n",
       "      <td>0</td>\n",
       "      <td>5 detalhes para ficar de olho nas especificaçõ...</td>\n",
       "    </tr>\n",
       "    <tr>\n",
       "      <th>1</th>\n",
       "      <td>0</td>\n",
       "      <td>O que é matéria escura e por que ninguém a enc...</td>\n",
       "    </tr>\n",
       "    <tr>\n",
       "      <th>1</th>\n",
       "      <td>1</td>\n",
       "      <td>River x Boca: final da Libertadores em Madri t...</td>\n",
       "    </tr>\n",
       "    <tr>\n",
       "      <th>2</th>\n",
       "      <td>0</td>\n",
       "      <td>Chimpanzés podem ser manipuladores assim como ...</td>\n",
       "    </tr>\n",
       "    <tr>\n",
       "      <th>3</th>\n",
       "      <td>1</td>\n",
       "      <td>Inauguração de estátua de Renato Gaúcho no Grê...</td>\n",
       "    </tr>\n",
       "    <tr>\n",
       "      <th>3</th>\n",
       "      <td>0</td>\n",
       "      <td>[Review] Headphones Surface, da Microsoft, são...</td>\n",
       "    </tr>\n",
       "    <tr>\n",
       "      <th>4</th>\n",
       "      <td>1</td>\n",
       "      <td>Zagallo visita novo CT do Flamengo antes de in...</td>\n",
       "    </tr>\n",
       "    <tr>\n",
       "      <th>4</th>\n",
       "      <td>0</td>\n",
       "      <td>Estados Unidos pedem que governos aliados não ...</td>\n",
       "    </tr>\n",
       "    <tr>\n",
       "      <th>5</th>\n",
       "      <td>0</td>\n",
       "      <td>Ver o lançamento de um foguete do ponto de vis...</td>\n",
       "    </tr>\n",
       "    <tr>\n",
       "      <th>5</th>\n",
       "      <td>1</td>\n",
       "      <td>Palmeiras anuncia contratação de Arthur Cabral...</td>\n",
       "    </tr>\n",
       "    <tr>\n",
       "      <th>6</th>\n",
       "      <td>0</td>\n",
       "      <td>Os melhores apps da semana para Android\\r\\n\\r\\...</td>\n",
       "    </tr>\n",
       "    <tr>\n",
       "      <th>6</th>\n",
       "      <td>1</td>\n",
       "      <td>São Paulo busca novo coordenador de futebol pa...</td>\n",
       "    </tr>\n",
       "    <tr>\n",
       "      <th>7</th>\n",
       "      <td>0</td>\n",
       "      <td>Os melhores apps da semana para iPad e iPhone\\...</td>\n",
       "    </tr>\n",
       "    <tr>\n",
       "      <th>7</th>\n",
       "      <td>1</td>\n",
       "      <td>Emerson Sheik é homenageado no Corinthians, fa...</td>\n",
       "    </tr>\n",
       "    <tr>\n",
       "      <th>8</th>\n",
       "      <td>0</td>\n",
       "      <td>Qualcomm deve anunciar seu novo processador pa...</td>\n",
       "    </tr>\n",
       "    <tr>\n",
       "      <th>8</th>\n",
       "      <td>1</td>\n",
       "      <td>Informes de inteligência revelam brigas marcad...</td>\n",
       "    </tr>\n",
       "    <tr>\n",
       "      <th>9</th>\n",
       "      <td>0</td>\n",
       "      <td>App de localização de smartphones Android vai ...</td>\n",
       "    </tr>\n",
       "    <tr>\n",
       "      <th>9</th>\n",
       "      <td>1</td>\n",
       "      <td>Solari espera desfecho digno de River x Boca, ...</td>\n",
       "    </tr>\n",
       "    <tr>\n",
       "      <th>10</th>\n",
       "      <td>0</td>\n",
       "      <td>Ministério Público vai investigar vazamento de...</td>\n",
       "    </tr>\n",
       "    <tr>\n",
       "      <th>10</th>\n",
       "      <td>1</td>\n",
       "      <td>Morumbi receberá mais jogos do que previsto na...</td>\n",
       "    </tr>\n",
       "    <tr>\n",
       "      <th>11</th>\n",
       "      <td>0</td>\n",
       "      <td>Já é Black Friday! Em parceria com o Gizmodo B...</td>\n",
       "    </tr>\n",
       "    <tr>\n",
       "      <th>11</th>\n",
       "      <td>1</td>\n",
       "      <td>Em despedida, Zé Rafael provoca, elege gols ma...</td>\n",
       "    </tr>\n",
       "    <tr>\n",
       "      <th>12</th>\n",
       "      <td>0</td>\n",
       "      <td>Pedregulhos saltitantes podem ser a explicação...</td>\n",
       "    </tr>\n",
       "    <tr>\n",
       "      <th>12</th>\n",
       "      <td>1</td>\n",
       "      <td>Calouro sensação brilha diante de astros da NB...</td>\n",
       "    </tr>\n",
       "    <tr>\n",
       "      <th>13</th>\n",
       "      <td>0</td>\n",
       "      <td>Apple teria retomado produção do iPhone X depo...</td>\n",
       "    </tr>\n",
       "    <tr>\n",
       "      <th>13</th>\n",
       "      <td>1</td>\n",
       "      <td>Rafael dos Anjos e Kamaru Usman buscam chance ...</td>\n",
       "    </tr>\n",
       "    <tr>\n",
       "      <th>14</th>\n",
       "      <td>1</td>\n",
       "      <td>Chegou a hora: em casa, seleção brasileira de ...</td>\n",
       "    </tr>\n",
       "    <tr>\n",
       "      <th>14</th>\n",
       "      <td>0</td>\n",
       "      <td>NASA enfim marca teste de voo de espaçonave da...</td>\n",
       "    </tr>\n",
       "    <tr>\n",
       "      <th>15</th>\n",
       "      <td>1</td>\n",
       "      <td>Firmino completa 400 jogos como profissional n...</td>\n",
       "    </tr>\n",
       "    <tr>\n",
       "      <th>...</th>\n",
       "      <td>...</td>\n",
       "      <td>...</td>\n",
       "    </tr>\n",
       "    <tr>\n",
       "      <th>1970</th>\n",
       "      <td>1</td>\n",
       "      <td>Paratleta revela amizade mexida com ex-BBB: \"A...</td>\n",
       "    </tr>\n",
       "    <tr>\n",
       "      <th>1971</th>\n",
       "      <td>1</td>\n",
       "      <td>Felipão gira elenco entre Brasileiro e copas, ...</td>\n",
       "    </tr>\n",
       "    <tr>\n",
       "      <th>1972</th>\n",
       "      <td>1</td>\n",
       "      <td>\"Vai Encarar?\" entra no clima da canoa havaian...</td>\n",
       "    </tr>\n",
       "    <tr>\n",
       "      <th>1973</th>\n",
       "      <td>1</td>\n",
       "      <td>Ipatinga Tigres encara Inconfidentes pela Copa...</td>\n",
       "    </tr>\n",
       "    <tr>\n",
       "      <th>1974</th>\n",
       "      <td>1</td>\n",
       "      <td>Final do Campeonato Rural acontece neste domin...</td>\n",
       "    </tr>\n",
       "    <tr>\n",
       "      <th>1975</th>\n",
       "      <td>1</td>\n",
       "      <td>Ponte evita pensar no CSA: \"Se quer uma coisa ...</td>\n",
       "    </tr>\n",
       "    <tr>\n",
       "      <th>1976</th>\n",
       "      <td>1</td>\n",
       "      <td>Hamilton lidera último treino livre do ano; em...</td>\n",
       "    </tr>\n",
       "    <tr>\n",
       "      <th>1977</th>\n",
       "      <td>1</td>\n",
       "      <td>Opinião: uma saudade chamada Portuguesa Logo c...</td>\n",
       "    </tr>\n",
       "    <tr>\n",
       "      <th>1978</th>\n",
       "      <td>1</td>\n",
       "      <td>Leston se esquiva sobre nomes para Santa Cruz,...</td>\n",
       "    </tr>\n",
       "    <tr>\n",
       "      <th>1979</th>\n",
       "      <td>1</td>\n",
       "      <td>No Náutico, integração do Sub-17 ao elenco é t...</td>\n",
       "    </tr>\n",
       "    <tr>\n",
       "      <th>1980</th>\n",
       "      <td>1</td>\n",
       "      <td>De volta ao Z-4, Sport segue positivo quanto a...</td>\n",
       "    </tr>\n",
       "    <tr>\n",
       "      <th>1981</th>\n",
       "      <td>1</td>\n",
       "      <td>Dado promete Paraná diferente e com estilo ofe...</td>\n",
       "    </tr>\n",
       "    <tr>\n",
       "      <th>1982</th>\n",
       "      <td>1</td>\n",
       "      <td>Damião, Maidana e Matheus Fernandes estão fora...</td>\n",
       "    </tr>\n",
       "    <tr>\n",
       "      <th>1983</th>\n",
       "      <td>1</td>\n",
       "      <td>Conselho Deliberativo do Vasco aprova adequaçõ...</td>\n",
       "    </tr>\n",
       "    <tr>\n",
       "      <th>1984</th>\n",
       "      <td>1</td>\n",
       "      <td>Sesi-SP vence o Vôlei Suzano novamente e vai à...</td>\n",
       "    </tr>\n",
       "    <tr>\n",
       "      <th>1985</th>\n",
       "      <td>1</td>\n",
       "      <td>Rafaela Silva perde na estreia, e Brasil volta...</td>\n",
       "    </tr>\n",
       "    <tr>\n",
       "      <th>1986</th>\n",
       "      <td>1</td>\n",
       "      <td>Sheik convida Caruzzo, vítima de mordida em 20...</td>\n",
       "    </tr>\n",
       "    <tr>\n",
       "      <th>1987</th>\n",
       "      <td>1</td>\n",
       "      <td>Ribeirão Preto escala jogador irregular e é el...</td>\n",
       "    </tr>\n",
       "    <tr>\n",
       "      <th>1988</th>\n",
       "      <td>1</td>\n",
       "      <td>Série B do Brasileiro define neste sábado mais...</td>\n",
       "    </tr>\n",
       "    <tr>\n",
       "      <th>1989</th>\n",
       "      <td>1</td>\n",
       "      <td>Elite do hipismo nacional se reúne no Rio e di...</td>\n",
       "    </tr>\n",
       "    <tr>\n",
       "      <th>1990</th>\n",
       "      <td>1</td>\n",
       "      <td>Exercício Funcional para todos os esportes Sab...</td>\n",
       "    </tr>\n",
       "    <tr>\n",
       "      <th>1991</th>\n",
       "      <td>1</td>\n",
       "      <td>Bota-PB x Fortaleza: eliminado, Belo recebe o ...</td>\n",
       "    </tr>\n",
       "    <tr>\n",
       "      <th>1992</th>\n",
       "      <td>1</td>\n",
       "      <td>Rivais e família: pai e filho dividem pódios e...</td>\n",
       "    </tr>\n",
       "    <tr>\n",
       "      <th>1993</th>\n",
       "      <td>1</td>\n",
       "      <td>Autor de gol do São Paulo na final do Brasilei...</td>\n",
       "    </tr>\n",
       "    <tr>\n",
       "      <th>1994</th>\n",
       "      <td>1</td>\n",
       "      <td>Sem gol há três anos, Argel sugere que atacant...</td>\n",
       "    </tr>\n",
       "    <tr>\n",
       "      <th>1995</th>\n",
       "      <td>1</td>\n",
       "      <td>Decisivo, Leandro Pereira é responsável por me...</td>\n",
       "    </tr>\n",
       "    <tr>\n",
       "      <th>1996</th>\n",
       "      <td>1</td>\n",
       "      <td>Coração pulsando! Imprensa argentina repercute...</td>\n",
       "    </tr>\n",
       "    <tr>\n",
       "      <th>1997</th>\n",
       "      <td>1</td>\n",
       "      <td>Na caça aos líderes da Superliga, Taubaté visi...</td>\n",
       "    </tr>\n",
       "    <tr>\n",
       "      <th>1998</th>\n",
       "      <td>1</td>\n",
       "      <td>Após transplante de pulmão e longa internação,...</td>\n",
       "    </tr>\n",
       "    <tr>\n",
       "      <th>1999</th>\n",
       "      <td>1</td>\n",
       "      <td>Boa Esporte x Oeste: tudo o que você precisa s...</td>\n",
       "    </tr>\n",
       "  </tbody>\n",
       "</table>\n",
       "<p>3949 rows × 2 columns</p>\n",
       "</div>"
      ],
      "text/plain": [
       "      target                                            noticia\n",
       "0          1  Carona com Deyverson: atacante do Palmeiras ab...\n",
       "0          0  5 detalhes para ficar de olho nas especificaçõ...\n",
       "1          0  O que é matéria escura e por que ninguém a enc...\n",
       "1          1  River x Boca: final da Libertadores em Madri t...\n",
       "2          0  Chimpanzés podem ser manipuladores assim como ...\n",
       "3          1  Inauguração de estátua de Renato Gaúcho no Grê...\n",
       "3          0  [Review] Headphones Surface, da Microsoft, são...\n",
       "4          1  Zagallo visita novo CT do Flamengo antes de in...\n",
       "4          0  Estados Unidos pedem que governos aliados não ...\n",
       "5          0  Ver o lançamento de um foguete do ponto de vis...\n",
       "5          1  Palmeiras anuncia contratação de Arthur Cabral...\n",
       "6          0  Os melhores apps da semana para Android\\r\\n\\r\\...\n",
       "6          1  São Paulo busca novo coordenador de futebol pa...\n",
       "7          0  Os melhores apps da semana para iPad e iPhone\\...\n",
       "7          1  Emerson Sheik é homenageado no Corinthians, fa...\n",
       "8          0  Qualcomm deve anunciar seu novo processador pa...\n",
       "8          1  Informes de inteligência revelam brigas marcad...\n",
       "9          0  App de localização de smartphones Android vai ...\n",
       "9          1  Solari espera desfecho digno de River x Boca, ...\n",
       "10         0  Ministério Público vai investigar vazamento de...\n",
       "10         1  Morumbi receberá mais jogos do que previsto na...\n",
       "11         0  Já é Black Friday! Em parceria com o Gizmodo B...\n",
       "11         1  Em despedida, Zé Rafael provoca, elege gols ma...\n",
       "12         0  Pedregulhos saltitantes podem ser a explicação...\n",
       "12         1  Calouro sensação brilha diante de astros da NB...\n",
       "13         0  Apple teria retomado produção do iPhone X depo...\n",
       "13         1  Rafael dos Anjos e Kamaru Usman buscam chance ...\n",
       "14         1  Chegou a hora: em casa, seleção brasileira de ...\n",
       "14         0  NASA enfim marca teste de voo de espaçonave da...\n",
       "15         1  Firmino completa 400 jogos como profissional n...\n",
       "...      ...                                                ...\n",
       "1970       1  Paratleta revela amizade mexida com ex-BBB: \"A...\n",
       "1971       1  Felipão gira elenco entre Brasileiro e copas, ...\n",
       "1972       1  \"Vai Encarar?\" entra no clima da canoa havaian...\n",
       "1973       1  Ipatinga Tigres encara Inconfidentes pela Copa...\n",
       "1974       1  Final do Campeonato Rural acontece neste domin...\n",
       "1975       1  Ponte evita pensar no CSA: \"Se quer uma coisa ...\n",
       "1976       1  Hamilton lidera último treino livre do ano; em...\n",
       "1977       1  Opinião: uma saudade chamada Portuguesa Logo c...\n",
       "1978       1  Leston se esquiva sobre nomes para Santa Cruz,...\n",
       "1979       1  No Náutico, integração do Sub-17 ao elenco é t...\n",
       "1980       1  De volta ao Z-4, Sport segue positivo quanto a...\n",
       "1981       1  Dado promete Paraná diferente e com estilo ofe...\n",
       "1982       1  Damião, Maidana e Matheus Fernandes estão fora...\n",
       "1983       1  Conselho Deliberativo do Vasco aprova adequaçõ...\n",
       "1984       1  Sesi-SP vence o Vôlei Suzano novamente e vai à...\n",
       "1985       1  Rafaela Silva perde na estreia, e Brasil volta...\n",
       "1986       1  Sheik convida Caruzzo, vítima de mordida em 20...\n",
       "1987       1  Ribeirão Preto escala jogador irregular e é el...\n",
       "1988       1  Série B do Brasileiro define neste sábado mais...\n",
       "1989       1  Elite do hipismo nacional se reúne no Rio e di...\n",
       "1990       1  Exercício Funcional para todos os esportes Sab...\n",
       "1991       1  Bota-PB x Fortaleza: eliminado, Belo recebe o ...\n",
       "1992       1  Rivais e família: pai e filho dividem pódios e...\n",
       "1993       1  Autor de gol do São Paulo na final do Brasilei...\n",
       "1994       1  Sem gol há três anos, Argel sugere que atacant...\n",
       "1995       1  Decisivo, Leandro Pereira é responsável por me...\n",
       "1996       1  Coração pulsando! Imprensa argentina repercute...\n",
       "1997       1  Na caça aos líderes da Superliga, Taubaté visi...\n",
       "1998       1  Após transplante de pulmão e longa internação,...\n",
       "1999       1  Boa Esporte x Oeste: tudo o que você precisa s...\n",
       "\n",
       "[3949 rows x 2 columns]"
      ]
     },
     "execution_count": 10,
     "metadata": {},
     "output_type": "execute_result"
    }
   ],
   "source": [
    "df_all.sort_index()"
   ]
  },
  {
   "cell_type": "code",
   "execution_count": 11,
   "metadata": {},
   "outputs": [],
   "source": [
    "df_all = df_all.sort_index()"
   ]
  },
  {
   "cell_type": "code",
   "execution_count": 45,
   "metadata": {},
   "outputs": [
    {
     "data": {
      "text/html": [
       "<div>\n",
       "<style scoped>\n",
       "    .dataframe tbody tr th:only-of-type {\n",
       "        vertical-align: middle;\n",
       "    }\n",
       "\n",
       "    .dataframe tbody tr th {\n",
       "        vertical-align: top;\n",
       "    }\n",
       "\n",
       "    .dataframe thead th {\n",
       "        text-align: right;\n",
       "    }\n",
       "</style>\n",
       "<table border=\"1\" class=\"dataframe\">\n",
       "  <thead>\n",
       "    <tr style=\"text-align: right;\">\n",
       "      <th></th>\n",
       "      <th>target</th>\n",
       "      <th>noticia</th>\n",
       "    </tr>\n",
       "  </thead>\n",
       "  <tbody>\n",
       "    <tr>\n",
       "      <th>0</th>\n",
       "      <td>1</td>\n",
       "      <td>carona deyverson atacante palmeiras abre casa ...</td>\n",
       "    </tr>\n",
       "    <tr>\n",
       "      <th>0</th>\n",
       "      <td>0</td>\n",
       "      <td>5 detalhes ficar olho especificacoes proximo s...</td>\n",
       "    </tr>\n",
       "    <tr>\n",
       "      <th>1</th>\n",
       "      <td>0</td>\n",
       "      <td>materia escura ninguem encontrou ainda cinco s...</td>\n",
       "    </tr>\n",
       "    <tr>\n",
       "      <th>1</th>\n",
       "      <td>1</td>\n",
       "      <td>river x boca final libertadores madri bencao f...</td>\n",
       "    </tr>\n",
       "    <tr>\n",
       "      <th>2</th>\n",
       "      <td>0</td>\n",
       "      <td>chimpanzes podem ser manipuladores assim human...</td>\n",
       "    </tr>\n",
       "  </tbody>\n",
       "</table>\n",
       "</div>"
      ],
      "text/plain": [
       "   target                                            noticia\n",
       "0       1  carona deyverson atacante palmeiras abre casa ...\n",
       "0       0  5 detalhes ficar olho especificacoes proximo s...\n",
       "1       0  materia escura ninguem encontrou ainda cinco s...\n",
       "1       1  river x boca final libertadores madri bencao f...\n",
       "2       0  chimpanzes podem ser manipuladores assim human..."
      ]
     },
     "execution_count": 45,
     "metadata": {},
     "output_type": "execute_result"
    }
   ],
   "source": [
    "df_all.head()"
   ]
  },
  {
   "cell_type": "code",
   "execution_count": 14,
   "metadata": {},
   "outputs": [],
   "source": [
    "df_all['noticia'] = df_all['noticia'].apply(lambda x : processa(x))"
   ]
  },
  {
   "cell_type": "code",
   "execution_count": null,
   "metadata": {},
   "outputs": [],
   "source": []
  },
  {
   "cell_type": "code",
   "execution_count": 15,
   "metadata": {},
   "outputs": [
    {
     "data": {
      "text/plain": [
       "(3949, 59239)"
      ]
     },
     "execution_count": 15,
     "metadata": {},
     "output_type": "execute_result"
    }
   ],
   "source": [
    "from sklearn.feature_extraction.text import TfidfVectorizer\n",
    "\n",
    "tfidf_vectorizer = TfidfVectorizer()\n",
    "tfidf_matrix = tfidf_vectorizer.fit_transform(df_all['noticia'])\n",
    "\n",
    "tfidf_matrix.shape"
   ]
  },
  {
   "cell_type": "code",
   "execution_count": 16,
   "metadata": {},
   "outputs": [],
   "source": [
    "df_tfidf = pd.DataFrame(tfidf_matrix.todense(), columns=tfidf_vectorizer.get_feature_names())"
   ]
  },
  {
   "cell_type": "code",
   "execution_count": 17,
   "metadata": {},
   "outputs": [],
   "source": [
    "from xgboost import XGBClassifier, XGBRegressor"
   ]
  },
  {
   "cell_type": "code",
   "execution_count": 18,
   "metadata": {},
   "outputs": [
    {
     "data": {
      "text/plain": [
       "XGBClassifier(base_score=0.5, booster='gbtree', colsample_bylevel=1,\n",
       "       colsample_bynode=1, colsample_bytree=1, gamma=0, learning_rate=0.1,\n",
       "       max_delta_step=0, max_depth=3, min_child_weight=1, missing=None,\n",
       "       n_estimators=100, n_jobs=-1, nthread=None,\n",
       "       objective='binary:logistic', random_state=1, reg_alpha=0,\n",
       "       reg_lambda=1, scale_pos_weight=1, seed=None, silent=None,\n",
       "       subsample=1, verbosity=1)"
      ]
     },
     "execution_count": 18,
     "metadata": {},
     "output_type": "execute_result"
    }
   ],
   "source": [
    "model = XGBClassifier(\n",
    "    n_estimators=100,\n",
    "    max_depth=3,\n",
    "    n_jobs=-1,\n",
    "    random_state=1\n",
    ")\n",
    "\n",
    "model.fit(\n",
    "    tfidf_matrix, df_all['target']\n",
    ")"
   ]
  },
  {
   "cell_type": "code",
   "execution_count": 130,
   "metadata": {},
   "outputs": [],
   "source": [
    "noticias = [\"Palmeiras x Atlético-MG: com desconforto muscular, zagueiro Réver desfalca o Galo. Problema é na panturrilha esquerda; defensor já havia ficado fora da partida contra o Vasco. O Atlético-MG não contará com o zagueiro Réver para o jogo de domingo contra o Palmeiras pela 23ª rodada do Brasileirão, na Arena Palmeiras, às 16h (de Brasília). Com desconforto muscular, o defensor fica em Belo Horizonte para fazer tratamento segundo a assessoria de imprensa do clube.O zagueiro já havia ficado de fora da partida contra o Vasco na última rodada. Na tarde desta sexta-feira, Rodrigo Santana mudou o esquema tático do time no treinamento, justamente no setor defensivo. O treinador montou a equipe, com três zagueiros.\", \"Mega-Sena pode pagar prêmio de R$ 18 milhões neste sábado\", \"Hoje está frio\"]"
   ]
  },
  {
   "cell_type": "code",
   "execution_count": 132,
   "metadata": {},
   "outputs": [
    {
     "data": {
      "text/html": [
       "<div>\n",
       "<style scoped>\n",
       "    .dataframe tbody tr th:only-of-type {\n",
       "        vertical-align: middle;\n",
       "    }\n",
       "\n",
       "    .dataframe tbody tr th {\n",
       "        vertical-align: top;\n",
       "    }\n",
       "\n",
       "    .dataframe thead th {\n",
       "        text-align: right;\n",
       "    }\n",
       "</style>\n",
       "<table border=\"1\" class=\"dataframe\">\n",
       "  <thead>\n",
       "    <tr style=\"text-align: right;\">\n",
       "      <th></th>\n",
       "      <th>noticia</th>\n",
       "      <th>target</th>\n",
       "    </tr>\n",
       "  </thead>\n",
       "  <tbody>\n",
       "    <tr>\n",
       "      <th>0</th>\n",
       "      <td>Palmeiras x Atlético-MG: com desconforto muscu...</td>\n",
       "      <td>0</td>\n",
       "    </tr>\n",
       "    <tr>\n",
       "      <th>1</th>\n",
       "      <td>Mega-Sena pode pagar prêmio de R$ 18 milhões n...</td>\n",
       "      <td>0</td>\n",
       "    </tr>\n",
       "    <tr>\n",
       "      <th>2</th>\n",
       "      <td>Hoje está frio</td>\n",
       "      <td>0</td>\n",
       "    </tr>\n",
       "  </tbody>\n",
       "</table>\n",
       "</div>"
      ],
      "text/plain": [
       "                                             noticia  target\n",
       "0  Palmeiras x Atlético-MG: com desconforto muscu...       0\n",
       "1  Mega-Sena pode pagar prêmio de R$ 18 milhões n...       0\n",
       "2                                     Hoje está frio       0"
      ]
     },
     "execution_count": 132,
     "metadata": {},
     "output_type": "execute_result"
    }
   ],
   "source": [
    "df_entrada = pd.DataFrame([[noticias[0], 0], [noticias[1],0], [noticias[2], 0]], columns=['noticia', 'target'])\n",
    "df_entrada"
   ]
  },
  {
   "cell_type": "code",
   "execution_count": 133,
   "metadata": {},
   "outputs": [],
   "source": [
    "tfidf_matrix_input = tfidf_vectorizer.transform(df_entrada['noticia'])"
   ]
  },
  {
   "cell_type": "code",
   "execution_count": 134,
   "metadata": {},
   "outputs": [
    {
     "data": {
      "text/plain": [
       "(3, 59239)"
      ]
     },
     "execution_count": 134,
     "metadata": {},
     "output_type": "execute_result"
    }
   ],
   "source": [
    "tfidf_matrix_input.shape"
   ]
  },
  {
   "cell_type": "code",
   "execution_count": 135,
   "metadata": {},
   "outputs": [
    {
     "data": {
      "text/plain": [
       "array([[0.00523233, 0.99476767],\n",
       "       [0.529543  , 0.47045702],\n",
       "       [0.31046575, 0.68953425]], dtype=float32)"
      ]
     },
     "execution_count": 135,
     "metadata": {},
     "output_type": "execute_result"
    }
   ],
   "source": [
    "model.predict_proba(tfidf_matrix_input)"
   ]
  },
  {
   "cell_type": "code",
   "execution_count": 137,
   "metadata": {},
   "outputs": [
    {
     "data": {
      "text/plain": [
       "3"
      ]
     },
     "execution_count": 137,
     "metadata": {},
     "output_type": "execute_result"
    }
   ],
   "source": [
    "pred = model.predict_proba(tfidf_matrix_input)\n",
    "df_entrada.shape[0]"
   ]
  },
  {
   "cell_type": "code",
   "execution_count": 140,
   "metadata": {},
   "outputs": [],
   "source": [
    "for row in range(df_entrada.shape[0]):\n",
    "    if(pred[row][1] > 0.7):\n",
    "        df_entrada['target'][row] = 1\n",
    "    else:\n",
    "        df_entrada['target'][row] = 0"
   ]
  },
  {
   "cell_type": "code",
   "execution_count": 141,
   "metadata": {},
   "outputs": [
    {
     "data": {
      "text/html": [
       "<div>\n",
       "<style scoped>\n",
       "    .dataframe tbody tr th:only-of-type {\n",
       "        vertical-align: middle;\n",
       "    }\n",
       "\n",
       "    .dataframe tbody tr th {\n",
       "        vertical-align: top;\n",
       "    }\n",
       "\n",
       "    .dataframe thead th {\n",
       "        text-align: right;\n",
       "    }\n",
       "</style>\n",
       "<table border=\"1\" class=\"dataframe\">\n",
       "  <thead>\n",
       "    <tr style=\"text-align: right;\">\n",
       "      <th></th>\n",
       "      <th>noticia</th>\n",
       "      <th>target</th>\n",
       "    </tr>\n",
       "  </thead>\n",
       "  <tbody>\n",
       "    <tr>\n",
       "      <th>0</th>\n",
       "      <td>Palmeiras x Atlético-MG: com desconforto muscu...</td>\n",
       "      <td>1</td>\n",
       "    </tr>\n",
       "    <tr>\n",
       "      <th>1</th>\n",
       "      <td>Mega-Sena pode pagar prêmio de R$ 18 milhões n...</td>\n",
       "      <td>0</td>\n",
       "    </tr>\n",
       "    <tr>\n",
       "      <th>2</th>\n",
       "      <td>Hoje está frio</td>\n",
       "      <td>0</td>\n",
       "    </tr>\n",
       "  </tbody>\n",
       "</table>\n",
       "</div>"
      ],
      "text/plain": [
       "                                             noticia  target\n",
       "0  Palmeiras x Atlético-MG: com desconforto muscu...       1\n",
       "1  Mega-Sena pode pagar prêmio de R$ 18 milhões n...       0\n",
       "2                                     Hoje está frio       0"
      ]
     },
     "execution_count": 141,
     "metadata": {},
     "output_type": "execute_result"
    }
   ],
   "source": [
    "df_entrada.head()"
   ]
  },
  {
   "cell_type": "code",
   "execution_count": null,
   "metadata": {},
   "outputs": [],
   "source": []
  }
 ],
 "metadata": {
  "kernelspec": {
   "display_name": "Python 3",
   "language": "python",
   "name": "python3"
  },
  "language_info": {
   "codemirror_mode": {
    "name": "ipython",
    "version": 3
   },
   "file_extension": ".py",
   "mimetype": "text/x-python",
   "name": "python",
   "nbconvert_exporter": "python",
   "pygments_lexer": "ipython3",
   "version": "3.7.3"
  }
 },
 "nbformat": 4,
 "nbformat_minor": 2
}
