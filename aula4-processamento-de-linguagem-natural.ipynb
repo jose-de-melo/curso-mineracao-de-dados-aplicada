{
 "cells": [
  {
   "cell_type": "code",
   "execution_count": 3,
   "metadata": {},
   "outputs": [],
   "source": [
    "import pandas as pd\n"
   ]
  },
  {
   "cell_type": "code",
   "execution_count": 4,
   "metadata": {},
   "outputs": [],
   "source": [
    "df = pd.read_csv('data/df_noticias_if.csv')"
   ]
  },
  {
   "cell_type": "code",
   "execution_count": 6,
   "metadata": {},
   "outputs": [
    {
     "data": {
      "text/html": [
       "<div>\n",
       "<style scoped>\n",
       "    .dataframe tbody tr th:only-of-type {\n",
       "        vertical-align: middle;\n",
       "    }\n",
       "\n",
       "    .dataframe tbody tr th {\n",
       "        vertical-align: top;\n",
       "    }\n",
       "\n",
       "    .dataframe thead th {\n",
       "        text-align: right;\n",
       "    }\n",
       "</style>\n",
       "<table border=\"1\" class=\"dataframe\">\n",
       "  <thead>\n",
       "    <tr style=\"text-align: right;\">\n",
       "      <th></th>\n",
       "      <th>data</th>\n",
       "      <th>titulo</th>\n",
       "      <th>conteudo</th>\n",
       "    </tr>\n",
       "  </thead>\n",
       "  <tbody>\n",
       "    <tr>\n",
       "      <th>0</th>\n",
       "      <td>14/09/2017</td>\n",
       "      <td>Campus Barbacena divulga Resultado Provisório ...</td>\n",
       "      <td>\\n\\n\\tO Campus Barbacena divulgou o Resultado ...</td>\n",
       "    </tr>\n",
       "    <tr>\n",
       "      <th>1</th>\n",
       "      <td>14/09/2017</td>\n",
       "      <td>Divulgado o Edital de convocação de assembleia...</td>\n",
       "      <td>\\n\\n\\tDivulgado o Edital de convocação de asse...</td>\n",
       "    </tr>\n",
       "    <tr>\n",
       "      <th>2</th>\n",
       "      <td>14/09/2017</td>\n",
       "      <td>Pesquisador da Bélgica realiza palestra no Cam...</td>\n",
       "      <td>\\n\\n\\tO pesquisador da Bélgica, Luc Vankrunkel...</td>\n",
       "    </tr>\n",
       "    <tr>\n",
       "      <th>3</th>\n",
       "      <td>14/09/2017</td>\n",
       "      <td>Divulgada a homologação das inscrições à candi...</td>\n",
       "      <td>\\n\\n\\tDivulgada a homologação das inscrições à...</td>\n",
       "    </tr>\n",
       "    <tr>\n",
       "      <th>4</th>\n",
       "      <td>14/09/2017</td>\n",
       "      <td>Aprovado Regulamento de Eventos, Cerimonial e ...</td>\n",
       "      <td>\\n\\n\\tO Regulamento, aprovado no dia 05 de set...</td>\n",
       "    </tr>\n",
       "  </tbody>\n",
       "</table>\n",
       "</div>"
      ],
      "text/plain": [
       "         data                                             titulo  \\\n",
       "0  14/09/2017  Campus Barbacena divulga Resultado Provisório ...   \n",
       "1  14/09/2017  Divulgado o Edital de convocação de assembleia...   \n",
       "2  14/09/2017  Pesquisador da Bélgica realiza palestra no Cam...   \n",
       "3  14/09/2017  Divulgada a homologação das inscrições à candi...   \n",
       "4  14/09/2017  Aprovado Regulamento de Eventos, Cerimonial e ...   \n",
       "\n",
       "                                            conteudo  \n",
       "0  \\n\\n\\tO Campus Barbacena divulgou o Resultado ...  \n",
       "1  \\n\\n\\tDivulgado o Edital de convocação de asse...  \n",
       "2  \\n\\n\\tO pesquisador da Bélgica, Luc Vankrunkel...  \n",
       "3  \\n\\n\\tDivulgada a homologação das inscrições à...  \n",
       "4  \\n\\n\\tO Regulamento, aprovado no dia 05 de set...  "
      ]
     },
     "execution_count": 6,
     "metadata": {},
     "output_type": "execute_result"
    }
   ],
   "source": [
    "df.head()"
   ]
  },
  {
   "cell_type": "code",
   "execution_count": 8,
   "metadata": {},
   "outputs": [
    {
     "data": {
      "text/plain": [
       "data                                               14/09/2017\n",
       "titulo      Campus Barbacena divulga Resultado Provisório ...\n",
       "conteudo    \\n\\n\\tO Campus Barbacena divulgou o Resultado ...\n",
       "Name: 0, dtype: object"
      ]
     },
     "execution_count": 8,
     "metadata": {},
     "output_type": "execute_result"
    }
   ],
   "source": [
    "df.iloc[0]"
   ]
  },
  {
   "cell_type": "code",
   "execution_count": 13,
   "metadata": {},
   "outputs": [
    {
     "name": "stdout",
     "output_type": "stream",
     "text": [
      "\n",
      "\n",
      "\tO Campus Barbacena divulgou o Resultado Provisório do VIII Simpósio de Pesquisa e Inovação.\n",
      "\n",
      "\tOs estudantes devem ficar atentos as observações que constam no final do documento.\n",
      "\n",
      "Leia o documento\n",
      "\n"
     ]
    }
   ],
   "source": [
    "print(df.iloc[0]['conteudo'])"
   ]
  },
  {
   "cell_type": "code",
   "execution_count": 14,
   "metadata": {},
   "outputs": [],
   "source": [
    "df['text_lower'] = df['conteudo'].apply(lambda x: x.lower())"
   ]
  },
  {
   "cell_type": "code",
   "execution_count": 16,
   "metadata": {},
   "outputs": [
    {
     "data": {
      "text/plain": [
       "0    \\n\\n\\to campus barbacena divulgou o resultado ...\n",
       "1    \\n\\n\\tdivulgado o edital de convocação de asse...\n",
       "2    \\n\\n\\to pesquisador da bélgica, luc vankrunkel...\n",
       "3    \\n\\n\\tdivulgada a homologação das inscrições à...\n",
       "4    \\n\\n\\to regulamento, aprovado no dia 05 de set...\n",
       "5    \\n\\n\\tos alunos interessados em imprimir seus ...\n",
       "6    \\n\\n\\tnesta terça-feira,12, aconteceu na diret...\n",
       "7    \\n\\n\\to if sudeste mg, campus barbacena, por m...\n",
       "8    \\n\\n\\ta diretoria de pesquisa, inovação e pós-...\n",
       "9    \\n\\n\\to aluno do curso superior de tecnologia ...\n",
       "Name: text_lower, dtype: object"
      ]
     },
     "execution_count": 16,
     "metadata": {},
     "output_type": "execute_result"
    }
   ],
   "source": [
    "df['text_lower'].head(10)"
   ]
  },
  {
   "cell_type": "code",
   "execution_count": 25,
   "metadata": {},
   "outputs": [
    {
     "data": {
      "text/plain": [
       "0    \\tO Campus Barbacena divulgou o Resultado Prov...\n",
       "1    \\tDivulgado o Edital de convocação de assemble...\n",
       "2    \\tO pesquisador da Bélgica, Luc Vankrunkelsven...\n",
       "3    \\tDivulgada a homologação das inscrições à can...\n",
       "4    \\tO Regulamento, aprovado no dia 05 de setembr...\n",
       "5    \\tOs alunos interessados em imprimir seus cert...\n",
       "6    \\tNesta terça-feira,12, aconteceu na Diretoria...\n",
       "7    \\tO IF Sudeste MG, Campus Barbacena, por meio ...\n",
       "8    \\tA Diretoria de Pesquisa, Inovação e Pós-grad...\n",
       "9    \\tO aluno do curso Superior de Tecnologia em S...\n",
       "Name: conteudo, dtype: object"
      ]
     },
     "execution_count": 25,
     "metadata": {},
     "output_type": "execute_result"
    }
   ],
   "source": [
    "df['conteudo'].apply(lambda x: x.replace('\\n','')).head(10)"
   ]
  },
  {
   "cell_type": "code",
   "execution_count": 26,
   "metadata": {},
   "outputs": [],
   "source": [
    "from string import punctuation"
   ]
  },
  {
   "cell_type": "code",
   "execution_count": 27,
   "metadata": {},
   "outputs": [
    {
     "data": {
      "text/plain": [
       "'!\"#$%&\\'()*+,-./:;<=>?@[\\\\]^_`{|}~'"
      ]
     },
     "execution_count": 27,
     "metadata": {},
     "output_type": "execute_result"
    }
   ],
   "source": [
    "punctuation"
   ]
  },
  {
   "cell_type": "code",
   "execution_count": 33,
   "metadata": {},
   "outputs": [
    {
     "data": {
      "text/plain": [
       "'\\n\\n\\tO Campus Barbacena divulgou o Resultado Provisório do VIII Simpósio de Pesquisa e Inovação\\n\\n\\tOs estudantes devem ficar atentos as observações que constam no final do documento\\n\\nLeia o documento\\n'"
      ]
     },
     "execution_count": 33,
     "metadata": {},
     "output_type": "execute_result"
    }
   ],
   "source": [
    "''.join([l for l in df.iloc[0]['conteudo'] if l not in punctuation])"
   ]
  },
  {
   "cell_type": "code",
   "execution_count": 34,
   "metadata": {},
   "outputs": [
    {
     "data": {
      "text/plain": [
       "'O Campus Barbacena divulgou o Resultado Provisório do VIII Simpósio de Pesquisa e Inovação.Os estudantes devem ficar atentos as observações que constam no final do documento.Leia o documento'"
      ]
     },
     "execution_count": 34,
     "metadata": {},
     "output_type": "execute_result"
    }
   ],
   "source": [
    "import re\n",
    "\n",
    "re.sub(r'\\n|\\t', '', df.iloc[0]['conteudo'])"
   ]
  },
  {
   "cell_type": "code",
   "execution_count": 37,
   "metadata": {},
   "outputs": [
    {
     "name": "stdout",
     "output_type": "stream",
     "text": [
      "['\\n\\n\\tO', 'Campus', 'Barbacena', 'divulgou', 'o', 'Resultado', 'Provisório', 'do', 'VIII', 'Simpósio', 'de', 'Pesquisa', 'e', 'Inovação.\\n\\n\\tOs', 'estudantes', 'devem', 'ficar', 'atentos', 'as', 'observações', 'que', 'constam', 'no', 'final', 'do', 'documento.\\n\\nLeia', 'o', 'documento\\n']\n"
     ]
    }
   ],
   "source": [
    "print(df.iloc[0]['conteudo'].split(' '))"
   ]
  },
  {
   "cell_type": "code",
   "execution_count": 38,
   "metadata": {},
   "outputs": [],
   "source": [
    "#gensim"
   ]
  },
  {
   "cell_type": "code",
   "execution_count": 43,
   "metadata": {},
   "outputs": [],
   "source": [
    "from nltk import word_tokenize"
   ]
  },
  {
   "cell_type": "code",
   "execution_count": 45,
   "metadata": {},
   "outputs": [],
   "source": [
    "import nltk"
   ]
  },
  {
   "cell_type": "code",
   "execution_count": 46,
   "metadata": {},
   "outputs": [
    {
     "name": "stdout",
     "output_type": "stream",
     "text": [
      "[nltk_data] Downloading package punkt to /home/aluno/nltk_data...\n",
      "[nltk_data]   Unzipping tokenizers/punkt.zip.\n"
     ]
    },
    {
     "data": {
      "text/plain": [
       "True"
      ]
     },
     "execution_count": 46,
     "metadata": {},
     "output_type": "execute_result"
    }
   ],
   "source": [
    "nltk.download('punkt')"
   ]
  },
  {
   "cell_type": "code",
   "execution_count": 47,
   "metadata": {},
   "outputs": [
    {
     "name": "stdout",
     "output_type": "stream",
     "text": [
      "['O', 'Campus', 'Barbacena', 'divulgou', 'o', 'Resultado', 'Provisório', 'do', 'VIII', 'Simpósio', 'de', 'Pesquisa', 'e', 'Inovação', '.', 'Os', 'estudantes', 'devem', 'ficar', 'atentos', 'as', 'observações', 'que', 'constam', 'no', 'final', 'do', 'documento', '.', 'Leia', 'o', 'documento']\n"
     ]
    }
   ],
   "source": [
    "print(word_tokenize(df.iloc[0]['conteudo']))"
   ]
  },
  {
   "cell_type": "code",
   "execution_count": null,
   "metadata": {},
   "outputs": [],
   "source": []
  },
  {
   "cell_type": "code",
   "execution_count": 49,
   "metadata": {},
   "outputs": [],
   "source": [
    "from unicodedata import normalize"
   ]
  },
  {
   "cell_type": "code",
   "execution_count": 50,
   "metadata": {},
   "outputs": [
    {
     "data": {
      "text/plain": [
       "b'\\n\\n\\tO Campus Barbacena divulgou o Resultado Provisorio do VIII Simposio de Pesquisa e Inovacao.\\n\\n\\tOs estudantes devem ficar atentos as observacoes que constam no final do documento.\\n\\nLeia o documento\\n'"
      ]
     },
     "execution_count": 50,
     "metadata": {},
     "output_type": "execute_result"
    }
   ],
   "source": [
    "normalize('NFKD', df.iloc[0]['conteudo']).encode('ASCII', 'ignore')"
   ]
  },
  {
   "cell_type": "code",
   "execution_count": null,
   "metadata": {},
   "outputs": [],
   "source": []
  },
  {
   "cell_type": "code",
   "execution_count": 52,
   "metadata": {},
   "outputs": [
    {
     "name": "stdout",
     "output_type": "stream",
     "text": [
      "[nltk_data] Downloading package stopwords to /home/aluno/nltk_data...\n",
      "[nltk_data]   Unzipping corpora/stopwords.zip.\n"
     ]
    },
    {
     "data": {
      "text/plain": [
       "True"
      ]
     },
     "execution_count": 52,
     "metadata": {},
     "output_type": "execute_result"
    }
   ],
   "source": [
    "nltk.download('stopwords')"
   ]
  },
  {
   "cell_type": "code",
   "execution_count": 53,
   "metadata": {},
   "outputs": [],
   "source": [
    "stopwords = nltk.corpus.stopwords.words('portuguese')"
   ]
  },
  {
   "cell_type": "code",
   "execution_count": 54,
   "metadata": {},
   "outputs": [
    {
     "name": "stdout",
     "output_type": "stream",
     "text": [
      "['de', 'a', 'o', 'que', 'e', 'do', 'da', 'em', 'um', 'para', 'com', 'não', 'uma', 'os', 'no', 'se', 'na', 'por', 'mais', 'as', 'dos', 'como', 'mas', 'ao', 'ele', 'das', 'à', 'seu', 'sua', 'ou', 'quando', 'muito', 'nos', 'já', 'eu', 'também', 'só', 'pelo', 'pela', 'até', 'isso', 'ela', 'entre', 'depois', 'sem', 'mesmo', 'aos', 'seus', 'quem', 'nas', 'me', 'esse', 'eles', 'você', 'essa', 'num', 'nem', 'suas', 'meu', 'às', 'minha', 'numa', 'pelos', 'elas', 'qual', 'nós', 'lhe', 'deles', 'essas', 'esses', 'pelas', 'este', 'dele', 'tu', 'te', 'vocês', 'vos', 'lhes', 'meus', 'minhas', 'teu', 'tua', 'teus', 'tuas', 'nosso', 'nossa', 'nossos', 'nossas', 'dela', 'delas', 'esta', 'estes', 'estas', 'aquele', 'aquela', 'aqueles', 'aquelas', 'isto', 'aquilo', 'estou', 'está', 'estamos', 'estão', 'estive', 'esteve', 'estivemos', 'estiveram', 'estava', 'estávamos', 'estavam', 'estivera', 'estivéramos', 'esteja', 'estejamos', 'estejam', 'estivesse', 'estivéssemos', 'estivessem', 'estiver', 'estivermos', 'estiverem', 'hei', 'há', 'havemos', 'hão', 'houve', 'houvemos', 'houveram', 'houvera', 'houvéramos', 'haja', 'hajamos', 'hajam', 'houvesse', 'houvéssemos', 'houvessem', 'houver', 'houvermos', 'houverem', 'houverei', 'houverá', 'houveremos', 'houverão', 'houveria', 'houveríamos', 'houveriam', 'sou', 'somos', 'são', 'era', 'éramos', 'eram', 'fui', 'foi', 'fomos', 'foram', 'fora', 'fôramos', 'seja', 'sejamos', 'sejam', 'fosse', 'fôssemos', 'fossem', 'for', 'formos', 'forem', 'serei', 'será', 'seremos', 'serão', 'seria', 'seríamos', 'seriam', 'tenho', 'tem', 'temos', 'tém', 'tinha', 'tínhamos', 'tinham', 'tive', 'teve', 'tivemos', 'tiveram', 'tivera', 'tivéramos', 'tenha', 'tenhamos', 'tenham', 'tivesse', 'tivéssemos', 'tivessem', 'tiver', 'tivermos', 'tiverem', 'terei', 'terá', 'teremos', 'terão', 'teria', 'teríamos', 'teriam']\n"
     ]
    }
   ],
   "source": [
    "print(stopwords)"
   ]
  },
  {
   "cell_type": "code",
   "execution_count": null,
   "metadata": {},
   "outputs": [],
   "source": []
  },
  {
   "cell_type": "code",
   "execution_count": 56,
   "metadata": {},
   "outputs": [
    {
     "name": "stdout",
     "output_type": "stream",
     "text": [
      "[nltk_data] Downloading package rslp to /home/aluno/nltk_data...\n",
      "[nltk_data]   Unzipping stemmers/rslp.zip.\n"
     ]
    },
    {
     "data": {
      "text/plain": [
       "True"
      ]
     },
     "execution_count": 56,
     "metadata": {},
     "output_type": "execute_result"
    }
   ],
   "source": [
    "nltk.download('rslp')"
   ]
  },
  {
   "cell_type": "code",
   "execution_count": 57,
   "metadata": {},
   "outputs": [],
   "source": [
    "stemmer = nltk.stem.RSLPStemmer()"
   ]
  },
  {
   "cell_type": "code",
   "execution_count": 58,
   "metadata": {},
   "outputs": [
    {
     "data": {
      "text/plain": [
       "('program', 'program', 'progr')"
      ]
     },
     "execution_count": 58,
     "metadata": {},
     "output_type": "execute_result"
    }
   ],
   "source": [
    "stemmer.stem('programar'), stemmer.stem('programava'), stemmer.stem('prograremos')"
   ]
  },
  {
   "cell_type": "code",
   "execution_count": null,
   "metadata": {},
   "outputs": [],
   "source": []
  },
  {
   "cell_type": "code",
   "execution_count": 61,
   "metadata": {},
   "outputs": [
    {
     "name": "stdout",
     "output_type": "stream",
     "text": [
      "[nltk_data] Downloading package wordnet to /home/aluno/nltk_data...\n",
      "[nltk_data]   Unzipping corpora/wordnet.zip.\n"
     ]
    },
    {
     "data": {
      "text/plain": [
       "True"
      ]
     },
     "execution_count": 61,
     "metadata": {},
     "output_type": "execute_result"
    }
   ],
   "source": [
    "nltk.download('wordnet')\n"
   ]
  },
  {
   "cell_type": "code",
   "execution_count": 63,
   "metadata": {},
   "outputs": [
    {
     "data": {
      "text/plain": [
       "('car', 'box', 'spy', 'child')"
      ]
     },
     "execution_count": 63,
     "metadata": {},
     "output_type": "execute_result"
    }
   ],
   "source": [
    "from nltk.stem.wordnet import WordNetLemmatizer\n",
    "\n",
    "lemtzr = WordNetLemmatizer()\n",
    "\n",
    "lemtzr.lemmatize('cars'), lemtzr.lemmatize('boxes'), lemtzr.lemmatize('spies'), lemtzr.lemmatize('children')"
   ]
  },
  {
   "cell_type": "code",
   "execution_count": null,
   "metadata": {},
   "outputs": [],
   "source": []
  },
  {
   "cell_type": "code",
   "execution_count": null,
   "metadata": {},
   "outputs": [],
   "source": []
  },
  {
   "cell_type": "code",
   "execution_count": 65,
   "metadata": {},
   "outputs": [
    {
     "data": {
      "text/plain": [
       "0    campus barbacena divulga resultado provisório ...\n",
       "1    divulgado edital convocação assembleia centro ...\n",
       "2    pesquisador bélgica realiza palestra campus ba...\n",
       "3    divulgada homologação inscrições candidatura c...\n",
       "4    aprovado regulamento eventos cerimonial protoc...\n",
       "5    atenção aba emissão certificados alunos intere...\n",
       "6    campus barbacena recebe professoras moçambique...\n",
       "7    abertas inscrições programa institucional inic...\n",
       "8    diretoria pesquisa inovação pós-graduação inau...\n",
       "9    aluno campus barbacena ministra minicurso após...\n",
       "Name: doc, dtype: object"
      ]
     },
     "execution_count": 65,
     "metadata": {},
     "output_type": "execute_result"
    }
   ],
   "source": [
    "def processa(row):\n",
    "    txt = row['titulo'] + ' ' + row['conteudo']\n",
    "    \n",
    "    return ' '.join([t for t in word_tokenize(txt.lower()) if (t not in stopwords) and (t not in punctuation)])\n",
    "\n",
    "df['doc'] = df.apply(processa, axis=1)\n",
    "\n",
    "df['doc'].head(10)"
   ]
  },
  {
   "cell_type": "code",
   "execution_count": 77,
   "metadata": {},
   "outputs": [
    {
     "data": {
      "text/plain": [
       "0    campus barbacena divulga resultado provisório ...\n",
       "1    divulgado edital convocação assembleia centro ...\n",
       "2    pesquisador bélgica realiza palestra campus ba...\n",
       "3    divulgada homologação inscrições candidatura c...\n",
       "4    aprovado regulamento eventos cerimonial protoc...\n",
       "Name: doc, dtype: object"
      ]
     },
     "execution_count": 77,
     "metadata": {},
     "output_type": "execute_result"
    }
   ],
   "source": [
    "df['doc'].head()"
   ]
  },
  {
   "cell_type": "code",
   "execution_count": 71,
   "metadata": {},
   "outputs": [
    {
     "data": {
      "text/plain": [
       "'\\n\\n\\tDivulgada a homologação das inscrições à candidatura de coordenador e vice-coordenador para os cursos de Agronomia e Tecnologia em Alimentos:\\n\\n\\tBACHARELADO EM AGRONOMIA\\n\\n\\t\\tComposição da chapa (única): Coordenador: Professor Júlio Cesar Stelmo da Silva.\\n\\n\\t\\tVice-coordenador: Professor Frederico Cássio Moreira Martins.\\n\\n\\n\\tTECNOLOGIA DE ALIMENTOS\\n\\n\\t\\tComposição da chapa (única): Coordenadora: Professora Giovana Maria Pereira Assumpção.\\n\\n\\t\\tVice-coordenadora: Professora Gilma Auxiliadora Santos Gonçalves.\\n '"
      ]
     },
     "execution_count": 71,
     "metadata": {},
     "output_type": "execute_result"
    }
   ],
   "source": [
    "df['conteudo'][3]"
   ]
  },
  {
   "cell_type": "code",
   "execution_count": 76,
   "metadata": {},
   "outputs": [],
   "source": [
    "list = ['00', '000', '000957', '001', '002', '002084', '002086', 'pontuação', '003', '003360', '008', '009', '01', '012', '018', '02', '020', '021', '022', '03', '031', '032', '036', '039', '03dez2015', '04', '05', '050617', '052', '056', '05_final', '06', '06h30', '07', 'paralelepipedo', '072016', '07h', '07h00', '07h30', '08', '08h', '08h00min', '08h30', '08h30min', '09', '09h', '09h00min', '09h30', '09h30min', '10', '100', '1000', '10024', '106', '107', '109', '10h', '10h00min', '10h30', '10h30m', '10h30min', '10h45mim', '10h45min', '10ª', '10º', '11', '110', '115', '116257', '11h', '11h00', '11h00min', '11h10min', '11h30', '11h30min', '11h40', '11ª', '11º', '12', '120', '121', '125', '1256', '128', '1283', '129', '12h', '12h00min', '12h30', '13', '136', '13h', '13h00', '13h00min', '13h10min', '13h30', '13h30min', '13ª', '14', '140', '141', '143', '145', '146', '149', '14h', '14h00min','' '14h30','local', '14hlocal', '14qualidadedevidaedoambiente', '15', '150', '15h', '15h30', '15h30min', '16', '160', '164', '166', '16h', '16h00min', '16h30', '16h50', '17', '170', '172', '175', '179', '17h', '17h00min', '17h30', '17h30min', '17h45', '17ª', '18', '180', '1827', '185', '189', '18h', '18h00min', '18h15min', '18h30', '18h30min', '18ª', '19', '1909', '191', '1910', '192', '1927', '1927an4vppuglifzxylp9u4ogs', '1932', '1945', '1947', '1972', '1979', '1983', '1984', '1986', '1987', '1992', '1993', '1994', '1995', '1999', '19h', '19h00', '19h00min', '19h15', '19h15min', '19h30', '19h45', '19jifsghun', '19ª', '1_2lgnzzc9ekuu4g5xtn66opwkev5txvea4ivqmh6ycy', '1_uvu7iyigo5d6qfhehvmvop3wxgapk1pdeyr1uvvkqc', '1a', '1aalfne7h4grxa0mkurk7gg4pei5efmmsby54gluw4o4', '1ahcf2vzkiuk9ftljgn_f62esex2wjgww7ivaidltriu', '1asd8wjjwq0ini_tt_jgkzkhepxzdnpagumav8gus5_8', '1azedtlmijk2u', '1bahgg', '1csgcyirajzo4m9hjt2tt_kun6qexqgaybamatk0kky0', '1d4', '1di0b8l8hhcmuicpls6p9vs5ub1xkneyujupfspjia_i', '1dwra7owoaosxovdphuwwhcijahahtqwd88bsiudoyru','inconstitucionalissimamente', '1e09fsvlgbghxb_4d6s9hzqrgt6cur2jbzqingdagxse', '1ed', '1erhcwwkmynbmj0yqejhidawaso2u4u', '1ezktrujmohi', '1faipqlscdlziuyyujafh', 'brasil', '1faipqlscemesh6sdpexovfoqhkvcuckvqnvmnwlchtjgheebxodxohw', '1faipqlscsciawacjjishc53hd', '1faipqlscsve_rzttqs9cnvefg', '1faipqlse5t97v1xbrt2q9xqprrf9gqux7hlo79v6kqkyrlksbryzqtg', '1faipqlsercvcmvhzzn_v0w_8umgdkfjr_qswcmoxydghams29b6ihgq', '1fhbbwdgb1_7jciglamojrwro5uiunebmgadhethfsk0','o', '1fn8_ymysoveepdturcpigwh8kyuotqi2rqorfs6nhsa', 'oi','1fxznjaceqieo_r', 'brasil','1g5rbhfyjxh6wy3yfqv77_yvng6swnsxoxw3dvezl5c0', '1g9lbd7xhlt9hotp2']"
   ]
  },
  {
   "cell_type": "code",
   "execution_count": 83,
   "metadata": {},
   "outputs": [
    {
     "data": {
      "text/plain": [
       "'\\n\\n\\tO Campus Barbacena divulgou o Resultado Provisório do VIII Simpósio de Pesquisa e Inovação\\n\\n\\tOs estudantes devem ficar atentos as observações que constam no final do documento\\n\\nLeia o documento\\n'"
      ]
     },
     "execution_count": 83,
     "metadata": {},
     "output_type": "execute_result"
    }
   ],
   "source": [
    "''.join([l for l in df.iloc[0]['conteudo'] if l not in punctuation])"
   ]
  },
  {
   "cell_type": "code",
   "execution_count": 95,
   "metadata": {},
   "outputs": [],
   "source": [
    "tokens = ' '.join(list)"
   ]
  },
  {
   "cell_type": "code",
   "execution_count": 96,
   "metadata": {},
   "outputs": [
    {
     "name": "stdout",
     "output_type": "stream",
     "text": [
      "00 000 000957 001 002 002084 002086 pontuação 003 003360 008 009 01 012 018 02 020 021 022 03 031 032 036 039 03dez2015 04 05 050617 052 056 05_final 06 06h30 07 paralelepipedo 072016 07h 07h00 07h30 08 08h 08h00min 08h30 08h30min 09 09h 09h00min 09h30 09h30min 10 100 1000 10024 106 107 109 10h 10h00min 10h30 10h30m 10h30min 10h45mim 10h45min 10ª 10º 11 110 115 116257 11h 11h00 11h00min 11h10min 11h30 11h30min 11h40 11ª 11º 12 120 121 125 1256 128 1283 129 12h 12h00min 12h30 13 136 13h 13h00 13h00min 13h10min 13h30 13h30min 13ª 14 140 141 143 145 146 149 14h 14h00min 14h30 local 14hlocal 14qualidadedevidaedoambiente 15 150 15h 15h30 15h30min 16 160 164 166 16h 16h00min 16h30 16h50 17 170 172 175 179 17h 17h00min 17h30 17h30min 17h45 17ª 18 180 1827 185 189 18h 18h00min 18h15min 18h30 18h30min 18ª 19 1909 191 1910 192 1927 1927an4vppuglifzxylp9u4ogs 1932 1945 1947 1972 1979 1983 1984 1986 1987 1992 1993 1994 1995 1999 19h 19h00 19h00min 19h15 19h15min 19h30 19h45 19jifsghun 19ª 1_2lgnzzc9ekuu4g5xtn66opwkev5txvea4ivqmh6ycy 1_uvu7iyigo5d6qfhehvmvop3wxgapk1pdeyr1uvvkqc 1a 1aalfne7h4grxa0mkurk7gg4pei5efmmsby54gluw4o4 1ahcf2vzkiuk9ftljgn_f62esex2wjgww7ivaidltriu 1asd8wjjwq0ini_tt_jgkzkhepxzdnpagumav8gus5_8 1azedtlmijk2u 1bahgg 1csgcyirajzo4m9hjt2tt_kun6qexqgaybamatk0kky0 1d4 1di0b8l8hhcmuicpls6p9vs5ub1xkneyujupfspjia_i 1dwra7owoaosxovdphuwwhcijahahtqwd88bsiudoyru inconstitucionalissimamente 1e09fsvlgbghxb_4d6s9hzqrgt6cur2jbzqingdagxse 1ed 1erhcwwkmynbmj0yqejhidawaso2u4u 1ezktrujmohi 1faipqlscdlziuyyujafh brasil 1faipqlscemesh6sdpexovfoqhkvcuckvqnvmnwlchtjgheebxodxohw 1faipqlscsciawacjjishc53hd 1faipqlscsve_rzttqs9cnvefg 1faipqlse5t97v1xbrt2q9xqprrf9gqux7hlo79v6kqkyrlksbryzqtg 1faipqlsercvcmvhzzn_v0w_8umgdkfjr_qswcmoxydghams29b6ihgq 1fhbbwdgb1_7jciglamojrwro5uiunebmgadhethfsk0 o 1fn8_ymysoveepdturcpigwh8kyuotqi2rqorfs6nhsa oi 1fxznjaceqieo_r brasil 1g5rbhfyjxh6wy3yfqv77_yvng6swnsxoxw3dvezl5c0 1g9lbd7xhlt9hotp2\n"
     ]
    }
   ],
   "source": [
    "print(tokens)"
   ]
  },
  {
   "cell_type": "code",
   "execution_count": 117,
   "metadata": {},
   "outputs": [],
   "source": [
    "tokensCorretos = re.sub(r'\\d\\w*(\\s|$)', '', tokens)"
   ]
  },
  {
   "cell_type": "code",
   "execution_count": 118,
   "metadata": {},
   "outputs": [
    {
     "name": "stdout",
     "output_type": "stream",
     "text": [
      "pontuação paralelepipedo local inconstitucionalissimamente brasil o oi brasil \n"
     ]
    }
   ],
   "source": [
    "print(tokensCorretos)"
   ]
  },
  {
   "cell_type": "code",
   "execution_count": 119,
   "metadata": {},
   "outputs": [],
   "source": [
    "listaCorreta = tokensCorretos.split()"
   ]
  },
  {
   "cell_type": "code",
   "execution_count": 120,
   "metadata": {},
   "outputs": [
    {
     "name": "stdout",
     "output_type": "stream",
     "text": [
      "['pontuação', 'paralelepipedo', 'local', 'inconstitucionalissimamente', 'brasil', 'o', 'oi', 'brasil']\n"
     ]
    }
   ],
   "source": [
    "print(listaCorreta)"
   ]
  },
  {
   "cell_type": "code",
   "execution_count": null,
   "metadata": {},
   "outputs": [],
   "source": []
  }
 ],
 "metadata": {
  "kernelspec": {
   "display_name": "Python 3",
   "language": "python",
   "name": "python3"
  },
  "language_info": {
   "codemirror_mode": {
    "name": "ipython",
    "version": 3
   },
   "file_extension": ".py",
   "mimetype": "text/x-python",
   "name": "python",
   "nbconvert_exporter": "python",
   "pygments_lexer": "ipython3",
   "version": "3.6.5"
  }
 },
 "nbformat": 4,
 "nbformat_minor": 2
}
