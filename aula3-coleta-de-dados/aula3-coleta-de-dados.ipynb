{
 "cells": [
  {
   "cell_type": "code",
   "execution_count": 1,
   "metadata": {},
   "outputs": [],
   "source": [
    "import requests"
   ]
  },
  {
   "cell_type": "code",
   "execution_count": 2,
   "metadata": {},
   "outputs": [],
   "source": [
    "req = requests.get('https://stackoverflow.com/users?page=1&tab=reputation&filter=week')"
   ]
  },
  {
   "cell_type": "code",
   "execution_count": 3,
   "metadata": {},
   "outputs": [
    {
     "data": {
      "text/plain": [
       "<Response [200]>"
      ]
     },
     "execution_count": 3,
     "metadata": {},
     "output_type": "execute_result"
    }
   ],
   "source": [
    "req"
   ]
  },
  {
   "cell_type": "code",
   "execution_count": 4,
   "metadata": {
    "scrolled": true
   },
   "outputs": [
    {
     "data": {
      "text/plain": [
       "{'Cache-Control': 'private', 'Content-Type': 'text/html; charset=utf-8', 'Content-Encoding': 'gzip', 'X-Frame-Options': 'SAMEORIGIN', 'X-Request-Guid': 'bb867148-1114-4cf9-ac62-2f50ccfa6067', 'Strict-Transport-Security': 'max-age=15552000', 'Feature-Policy': \"microphone 'none'; speaker 'none'\", 'Content-Security-Policy': \"upgrade-insecure-requests; frame-ancestors 'self'\", 'Accept-Ranges': 'bytes, bytes', 'Age': '0, 0', 'Content-Length': '24074', 'Date': 'Tue, 09 Jul 2019 17:21:38 GMT', 'Via': '1.1 varnish', 'Connection': 'keep-alive', 'X-Served-By': 'cache-gru17132-GRU', 'X-Cache': 'MISS', 'X-Cache-Hits': '0', 'X-Timer': 'S1562692899.833168,VS0,VE135', 'Vary': 'Accept-Encoding,Fastly-SSL', 'X-DNS-Prefetch-Control': 'off'}"
      ]
     },
     "execution_count": 4,
     "metadata": {},
     "output_type": "execute_result"
    }
   ],
   "source": [
    "req.headers"
   ]
  },
  {
   "cell_type": "code",
   "execution_count": null,
   "metadata": {},
   "outputs": [],
   "source": []
  },
  {
   "cell_type": "code",
   "execution_count": 5,
   "metadata": {},
   "outputs": [
    {
     "data": {
      "text/plain": [
       "200"
      ]
     },
     "execution_count": 5,
     "metadata": {},
     "output_type": "execute_result"
    }
   ],
   "source": [
    "req.status_code"
   ]
  },
  {
   "cell_type": "code",
   "execution_count": null,
   "metadata": {},
   "outputs": [],
   "source": []
  },
  {
   "cell_type": "code",
   "execution_count": 6,
   "metadata": {},
   "outputs": [
    {
     "data": {
      "text/plain": [
       "'OK'"
      ]
     },
     "execution_count": 6,
     "metadata": {},
     "output_type": "execute_result"
    }
   ],
   "source": [
    "req.reason"
   ]
  },
  {
   "cell_type": "code",
   "execution_count": 7,
   "metadata": {},
   "outputs": [
    {
     "data": {
      "text/plain": [
       "'<!DOCTYPE html>\\r\\n\\r\\n\\r\\n    <html class=\"html__responsive\">\\r\\n\\r\\n    <head>\\r\\n\\r\\n        <title>Users - Stack Overflow</title>\\r\\n        <link rel=\"shortcut icon\" href=\"https://cdn.sstatic.net/Sites/stackoverflow/img/favicon.ico?v=4f32ecc8f43d\">\\r\\n        <link rel=\"apple-touch-icon image_src\" href=\"https://cdn.sstatic.net/Sites/stackoverflow/img/apple-touch-icon.png?v=c78bd457575a\">\\r\\n        <link rel=\"search\" type=\"application/opensearchdescription+xml\" title=\"Stack Overflow\" href=\"/opensearch.xml\">\\r\\n        <meta name=\"viewport\" content=\"width=device-width, height=device-height, initial-scale=1.0, minimum-scale=1.0\">\\r\\n\\r\\n\\r\\n        <meta property=\"og:type\" content= \"website\" />\\r\\n        <meta property=\"og:url\" content=\"https://stackoverflow.com/users?tab=reputation&amp;filter=all\"/>\\r\\n        <meta property=\"og:site_name\" content=\"Stack Overflow\" />\\r\\n        <meta property=\"og:image\" itemprop=\"image primaryImageOfPage\" content=\"https://cdn.sstatic.net/Sites/stackoverflow/img/apple-touch-icon@2.'"
      ]
     },
     "execution_count": 7,
     "metadata": {},
     "output_type": "execute_result"
    }
   ],
   "source": [
    "req.text[:1000]"
   ]
  },
  {
   "cell_type": "code",
   "execution_count": null,
   "metadata": {},
   "outputs": [],
   "source": []
  },
  {
   "cell_type": "code",
   "execution_count": null,
   "metadata": {},
   "outputs": [],
   "source": []
  },
  {
   "cell_type": "code",
   "execution_count": 8,
   "metadata": {},
   "outputs": [],
   "source": [
    "req = requests.head('https://stackoverflow.com/users?page=1&tab=reputation&filter=week')"
   ]
  },
  {
   "cell_type": "code",
   "execution_count": 9,
   "metadata": {},
   "outputs": [
    {
     "data": {
      "text/plain": [
       "{'Cache-Control': 'private', 'Content-Type': 'text/html; charset=utf-8', 'Location': '/users?tab=reputation&filter=all', 'X-Frame-Options': 'SAMEORIGIN', 'X-Request-Guid': '2522c077-88e7-4dfd-b322-771773f3cb2b', 'Strict-Transport-Security': 'max-age=15552000', 'Feature-Policy': \"microphone 'none'; speaker 'none'\", 'Content-Security-Policy': \"upgrade-insecure-requests; frame-ancestors 'self'\", 'Accept-Ranges': 'bytes, bytes', 'Age': '0, 0', 'Content-Length': '153', 'Date': 'Tue, 09 Jul 2019 17:21:39 GMT', 'Via': '1.1 varnish', 'Connection': 'keep-alive', 'X-Served-By': 'cache-gig17021-GIG', 'X-Cache': 'MISS', 'X-Cache-Hits': '0', 'X-Timer': 'S1562692900.840598,VS0,VE129', 'Vary': 'Fastly-SSL', 'X-DNS-Prefetch-Control': 'off', 'Set-Cookie': 'prov=7bbc4553-bf1c-e15e-c511-653e03faace5; domain=.stackoverflow.com; expires=Fri, 01-Jan-2055 00:00:00 GMT; path=/; HttpOnly'}"
      ]
     },
     "execution_count": 9,
     "metadata": {},
     "output_type": "execute_result"
    }
   ],
   "source": [
    "req.headers"
   ]
  },
  {
   "cell_type": "code",
   "execution_count": null,
   "metadata": {},
   "outputs": [],
   "source": []
  },
  {
   "cell_type": "code",
   "execution_count": 10,
   "metadata": {},
   "outputs": [
    {
     "data": {
      "text/plain": [
       "''"
      ]
     },
     "execution_count": 10,
     "metadata": {},
     "output_type": "execute_result"
    }
   ],
   "source": [
    "req.text"
   ]
  },
  {
   "cell_type": "code",
   "execution_count": null,
   "metadata": {},
   "outputs": [],
   "source": []
  },
  {
   "cell_type": "code",
   "execution_count": 11,
   "metadata": {},
   "outputs": [],
   "source": [
    "import re"
   ]
  },
  {
   "cell_type": "code",
   "execution_count": null,
   "metadata": {},
   "outputs": [],
   "source": []
  },
  {
   "cell_type": "code",
   "execution_count": 12,
   "metadata": {},
   "outputs": [
    {
     "name": "stdout",
     "output_type": "stream",
     "text": [
      "Casou\n"
     ]
    }
   ],
   "source": [
    "if re.match(r'[gr]ato', 'gato'):\n",
    "    print('Casou')"
   ]
  },
  {
   "cell_type": "code",
   "execution_count": 13,
   "metadata": {},
   "outputs": [
    {
     "name": "stdout",
     "output_type": "stream",
     "text": [
      "Não casou\n"
     ]
    }
   ],
   "source": [
    "if re.match(r'[gr]ato', 'pato'):\n",
    "    print('Casou')\n",
    "else:\n",
    "    print('Não casou')"
   ]
  },
  {
   "cell_type": "code",
   "execution_count": 14,
   "metadata": {},
   "outputs": [
    {
     "name": "stdout",
     "output_type": "stream",
     "text": [
      "Casou\n"
     ]
    }
   ],
   "source": [
    "if re.match(r'[gr]ato', 'rato'):\n",
    "    print('Casou')"
   ]
  },
  {
   "cell_type": "code",
   "execution_count": null,
   "metadata": {},
   "outputs": [],
   "source": []
  },
  {
   "cell_type": "markdown",
   "metadata": {},
   "source": [
    "`re.match(padrao, string, flags=0)`\n",
    "\n",
    "Busca o padrão a partir do início da string. Retorna um objeto match caso encontre o padrão."
   ]
  },
  {
   "cell_type": "code",
   "execution_count": null,
   "metadata": {},
   "outputs": [],
   "source": []
  },
  {
   "cell_type": "code",
   "execution_count": 15,
   "metadata": {},
   "outputs": [
    {
     "data": {
      "text/plain": [
       "<re.Match object; span=(0, 4), match='gato'>"
      ]
     },
     "execution_count": 15,
     "metadata": {},
     "output_type": "execute_result"
    }
   ],
   "source": [
    "re.match(r'[gr]ato', 'gato')"
   ]
  },
  {
   "cell_type": "code",
   "execution_count": 16,
   "metadata": {},
   "outputs": [],
   "source": [
    "re.match(r'[gr]ato', 'pato')"
   ]
  },
  {
   "cell_type": "code",
   "execution_count": 17,
   "metadata": {},
   "outputs": [
    {
     "data": {
      "text/plain": [
       "'gato'"
      ]
     },
     "execution_count": 17,
     "metadata": {},
     "output_type": "execute_result"
    }
   ],
   "source": [
    "re.match(r'[gr]ato', 'gato').group(0)"
   ]
  },
  {
   "cell_type": "code",
   "execution_count": 18,
   "metadata": {},
   "outputs": [
    {
     "data": {
      "text/plain": [
       "'g'"
      ]
     },
     "execution_count": 18,
     "metadata": {},
     "output_type": "execute_result"
    }
   ],
   "source": [
    "re.match(r'([gr])(ato)', 'gato').group(1)"
   ]
  },
  {
   "cell_type": "code",
   "execution_count": 19,
   "metadata": {},
   "outputs": [
    {
     "data": {
      "text/plain": [
       "'ato'"
      ]
     },
     "execution_count": 19,
     "metadata": {},
     "output_type": "execute_result"
    }
   ],
   "source": [
    "re.match(r'([gr])(ato)', 'gato').group(2)"
   ]
  },
  {
   "cell_type": "markdown",
   "metadata": {},
   "source": [
    "<code>re.findall(padrao, string, flags=0)</code>\n",
    "\n",
    "Retorna uma lista com todas as ocorrências não sobrepostas do padrão na string.\n",
    "\n",
    "<br>\n",
    "\n",
    "<strong>Obter o título das notícias do Barbacena Online (passo a passo):</strong>"
   ]
  },
  {
   "cell_type": "code",
   "execution_count": 20,
   "metadata": {},
   "outputs": [],
   "source": [
    "html = requests.get('https://barbacenaonline.com.br/').text"
   ]
  },
  {
   "cell_type": "code",
   "execution_count": 21,
   "metadata": {},
   "outputs": [
    {
     "data": {
      "text/plain": [
       "[]"
      ]
     },
     "execution_count": 21,
     "metadata": {},
     "output_type": "execute_result"
    }
   ],
   "source": [
    "re.findall(r'<a title=\".+\"', html)"
   ]
  },
  {
   "cell_type": "code",
   "execution_count": 22,
   "metadata": {
    "scrolled": true
   },
   "outputs": [
    {
     "data": {
      "text/plain": [
       "['<a  title=\"Operação &#8220;Desvia&#8221;, da PF, tem sua terceira etapa em Barbacena\" data-src=\"https://barbacenaonline.com.br/application/uploads/2019/07/PF-BQ-0907-b-e1562674402772-720x430.jpg\" data-bs-srcset=\"{&quot;baseurl&quot;:&quot;https:\\\\/\\\\/barbacenaonline.com.br\\\\/application\\\\/uploads\\\\/2019\\\\/07\\\\/&quot;,&quot;sizes&quot;:{&quot;210&quot;:&quot;PF-BQ-0907-b-e1562674402772-210x136.jpg&quot;,&quot;279&quot;:&quot;PF-BQ-0907-b-e1562674402772-279x220.jpg&quot;,&quot;357&quot;:&quot;PF-BQ-0907-b-e1562674402772-357x210.jpg&quot;,&quot;720&quot;:&quot;PF-BQ-0907-b-e1562674402772.jpg&quot;}}\"\\t\\t\\t\\tclass=\"img-cont\" href=\"https://barbacenaonline.com.br/operacao-desvia-da-pf-tem-sua-terceira-etapa-em-barbacena/\"></a><div class=\"term-badges floated\"><span class=\"term-badge term-22\"><a href=\"https://barbacenaonline.com.br/category/cidade/\">Cidade</a></span></div><div class=\"content-container\"><h2 class=\"title\">\\t\\t\\t<a href=\"https://barbacenaonline.com.br/operacao-desvia-da-pf-tem-sua-terceira-etapa-em-barbacena/\" class=\"post-url post-title\"',\n",
       " '<a  title=\"Ciência e Curiosidade: Festival abre votação popular para temas de vivências\" data-src=\"https://barbacenaonline.com.br/application/uploads/2019/06/431035_340686119349142_721249370_n-279x220.jpg\" data-bs-srcset=\"{&quot;baseurl&quot;:&quot;https:\\\\/\\\\/barbacenaonline.com.br\\\\/application\\\\/uploads\\\\/2019\\\\/06\\\\/&quot;,&quot;sizes&quot;:{&quot;210&quot;:&quot;431035_340686119349142_721249370_n-210x136.jpg&quot;,&quot;279&quot;:&quot;431035_340686119349142_721249370_n-279x220.jpg&quot;,&quot;357&quot;:&quot;431035_340686119349142_721249370_n-357x210.jpg&quot;,&quot;640&quot;:&quot;431035_340686119349142_721249370_n-e1561723271278.jpg&quot;,&quot;750&quot;:&quot;431035_340686119349142_721249370_n-750x430.jpg&quot;}}\"\\t\\t\\t\\tclass=\"img-cont\" href=\"https://barbacenaonline.com.br/ciencia-e-curiosidade-festival-abre-votacao-popular-para-temas-de-vivencias/\"></a><div class=\"term-badges floated\"><span class=\"term-badge term-31\"><a href=\"https://barbacenaonline.com.br/category/esporte/\">Esporte</a></span></div><div class=\"content-container\"><h2 class=\"title\">\\t\\t\\t<a href=\"https://barbacenaonline.com.br/ciencia-e-curiosidade-festival-abre-votacao-popular-para-temas-de-vivencias/\" class=\"post-url post-title\"',\n",
       " '<a  title=\"Iniciativa possibilita emissão e renovação de passaporte a cidadãos italianos em Barbacena e região\" data-src=\"https://barbacenaonline.com.br/application/themes/publisher/images/default-thumb/publisher-mg2.png\"\\t\\t\\t\\tclass=\"img-cont\" href=\"https://barbacenaonline.com.br/iniciativa-possibilita-emissao-e-renovacao-de-passaporte-a-cidadaos-italianos-em-barbacena-e-regiao/\"></a><div class=\"term-badges floated\"><span class=\"term-badge term-22\"><a href=\"https://barbacenaonline.com.br/category/cidade/\">Cidade</a></span></div><div class=\"content-container\"><h2 class=\"title\">\\t\\t\\t<a href=\"https://barbacenaonline.com.br/iniciativa-possibilita-emissao-e-renovacao-de-passaporte-a-cidadaos-italianos-em-barbacena-e-regiao/\" class=\"post-url post-title\"',\n",
       " '<a  title=\"Livro &#8220;Memórias&#8221; inspira histórias e emociona o público\" data-src=\"https://barbacenaonline.com.br/application/uploads/2019/07/IMG_4882-279x220.jpg\" data-bs-srcset=\"{&quot;baseurl&quot;:&quot;https:\\\\/\\\\/barbacenaonline.com.br\\\\/application\\\\/uploads\\\\/2019\\\\/07\\\\/&quot;,&quot;sizes&quot;:{&quot;210&quot;:&quot;IMG_4882-210x136.jpg&quot;,&quot;279&quot;:&quot;IMG_4882-279x220.jpg&quot;,&quot;357&quot;:&quot;IMG_4882-357x210.jpg&quot;,&quot;684&quot;:&quot;IMG_4882-e1562669580958.jpg&quot;,&quot;750&quot;:&quot;IMG_4882-750x430.jpg&quot;}}\"\\t\\t\\t\\tclass=\"img-cont\" href=\"https://barbacenaonline.com.br/livro-memorias-inspira-historias-e-emociona-o-publico/\"></a><div class=\"term-badges floated\"><span class=\"term-badge term-42\"><a href=\"https://barbacenaonline.com.br/category/religiao/\">Religião</a></span></div><div class=\"content-container\"><h2 class=\"title\">\\t\\t\\t<a href=\"https://barbacenaonline.com.br/livro-memorias-inspira-historias-e-emociona-o-publico/\" class=\"post-url post-title\"',\n",
       " '<a  title=\"Vai começar a festa do Vermelho\" data-src=\"https://barbacenaonline.com.br/application/uploads/2019/07/FelipeDante-Vermelho-279x220.jpg\" data-bs-srcset=\"{&quot;baseurl&quot;:&quot;https:\\\\/\\\\/barbacenaonline.com.br\\\\/application\\\\/uploads\\\\/2019\\\\/07\\\\/&quot;,&quot;sizes&quot;:{&quot;210&quot;:&quot;FelipeDante-Vermelho-210x136.jpg&quot;,&quot;279&quot;:&quot;FelipeDante-Vermelho-279x220.jpg&quot;,&quot;357&quot;:&quot;FelipeDante-Vermelho-357x210.jpg&quot;,&quot;750&quot;:&quot;FelipeDante-Vermelho-750x430.jpg&quot;,&quot;960&quot;:&quot;FelipeDante-Vermelho.jpg&quot;}}\"\\t\\t\\t\\tclass=\"img-cont\" href=\"https://barbacenaonline.com.br/vai-comecar-a-festa-do-vermelho/\"></a><div class=\"term-badges floated\"><span class=\"term-badge term-23\"><a href=\"https://barbacenaonline.com.br/category/regiao/\">Região</a></span></div><div class=\"content-container\"><h2 class=\"title\">\\t\\t\\t<a href=\"https://barbacenaonline.com.br/vai-comecar-a-festa-do-vermelho/\" class=\"post-url post-title\"',\n",
       " '<a  title=\"Operação &#8220;Desvia&#8221;, da PF, tem sua terceira etapa em Barbacena\" data-src=\"https://barbacenaonline.com.br/application/uploads/2019/07/PF-BQ-0907-b-e1562674402772-357x210.jpg\" data-bs-srcset=\"{&quot;baseurl&quot;:&quot;https:\\\\/\\\\/barbacenaonline.com.br\\\\/application\\\\/uploads\\\\/2019\\\\/07\\\\/&quot;,&quot;sizes&quot;:{&quot;210&quot;:&quot;PF-BQ-0907-b-e1562674402772-210x136.jpg&quot;,&quot;279&quot;:&quot;PF-BQ-0907-b-e1562674402772-279x220.jpg&quot;,&quot;357&quot;:&quot;PF-BQ-0907-b-e1562674402772-357x210.jpg&quot;,&quot;720&quot;:&quot;PF-BQ-0907-b-e1562674402772.jpg&quot;}}\"\\t\\t\\t\\t\\t\\tclass=\"img-holder\" href=\"https://barbacenaonline.com.br/operacao-desvia-da-pf-tem-sua-terceira-etapa-em-barbacena/\"></a></div><h2 class=\"title\">\\t\\t<a href=\"https://barbacenaonline.com.br/operacao-desvia-da-pf-tem-sua-terceira-etapa-em-barbacena/\" class=\"post-title post-url\"',\n",
       " '<a  title=\"Começam a ser instaladas as academias da saúde\" data-src=\"https://barbacenaonline.com.br/application/uploads/2019/07/Academias-357x210.jpg\" data-bs-srcset=\"{&quot;baseurl&quot;:&quot;https:\\\\/\\\\/barbacenaonline.com.br\\\\/application\\\\/uploads\\\\/2019\\\\/07\\\\/&quot;,&quot;sizes&quot;:{&quot;210&quot;:&quot;Academias-210x136.jpg&quot;,&quot;279&quot;:&quot;Academias-279x220.jpg&quot;,&quot;357&quot;:&quot;Academias-357x210.jpg&quot;,&quot;580&quot;:&quot;Academias-e1562540807388.jpg&quot;,&quot;750&quot;:&quot;Academias-750x430.jpg&quot;}}\"\\t\\t\\t\\t\\t\\tclass=\"img-holder\" href=\"https://barbacenaonline.com.br/comecam-a-ser-instaladas-as-academias-da-saude/\"></a></div><h2 class=\"title\">\\t\\t<a href=\"https://barbacenaonline.com.br/comecam-a-ser-instaladas-as-academias-da-saude/\" class=\"post-title post-url\"',\n",
       " '<a  title=\"Rompimento: abastecimento de água interrompido na região do SAS\" data-src=\"https://barbacenaonline.com.br/application/uploads/2019/07/Adutora-Rio-das-Mortes-Barbacena-357x210.jpg\" data-bs-srcset=\"{&quot;baseurl&quot;:&quot;https:\\\\/\\\\/barbacenaonline.com.br\\\\/application\\\\/uploads\\\\/2019\\\\/07\\\\/&quot;,&quot;sizes&quot;:{&quot;210&quot;:&quot;Adutora-Rio-das-Mortes-Barbacena-210x136.jpg&quot;,&quot;279&quot;:&quot;Adutora-Rio-das-Mortes-Barbacena-279x220.jpg&quot;,&quot;357&quot;:&quot;Adutora-Rio-das-Mortes-Barbacena-357x210.jpg&quot;,&quot;646&quot;:&quot;Adutora-Rio-das-Mortes-Barbacena.jpg&quot;}}\"\\t\\t\\t\\t\\t\\tclass=\"img-holder\" href=\"https://barbacenaonline.com.br/rompimento-abastecimento-de-agua-interrompido-na-regiao-do-sas/\"></a></div><h2 class=\"title\">\\t\\t<a href=\"https://barbacenaonline.com.br/rompimento-abastecimento-de-agua-interrompido-na-regiao-do-sas/\" class=\"post-title post-url\"',\n",
       " '<a  title=\"Caminhonete bate na traseira de caminhão e condutor fica ferido\" data-src=\"https://barbacenaonline.com.br/application/uploads/2019/07/bec44a88-a1d9-4275-ae69-994fe9a98c50-357x210.jpg\" data-bs-srcset=\"{&quot;baseurl&quot;:&quot;https:\\\\/\\\\/barbacenaonline.com.br\\\\/application\\\\/uploads\\\\/2019\\\\/07\\\\/&quot;,&quot;sizes&quot;:{&quot;210&quot;:&quot;bec44a88-a1d9-4275-ae69-994fe9a98c50-210x136.jpg&quot;,&quot;279&quot;:&quot;bec44a88-a1d9-4275-ae69-994fe9a98c50-279x220.jpg&quot;,&quot;357&quot;:&quot;bec44a88-a1d9-4275-ae69-994fe9a98c50-357x210.jpg&quot;,&quot;750&quot;:&quot;bec44a88-a1d9-4275-ae69-994fe9a98c50-750x430.jpg&quot;,&quot;1152&quot;:&quot;bec44a88-a1d9-4275-ae69-994fe9a98c50.jpg&quot;}}\"\\t\\t\\t\\t\\t\\tclass=\"img-holder\" href=\"https://barbacenaonline.com.br/caminhonete-bate-na-traseira-de-caminhao-e-condutor-fica-ferido/\"></a></div><h2 class=\"title\">\\t\\t<a href=\"https://barbacenaonline.com.br/caminhonete-bate-na-traseira-de-caminhao-e-condutor-fica-ferido/\" class=\"post-title post-url\"',\n",
       " '<a  title=\"Carro com quatro mulheres de Barbacena cai em ribanceira na BR 040\" data-src=\"https://barbacenaonline.com.br/application/uploads/2019/07/bfed2cb3-c028-4931-a36e-f7cae0b39476-357x210.jpg\" data-bs-srcset=\"{&quot;baseurl&quot;:&quot;https:\\\\/\\\\/barbacenaonline.com.br\\\\/application\\\\/uploads\\\\/2019\\\\/07\\\\/&quot;,&quot;sizes&quot;:{&quot;210&quot;:&quot;bfed2cb3-c028-4931-a36e-f7cae0b39476-210x136.jpg&quot;,&quot;279&quot;:&quot;bfed2cb3-c028-4931-a36e-f7cae0b39476-279x220.jpg&quot;,&quot;357&quot;:&quot;bfed2cb3-c028-4931-a36e-f7cae0b39476-357x210.jpg&quot;,&quot;750&quot;:&quot;bfed2cb3-c028-4931-a36e-f7cae0b39476-750x430.jpg&quot;,&quot;1280&quot;:&quot;bfed2cb3-c028-4931-a36e-f7cae0b39476.jpg&quot;}}\"\\t\\t\\t\\t\\t\\tclass=\"img-holder\" href=\"https://barbacenaonline.com.br/carro-com-quatro-mulheres-de-barbacena-cai-em-ribanceira-na-br-040/\"></a></div><h2 class=\"title\">\\t\\t<a href=\"https://barbacenaonline.com.br/carro-com-quatro-mulheres-de-barbacena-cai-em-ribanceira-na-br-040/\" class=\"post-title post-url\"',\n",
       " '<a  title=\"Motorista morre em acidente na 040\" data-src=\"https://barbacenaonline.com.br/application/uploads/2019/07/Acidente-040-0607-357x210.jpg\" data-bs-srcset=\"{&quot;baseurl&quot;:&quot;https:\\\\/\\\\/barbacenaonline.com.br\\\\/application\\\\/uploads\\\\/2019\\\\/07\\\\/&quot;,&quot;sizes&quot;:{&quot;210&quot;:&quot;Acidente-040-0607-210x136.jpg&quot;,&quot;279&quot;:&quot;Acidente-040-0607-279x220.jpg&quot;,&quot;357&quot;:&quot;Acidente-040-0607-357x210.jpg&quot;,&quot;480&quot;:&quot;Acidente-040-0607.jpg&quot;}}\"\\t\\t\\t\\t\\t\\tclass=\"img-holder\" href=\"https://barbacenaonline.com.br/motorista-morre-em-acidente-na-040/\"></a></div><h2 class=\"title\">\\t\\t<a href=\"https://barbacenaonline.com.br/motorista-morre-em-acidente-na-040/\" class=\"post-title post-url\"',\n",
       " '<a  title=\"Tumulto no presídio cancela visita de familiares\" data-src=\"https://barbacenaonline.com.br/application/uploads/2018/05/Motim-Presídio-300518-e1527689228798-357x210.jpg\" data-bs-srcset=\"{&quot;baseurl&quot;:&quot;https:\\\\/\\\\/barbacenaonline.com.br\\\\/application\\\\/uploads\\\\/2018\\\\/05\\\\/&quot;,&quot;sizes&quot;:{&quot;210&quot;:&quot;Motim-Pres\\\\u00eddio-300518-e1527689228798-210x136.jpg&quot;,&quot;279&quot;:&quot;Motim-Pres\\\\u00eddio-300518-e1527689228798-279x220.jpg&quot;,&quot;357&quot;:&quot;Motim-Pres\\\\u00eddio-300518-e1527689228798-357x210.jpg&quot;,&quot;633&quot;:&quot;Motim-Pres\\\\u00eddio-300518-e1527689228798.jpg&quot;}}\"\\t\\t\\t\\t\\t\\tclass=\"img-holder\" href=\"https://barbacenaonline.com.br/tumulto-no-presidio-cancela-visita-de-familiares/\"></a></div><h2 class=\"title\">\\t\\t<a href=\"https://barbacenaonline.com.br/tumulto-no-presidio-cancela-visita-de-familiares/\" class=\"post-title post-url\"',\n",
       " '<a  title=\"Quase meia tonelada de maconha apreendida na rodovia\" data-src=\"https://barbacenaonline.com.br/application/uploads/2019/07/Apreensão-Maconha-357x210.jpg\" data-bs-srcset=\"{&quot;baseurl&quot;:&quot;https:\\\\/\\\\/barbacenaonline.com.br\\\\/application\\\\/uploads\\\\/2019\\\\/07\\\\/&quot;,&quot;sizes&quot;:{&quot;210&quot;:&quot;Apreens\\\\u00e3o-Maconha-210x136.jpg&quot;,&quot;279&quot;:&quot;Apreens\\\\u00e3o-Maconha-279x220.jpg&quot;,&quot;357&quot;:&quot;Apreens\\\\u00e3o-Maconha-357x210.jpg&quot;,&quot;750&quot;:&quot;Apreens\\\\u00e3o-Maconha-750x430.jpg&quot;,&quot;1152&quot;:&quot;Apreens\\\\u00e3o-Maconha.jpg&quot;}}\"\\t\\t\\t\\t\\t\\tclass=\"img-holder\" href=\"https://barbacenaonline.com.br/quase-meia-tonelada-de-maconha-apreendida-na-rodovia/\"></a></div><h2 class=\"title\">\\t\\t<a href=\"https://barbacenaonline.com.br/quase-meia-tonelada-de-maconha-apreendida-na-rodovia/\" class=\"post-title post-url\"',\n",
       " '<a  title=\"Trio suspeito de homicídio é preso na região\" data-src=\"https://barbacenaonline.com.br/application/themes/publisher/images/default-thumb/publisher-md.png\"\\t\\t\\t\\t\\t\\tclass=\"img-holder\" href=\"https://barbacenaonline.com.br/trio-suspeito-de-homicidio-e-preso-na-regiao/\"></a></div><h2 class=\"title\">\\t\\t<a href=\"https://barbacenaonline.com.br/trio-suspeito-de-homicidio-e-preso-na-regiao/\" class=\"post-title post-url\"',\n",
       " '<a  title=\"Carreta se incendeia no km 760 da 040\" data-src=\"https://barbacenaonline.com.br/application/uploads/2019/07/06ba2b58-135d-4f08-9ce1-be2c695acad1-357x210.jpg\" data-bs-srcset=\"{&quot;baseurl&quot;:&quot;https:\\\\/\\\\/barbacenaonline.com.br\\\\/application\\\\/uploads\\\\/2019\\\\/07\\\\/&quot;,&quot;sizes&quot;:{&quot;210&quot;:&quot;06ba2b58-135d-4f08-9ce1-be2c695acad1-210x136.jpg&quot;,&quot;279&quot;:&quot;06ba2b58-135d-4f08-9ce1-be2c695acad1-279x220.jpg&quot;,&quot;357&quot;:&quot;06ba2b58-135d-4f08-9ce1-be2c695acad1-357x210.jpg&quot;,&quot;750&quot;:&quot;06ba2b58-135d-4f08-9ce1-be2c695acad1-750x430.jpg&quot;,&quot;1280&quot;:&quot;06ba2b58-135d-4f08-9ce1-be2c695acad1.jpg&quot;}}\"\\t\\t\\t\\t\\t\\tclass=\"img-holder\" href=\"https://barbacenaonline.com.br/carreta-se-incendeia-no-km-760-da-040/\"></a></div><h2 class=\"title\">\\t\\t<a href=\"https://barbacenaonline.com.br/carreta-se-incendeia-no-km-760-da-040/\" class=\"post-title post-url\"',\n",
       " '<a  title=\"Infrator agride vítima a pauladas para roubar celular\" data-src=\"https://barbacenaonline.com.br/application/themes/publisher/images/default-thumb/publisher-md.png\"\\t\\t\\t\\t\\t\\tclass=\"img-holder\" href=\"https://barbacenaonline.com.br/infrator-agride-vitima-a-pauladas-para-roubar-celular/\"></a></div><h2 class=\"title\">\\t\\t<a href=\"https://barbacenaonline.com.br/infrator-agride-vitima-a-pauladas-para-roubar-celular/\" class=\"post-title post-url\"',\n",
       " '<a  title=\"Jovem preso por tráfico de drogas e porte de arma\" data-src=\"https://barbacenaonline.com.br/application/themes/publisher/images/default-thumb/publisher-md.png\"\\t\\t\\t\\t\\t\\tclass=\"img-holder\" href=\"https://barbacenaonline.com.br/jovem-preso-por-trafico-de-drogas-e-porte-de-arma/\"></a></div><h2 class=\"title\">\\t\\t<a href=\"https://barbacenaonline.com.br/jovem-preso-por-trafico-de-drogas-e-porte-de-arma/\" class=\"post-title post-url\"',\n",
       " '<a  title=\"Suspeito de estuprar a enteada é preso na região\" data-src=\"https://barbacenaonline.com.br/application/themes/publisher/images/default-thumb/publisher-md.png\"\\t\\t\\t\\t\\t\\tclass=\"img-holder\" href=\"https://barbacenaonline.com.br/suspeito-de-estuprar-a-enteada-e-preso-na-regiao/\"></a></div><h2 class=\"title\">\\t\\t<a href=\"https://barbacenaonline.com.br/suspeito-de-estuprar-a-enteada-e-preso-na-regiao/\" class=\"post-title post-url\"',\n",
       " '<a  title=\"Taxista agredido durante tentativa de roubo\" data-src=\"https://barbacenaonline.com.br/application/themes/publisher/images/default-thumb/publisher-md.png\"\\t\\t\\t\\t\\t\\tclass=\"img-holder\" href=\"https://barbacenaonline.com.br/taxista-agredido-durante-tentativa-de-roubo/\"></a></div><h2 class=\"title\">\\t\\t<a href=\"https://barbacenaonline.com.br/taxista-agredido-durante-tentativa-de-roubo/\" class=\"post-title post-url\"',\n",
       " '<a  title=\"Choramingando\" data-src=\"https://barbacenaonline.com.br/application/uploads/2019/02/Capa-Sonia-tirinha-357x210.jpg\" data-bs-srcset=\"{&quot;baseurl&quot;:&quot;https:\\\\/\\\\/barbacenaonline.com.br\\\\/application\\\\/uploads\\\\/2019\\\\/02\\\\/&quot;,&quot;sizes&quot;:{&quot;210&quot;:&quot;Capa-Sonia-tirinha-210x136.jpg&quot;,&quot;279&quot;:&quot;Capa-Sonia-tirinha-279x220.jpg&quot;,&quot;357&quot;:&quot;Capa-Sonia-tirinha-357x210.jpg&quot;,&quot;592&quot;:&quot;Capa-Sonia-tirinha.jpg&quot;}}\"\\t\\t\\t\\t\\t\\tclass=\"img-holder\" href=\"https://barbacenaonline.com.br/choramingando/\"></a></div><h2 class=\"title\">\\t\\t<a href=\"https://barbacenaonline.com.br/choramingando/\" class=\"post-title post-url\"',\n",
       " '<a  title=\"Inflação, a polêmica “Vilã Nacional” &#8230;\" data-src=\"https://barbacenaonline.com.br/application/uploads/2019/06/Foto-1-Pedro-Tostes-2906-345x210.jpg\" data-bs-srcset=\"{&quot;baseurl&quot;:&quot;https:\\\\/\\\\/barbacenaonline.com.br\\\\/application\\\\/uploads\\\\/2019\\\\/06\\\\/&quot;,&quot;sizes&quot;:{&quot;210&quot;:&quot;Foto-1-Pedro-Tostes-2906-210x136.jpg&quot;,&quot;279&quot;:&quot;Foto-1-Pedro-Tostes-2906-279x220.jpg&quot;,&quot;345&quot;:&quot;Foto-1-Pedro-Tostes-2906.jpg&quot;}}\"\\t\\t\\t\\t\\t\\tclass=\"img-holder\" href=\"https://barbacenaonline.com.br/inflacao-a-polemica-vila-nacional/\"></a></div><h2 class=\"title\">\\t\\t<a href=\"https://barbacenaonline.com.br/inflacao-a-polemica-vila-nacional/\" class=\"post-title post-url\"',\n",
       " '<a  title=\"Oportunidades de emprego para comprador, padeiro, churrasqueiro&#8230;confira\" data-src=\"https://barbacenaonline.com.br/application/uploads/2018/04/RAIS-642x336-357x210.jpg\" data-bs-srcset=\"{&quot;baseurl&quot;:&quot;https:\\\\/\\\\/barbacenaonline.com.br\\\\/application\\\\/uploads\\\\/2018\\\\/04\\\\/&quot;,&quot;sizes&quot;:{&quot;210&quot;:&quot;RAIS-642x336-210x136.jpg&quot;,&quot;279&quot;:&quot;RAIS-642x336-279x220.jpg&quot;,&quot;357&quot;:&quot;RAIS-642x336-357x210.jpg&quot;,&quot;642&quot;:&quot;RAIS-642x336.jpg&quot;}}\"\\t\\t\\t\\t\\t\\tclass=\"img-holder\" href=\"https://barbacenaonline.com.br/oportunidades-de-emprego-para-comprador-padeiro-churrasqueiro-confira/\"></a></div><h2 class=\"title\">\\t\\t<a href=\"https://barbacenaonline.com.br/oportunidades-de-emprego-para-comprador-padeiro-churrasqueiro-confira/\" class=\"post-title post-url\"',\n",
       " '<a  title=\"Atlética do curso de Educação Física do UNIPAC Barbacena conquista prata em torneio de futsal\" data-src=\"https://barbacenaonline.com.br/application/uploads/2019/07/Atlética-357x210.jpeg\" data-bs-srcset=\"{&quot;baseurl&quot;:&quot;https:\\\\/\\\\/barbacenaonline.com.br\\\\/application\\\\/uploads\\\\/2019\\\\/07\\\\/&quot;,&quot;sizes&quot;:{&quot;210&quot;:&quot;Atl\\\\u00e9tica-210x136.jpeg&quot;,&quot;279&quot;:&quot;Atl\\\\u00e9tica-279x220.jpeg&quot;,&quot;357&quot;:&quot;Atl\\\\u00e9tica-357x210.jpeg&quot;,&quot;750&quot;:&quot;Atl\\\\u00e9tica-750x430.jpeg&quot;,&quot;1280&quot;:&quot;Atl\\\\u00e9tica.jpeg&quot;}}\"\\t\\t\\t\\t\\t\\tclass=\"img-holder\" href=\"https://barbacenaonline.com.br/atletica-do-curso-de-educacao-fisica-do-unipac-barbacena-conquista-prata-em-torneio-de-futsal/\"></a></div><h2 class=\"title\">\\t\\t<a href=\"https://barbacenaonline.com.br/atletica-do-curso-de-educacao-fisica-do-unipac-barbacena-conquista-prata-em-torneio-de-futsal/\" class=\"post-title post-url\"',\n",
       " '<a  title=\"Alunos de Administração e Ciências Contábeis apresentam trabalhos em Consultoria Empresarial\" data-src=\"https://barbacenaonline.com.br/application/uploads/2019/07/adm-e-contábeis-1-357x210.jpg\" data-bs-srcset=\"{&quot;baseurl&quot;:&quot;https:\\\\/\\\\/barbacenaonline.com.br\\\\/application\\\\/uploads\\\\/2019\\\\/07\\\\/&quot;,&quot;sizes&quot;:{&quot;210&quot;:&quot;adm-e-cont\\\\u00e1beis-1-210x136.jpg&quot;,&quot;279&quot;:&quot;adm-e-cont\\\\u00e1beis-1-279x220.jpg&quot;,&quot;357&quot;:&quot;adm-e-cont\\\\u00e1beis-1-357x210.jpg&quot;,&quot;750&quot;:&quot;adm-e-cont\\\\u00e1beis-1-750x430.jpg&quot;,&quot;960&quot;:&quot;adm-e-cont\\\\u00e1beis-1.jpg&quot;}}\"\\t\\t\\t\\t\\t\\tclass=\"img-holder\" href=\"https://barbacenaonline.com.br/alunos-de-administracao-e-ciencias-contabeis-apresentam-trabalhos-em-consultoria-empresarial/\"></a></div><h2 class=\"title\">\\t\\t<a href=\"https://barbacenaonline.com.br/alunos-de-administracao-e-ciencias-contabeis-apresentam-trabalhos-em-consultoria-empresarial/\" class=\"post-title post-url\"',\n",
       " '<a  title=\"Estudo feito no UNIPAC sobre a história da publicidade em Barbacena é publicado em artigo pela USP\" data-src=\"https://barbacenaonline.com.br/application/uploads/2019/07/artigo-357x210.jpg\" data-bs-srcset=\"{&quot;baseurl&quot;:&quot;https:\\\\/\\\\/barbacenaonline.com.br\\\\/application\\\\/uploads\\\\/2019\\\\/07\\\\/&quot;,&quot;sizes&quot;:{&quot;210&quot;:&quot;artigo-210x136.jpg&quot;,&quot;279&quot;:&quot;artigo-279x220.jpg&quot;,&quot;357&quot;:&quot;artigo-357x210.jpg&quot;,&quot;750&quot;:&quot;artigo-750x430.jpg&quot;,&quot;1356&quot;:&quot;artigo.jpg&quot;}}\"\\t\\t\\t\\t\\t\\tclass=\"img-holder\" href=\"https://barbacenaonline.com.br/estudo-feito-no-unipac-sobre-a-historia-da-publicidade-em-barbacena-e-publicado-em-artigo-pela-usp/\"></a></div><h2 class=\"title\">\\t\\t<a href=\"https://barbacenaonline.com.br/estudo-feito-no-unipac-sobre-a-historia-da-publicidade-em-barbacena-e-publicado-em-artigo-pela-usp/\" class=\"post-title post-url\"',\n",
       " '<a  title=\"Operação &#8220;Desvia&#8221;, da PF, tem sua terceira etapa em Barbacena\" data-src=\"https://barbacenaonline.com.br/application/uploads/2019/07/PF-BQ-0907-b-e1562674402772-720x430.jpg\" data-bs-srcset=\"{&quot;baseurl&quot;:&quot;https:\\\\/\\\\/barbacenaonline.com.br\\\\/application\\\\/uploads\\\\/2019\\\\/07\\\\/&quot;,&quot;sizes&quot;:{&quot;210&quot;:&quot;PF-BQ-0907-b-e1562674402772-210x136.jpg&quot;,&quot;279&quot;:&quot;PF-BQ-0907-b-e1562674402772-279x220.jpg&quot;,&quot;357&quot;:&quot;PF-BQ-0907-b-e1562674402772-357x210.jpg&quot;,&quot;720&quot;:&quot;PF-BQ-0907-b-e1562674402772.jpg&quot;}}\"\\t\\t\\t\\tclass=\"img-cont\" href=\"https://barbacenaonline.com.br/operacao-desvia-da-pf-tem-sua-terceira-etapa-em-barbacena/\"></a><div class=\"term-badges floated\"><span class=\"term-badge term-22\"><a href=\"https://barbacenaonline.com.br/category/cidade/\">Cidade</a></span></div><div class=\"content-container\"><h2 class=\"title\">\\t\\t\\t<a href=\"https://barbacenaonline.com.br/operacao-desvia-da-pf-tem-sua-terceira-etapa-em-barbacena/\" class=\"post-url post-title\"',\n",
       " '<a  title=\"Ciência e Curiosidade: Festival abre votação popular para temas de vivências\" data-src=\"https://barbacenaonline.com.br/application/uploads/2019/06/431035_340686119349142_721249370_n-279x220.jpg\" data-bs-srcset=\"{&quot;baseurl&quot;:&quot;https:\\\\/\\\\/barbacenaonline.com.br\\\\/application\\\\/uploads\\\\/2019\\\\/06\\\\/&quot;,&quot;sizes&quot;:{&quot;210&quot;:&quot;431035_340686119349142_721249370_n-210x136.jpg&quot;,&quot;279&quot;:&quot;431035_340686119349142_721249370_n-279x220.jpg&quot;,&quot;357&quot;:&quot;431035_340686119349142_721249370_n-357x210.jpg&quot;,&quot;640&quot;:&quot;431035_340686119349142_721249370_n-e1561723271278.jpg&quot;,&quot;750&quot;:&quot;431035_340686119349142_721249370_n-750x430.jpg&quot;}}\"\\t\\t\\t\\tclass=\"img-cont\" href=\"https://barbacenaonline.com.br/ciencia-e-curiosidade-festival-abre-votacao-popular-para-temas-de-vivencias/\"></a><div class=\"term-badges floated\"><span class=\"term-badge term-31\"><a href=\"https://barbacenaonline.com.br/category/esporte/\">Esporte</a></span></div><div class=\"content-container\"><h2 class=\"title\">\\t\\t\\t<a href=\"https://barbacenaonline.com.br/ciencia-e-curiosidade-festival-abre-votacao-popular-para-temas-de-vivencias/\" class=\"post-url post-title\"',\n",
       " '<a  title=\"Iniciativa possibilita emissão e renovação de passaporte a cidadãos italianos em Barbacena e região\" data-src=\"https://barbacenaonline.com.br/application/themes/publisher/images/default-thumb/publisher-mg2.png\"\\t\\t\\t\\tclass=\"img-cont\" href=\"https://barbacenaonline.com.br/iniciativa-possibilita-emissao-e-renovacao-de-passaporte-a-cidadaos-italianos-em-barbacena-e-regiao/\"></a><div class=\"term-badges floated\"><span class=\"term-badge term-22\"><a href=\"https://barbacenaonline.com.br/category/cidade/\">Cidade</a></span></div><div class=\"content-container\"><h2 class=\"title\">\\t\\t\\t<a href=\"https://barbacenaonline.com.br/iniciativa-possibilita-emissao-e-renovacao-de-passaporte-a-cidadaos-italianos-em-barbacena-e-regiao/\" class=\"post-url post-title\"',\n",
       " '<a  title=\"Livro &#8220;Memórias&#8221; inspira histórias e emociona o público\" data-src=\"https://barbacenaonline.com.br/application/uploads/2019/07/IMG_4882-279x220.jpg\" data-bs-srcset=\"{&quot;baseurl&quot;:&quot;https:\\\\/\\\\/barbacenaonline.com.br\\\\/application\\\\/uploads\\\\/2019\\\\/07\\\\/&quot;,&quot;sizes&quot;:{&quot;210&quot;:&quot;IMG_4882-210x136.jpg&quot;,&quot;279&quot;:&quot;IMG_4882-279x220.jpg&quot;,&quot;357&quot;:&quot;IMG_4882-357x210.jpg&quot;,&quot;684&quot;:&quot;IMG_4882-e1562669580958.jpg&quot;,&quot;750&quot;:&quot;IMG_4882-750x430.jpg&quot;}}\"\\t\\t\\t\\tclass=\"img-cont\" href=\"https://barbacenaonline.com.br/livro-memorias-inspira-historias-e-emociona-o-publico/\"></a><div class=\"term-badges floated\"><span class=\"term-badge term-42\"><a href=\"https://barbacenaonline.com.br/category/religiao/\">Religião</a></span></div><div class=\"content-container\"><h2 class=\"title\">\\t\\t\\t<a href=\"https://barbacenaonline.com.br/livro-memorias-inspira-historias-e-emociona-o-publico/\" class=\"post-url post-title\"',\n",
       " '<a  title=\"Vai começar a festa do Vermelho\" data-src=\"https://barbacenaonline.com.br/application/uploads/2019/07/FelipeDante-Vermelho-279x220.jpg\" data-bs-srcset=\"{&quot;baseurl&quot;:&quot;https:\\\\/\\\\/barbacenaonline.com.br\\\\/application\\\\/uploads\\\\/2019\\\\/07\\\\/&quot;,&quot;sizes&quot;:{&quot;210&quot;:&quot;FelipeDante-Vermelho-210x136.jpg&quot;,&quot;279&quot;:&quot;FelipeDante-Vermelho-279x220.jpg&quot;,&quot;357&quot;:&quot;FelipeDante-Vermelho-357x210.jpg&quot;,&quot;750&quot;:&quot;FelipeDante-Vermelho-750x430.jpg&quot;,&quot;960&quot;:&quot;FelipeDante-Vermelho.jpg&quot;}}\"\\t\\t\\t\\tclass=\"img-cont\" href=\"https://barbacenaonline.com.br/vai-comecar-a-festa-do-vermelho/\"></a><div class=\"term-badges floated\"><span class=\"term-badge term-23\"><a href=\"https://barbacenaonline.com.br/category/regiao/\">Região</a></span></div><div class=\"content-container\"><h2 class=\"title\">\\t\\t\\t<a href=\"https://barbacenaonline.com.br/vai-comecar-a-festa-do-vermelho/\" class=\"post-url post-title\"',\n",
       " '<a  title=\"Operação &#8220;Desvia&#8221;, da PF, tem sua terceira etapa em Barbacena\" data-src=\"https://barbacenaonline.com.br/application/uploads/2019/07/PF-BQ-0907-b-e1562674402772-86x64.jpg\" data-bs-srcset=\"{&quot;baseurl&quot;:&quot;https:\\\\/\\\\/barbacenaonline.com.br\\\\/application\\\\/uploads\\\\/2019\\\\/07\\\\/&quot;,&quot;sizes&quot;:{&quot;86&quot;:&quot;PF-BQ-0907-b-e1562674402772-86x64.jpg&quot;,&quot;210&quot;:&quot;PF-BQ-0907-b-e1562674402772-210x136.jpg&quot;,&quot;720&quot;:&quot;PF-BQ-0907-b-e1562674402772.jpg&quot;}}\"\\t\\t\\t\\t\\t\\tclass=\"img-holder\" href=\"https://barbacenaonline.com.br/operacao-desvia-da-pf-tem-sua-terceira-etapa-em-barbacena/\"></a></div><p class=\"title\">\\t\\t<a href=\"https://barbacenaonline.com.br/operacao-desvia-da-pf-tem-sua-terceira-etapa-em-barbacena/\" class=\"post-url post-title\"',\n",
       " '<a  title=\"Ciência e Curiosidade: Festival abre votação popular para temas de vivências\" data-src=\"https://barbacenaonline.com.br/application/uploads/2019/06/431035_340686119349142_721249370_n-86x64.jpg\" data-bs-srcset=\"{&quot;baseurl&quot;:&quot;https:\\\\/\\\\/barbacenaonline.com.br\\\\/application\\\\/uploads\\\\/2019\\\\/06\\\\/&quot;,&quot;sizes&quot;:{&quot;86&quot;:&quot;431035_340686119349142_721249370_n-86x64.jpg&quot;,&quot;210&quot;:&quot;431035_340686119349142_721249370_n-210x136.jpg&quot;,&quot;640&quot;:&quot;431035_340686119349142_721249370_n-e1561723271278.jpg&quot;}}\"\\t\\t\\t\\t\\t\\tclass=\"img-holder\" href=\"https://barbacenaonline.com.br/ciencia-e-curiosidade-festival-abre-votacao-popular-para-temas-de-vivencias/\"></a></div><p class=\"title\">\\t\\t<a href=\"https://barbacenaonline.com.br/ciencia-e-curiosidade-festival-abre-votacao-popular-para-temas-de-vivencias/\" class=\"post-url post-title\"',\n",
       " '<a  title=\"Iniciativa possibilita emissão e renovação de passaporte a cidadãos italianos em Barbacena e região\" data-src=\"https://barbacenaonline.com.br/application/themes/publisher/images/default-thumb/publisher-tb1.png\"\\t\\t\\t\\t\\t\\tclass=\"img-holder\" href=\"https://barbacenaonline.com.br/iniciativa-possibilita-emissao-e-renovacao-de-passaporte-a-cidadaos-italianos-em-barbacena-e-regiao/\"></a></div><p class=\"title\">\\t\\t<a href=\"https://barbacenaonline.com.br/iniciativa-possibilita-emissao-e-renovacao-de-passaporte-a-cidadaos-italianos-em-barbacena-e-regiao/\" class=\"post-url post-title\"']"
      ]
     },
     "execution_count": 22,
     "metadata": {},
     "output_type": "execute_result"
    }
   ],
   "source": [
    "re.findall(r'<a +title=\".+\"', html)"
   ]
  },
  {
   "cell_type": "code",
   "execution_count": 23,
   "metadata": {},
   "outputs": [
    {
     "data": {
      "text/plain": [
       "['<a  title=\"Operação &#8220;Desvia&#8221;, da PF, tem sua terceira etapa em Barbacena\"',\n",
       " '<a  title=\"Ciência e Curiosidade: Festival abre votação popular para temas de vivências\"',\n",
       " '<a  title=\"Iniciativa possibilita emissão e renovação de passaporte a cidadãos italianos em Barbacena e região\"',\n",
       " '<a  title=\"Livro &#8220;Memórias&#8221; inspira histórias e emociona o público\"',\n",
       " '<a  title=\"Vai começar a festa do Vermelho\"',\n",
       " '<a  title=\"Operação &#8220;Desvia&#8221;, da PF, tem sua terceira etapa em Barbacena\"',\n",
       " '<a  title=\"Começam a ser instaladas as academias da saúde\"',\n",
       " '<a  title=\"Rompimento: abastecimento de água interrompido na região do SAS\"',\n",
       " '<a  title=\"Caminhonete bate na traseira de caminhão e condutor fica ferido\"',\n",
       " '<a  title=\"Carro com quatro mulheres de Barbacena cai em ribanceira na BR 040\"',\n",
       " '<a  title=\"Motorista morre em acidente na 040\"',\n",
       " '<a  title=\"Tumulto no presídio cancela visita de familiares\"',\n",
       " '<a  title=\"Quase meia tonelada de maconha apreendida na rodovia\"',\n",
       " '<a  title=\"Trio suspeito de homicídio é preso na região\"',\n",
       " '<a  title=\"Carreta se incendeia no km 760 da 040\"',\n",
       " '<a  title=\"Infrator agride vítima a pauladas para roubar celular\"',\n",
       " '<a  title=\"Jovem preso por tráfico de drogas e porte de arma\"',\n",
       " '<a  title=\"Suspeito de estuprar a enteada é preso na região\"',\n",
       " '<a  title=\"Taxista agredido durante tentativa de roubo\"',\n",
       " '<a  title=\"Choramingando\"',\n",
       " '<a  title=\"Inflação, a polêmica “Vilã Nacional” &#8230;\"',\n",
       " '<a  title=\"Oportunidades de emprego para comprador, padeiro, churrasqueiro&#8230;confira\"',\n",
       " '<a  title=\"Atlética do curso de Educação Física do UNIPAC Barbacena conquista prata em torneio de futsal\"',\n",
       " '<a  title=\"Alunos de Administração e Ciências Contábeis apresentam trabalhos em Consultoria Empresarial\"',\n",
       " '<a  title=\"Estudo feito no UNIPAC sobre a história da publicidade em Barbacena é publicado em artigo pela USP\"',\n",
       " '<a  title=\"Operação &#8220;Desvia&#8221;, da PF, tem sua terceira etapa em Barbacena\"',\n",
       " '<a  title=\"Ciência e Curiosidade: Festival abre votação popular para temas de vivências\"',\n",
       " '<a  title=\"Iniciativa possibilita emissão e renovação de passaporte a cidadãos italianos em Barbacena e região\"',\n",
       " '<a  title=\"Livro &#8220;Memórias&#8221; inspira histórias e emociona o público\"',\n",
       " '<a  title=\"Vai começar a festa do Vermelho\"',\n",
       " '<a  title=\"Operação &#8220;Desvia&#8221;, da PF, tem sua terceira etapa em Barbacena\"',\n",
       " '<a  title=\"Ciência e Curiosidade: Festival abre votação popular para temas de vivências\"',\n",
       " '<a  title=\"Iniciativa possibilita emissão e renovação de passaporte a cidadãos italianos em Barbacena e região\"']"
      ]
     },
     "execution_count": 23,
     "metadata": {},
     "output_type": "execute_result"
    }
   ],
   "source": [
    "re.findall(r'<a +title=\".+?\"', html)"
   ]
  },
  {
   "cell_type": "code",
   "execution_count": 24,
   "metadata": {},
   "outputs": [
    {
     "data": {
      "text/plain": [
       "['Operação &#8220;Desvia&#8221;, da PF, tem sua terceira etapa em Barbacena',\n",
       " 'Ciência e Curiosidade: Festival abre votação popular para temas de vivências',\n",
       " 'Iniciativa possibilita emissão e renovação de passaporte a cidadãos italianos em Barbacena e região',\n",
       " 'Livro &#8220;Memórias&#8221; inspira histórias e emociona o público',\n",
       " 'Vai começar a festa do Vermelho',\n",
       " 'Operação &#8220;Desvia&#8221;, da PF, tem sua terceira etapa em Barbacena',\n",
       " 'Começam a ser instaladas as academias da saúde',\n",
       " 'Rompimento: abastecimento de água interrompido na região do SAS',\n",
       " 'Caminhonete bate na traseira de caminhão e condutor fica ferido',\n",
       " 'Carro com quatro mulheres de Barbacena cai em ribanceira na BR 040',\n",
       " 'Motorista morre em acidente na 040',\n",
       " 'Tumulto no presídio cancela visita de familiares',\n",
       " 'Quase meia tonelada de maconha apreendida na rodovia',\n",
       " 'Trio suspeito de homicídio é preso na região',\n",
       " 'Carreta se incendeia no km 760 da 040',\n",
       " 'Infrator agride vítima a pauladas para roubar celular',\n",
       " 'Jovem preso por tráfico de drogas e porte de arma',\n",
       " 'Suspeito de estuprar a enteada é preso na região',\n",
       " 'Taxista agredido durante tentativa de roubo',\n",
       " 'Choramingando',\n",
       " 'Inflação, a polêmica “Vilã Nacional” &#8230;',\n",
       " 'Oportunidades de emprego para comprador, padeiro, churrasqueiro&#8230;confira',\n",
       " 'Atlética do curso de Educação Física do UNIPAC Barbacena conquista prata em torneio de futsal',\n",
       " 'Alunos de Administração e Ciências Contábeis apresentam trabalhos em Consultoria Empresarial',\n",
       " 'Estudo feito no UNIPAC sobre a história da publicidade em Barbacena é publicado em artigo pela USP',\n",
       " 'Operação &#8220;Desvia&#8221;, da PF, tem sua terceira etapa em Barbacena',\n",
       " 'Ciência e Curiosidade: Festival abre votação popular para temas de vivências',\n",
       " 'Iniciativa possibilita emissão e renovação de passaporte a cidadãos italianos em Barbacena e região',\n",
       " 'Livro &#8220;Memórias&#8221; inspira histórias e emociona o público',\n",
       " 'Vai começar a festa do Vermelho',\n",
       " 'Operação &#8220;Desvia&#8221;, da PF, tem sua terceira etapa em Barbacena',\n",
       " 'Ciência e Curiosidade: Festival abre votação popular para temas de vivências',\n",
       " 'Iniciativa possibilita emissão e renovação de passaporte a cidadãos italianos em Barbacena e região']"
      ]
     },
     "execution_count": 24,
     "metadata": {},
     "output_type": "execute_result"
    }
   ],
   "source": [
    "re.findall(r'<a +title=\"(.+?)\"', html)"
   ]
  },
  {
   "cell_type": "markdown",
   "metadata": {},
   "source": [
    "<strong>Gerar dataset com o título e o link das notícias do Barbacena Online:</strong>"
   ]
  },
  {
   "cell_type": "code",
   "execution_count": 25,
   "metadata": {},
   "outputs": [
    {
     "data": {
      "text/plain": [
       "('Operação &#8220;Desvia&#8221;, da PF, tem sua terceira etapa em Barbacena',\n",
       " 'https://barbacenaonline.com.br/application/uploads/2019/07/PF-BQ-0907-b-e1562674402772-720x430.jpg')"
      ]
     },
     "execution_count": 25,
     "metadata": {},
     "output_type": "execute_result"
    }
   ],
   "source": [
    "re.findall(r'<a +title=\"(.+?)\" +data-src=\"(.+?)\"', html)[0]"
   ]
  },
  {
   "cell_type": "code",
   "execution_count": 26,
   "metadata": {},
   "outputs": [
    {
     "data": {
      "text/html": [
       "<div>\n",
       "<style scoped>\n",
       "    .dataframe tbody tr th:only-of-type {\n",
       "        vertical-align: middle;\n",
       "    }\n",
       "\n",
       "    .dataframe tbody tr th {\n",
       "        vertical-align: top;\n",
       "    }\n",
       "\n",
       "    .dataframe thead th {\n",
       "        text-align: right;\n",
       "    }\n",
       "</style>\n",
       "<table border=\"1\" class=\"dataframe\">\n",
       "  <thead>\n",
       "    <tr style=\"text-align: right;\">\n",
       "      <th></th>\n",
       "      <th>titulo</th>\n",
       "      <th>link</th>\n",
       "    </tr>\n",
       "  </thead>\n",
       "  <tbody>\n",
       "    <tr>\n",
       "      <th>0</th>\n",
       "      <td>Operação &amp;#8220;Desvia&amp;#8221;, da PF, tem sua ...</td>\n",
       "      <td>https://barbacenaonline.com.br/application/upl...</td>\n",
       "    </tr>\n",
       "    <tr>\n",
       "      <th>1</th>\n",
       "      <td>Ciência e Curiosidade: Festival abre votação p...</td>\n",
       "      <td>https://barbacenaonline.com.br/application/upl...</td>\n",
       "    </tr>\n",
       "    <tr>\n",
       "      <th>2</th>\n",
       "      <td>Iniciativa possibilita emissão e renovação de ...</td>\n",
       "      <td>https://barbacenaonline.com.br/application/the...</td>\n",
       "    </tr>\n",
       "    <tr>\n",
       "      <th>3</th>\n",
       "      <td>Livro &amp;#8220;Memórias&amp;#8221; inspira histórias...</td>\n",
       "      <td>https://barbacenaonline.com.br/application/upl...</td>\n",
       "    </tr>\n",
       "    <tr>\n",
       "      <th>4</th>\n",
       "      <td>Vai começar a festa do Vermelho\"</td>\n",
       "      <td>https://barbacenaonline.com.br/application/upl...</td>\n",
       "    </tr>\n",
       "  </tbody>\n",
       "</table>\n",
       "</div>"
      ],
      "text/plain": [
       "                                              titulo  \\\n",
       "0  Operação &#8220;Desvia&#8221;, da PF, tem sua ...   \n",
       "1  Ciência e Curiosidade: Festival abre votação p...   \n",
       "2  Iniciativa possibilita emissão e renovação de ...   \n",
       "3  Livro &#8220;Memórias&#8221; inspira histórias...   \n",
       "4                   Vai começar a festa do Vermelho\"   \n",
       "\n",
       "                                                link  \n",
       "0  https://barbacenaonline.com.br/application/upl...  \n",
       "1  https://barbacenaonline.com.br/application/upl...  \n",
       "2  https://barbacenaonline.com.br/application/the...  \n",
       "3  https://barbacenaonline.com.br/application/upl...  \n",
       "4  https://barbacenaonline.com.br/application/upl...  "
      ]
     },
     "execution_count": 26,
     "metadata": {},
     "output_type": "execute_result"
    }
   ],
   "source": [
    "import pandas as pd\n",
    "\n",
    "df = pd.DataFrame(\n",
    "    re.findall(r'<a +title=\"(.+?) +data-src=\"(.+?)\"', html),\n",
    "    columns=['titulo', 'link']\n",
    ")\n",
    "\n",
    "df.head()"
   ]
  },
  {
   "cell_type": "markdown",
   "metadata": {},
   "source": [
    "### Consumindo uma API\n",
    "\n",
    "APIs (Application Programming Interface) possibilitam a comunicação entre seu código e um sistema remoto, como uma rede social.\n",
    "\n",
    "Exemplo: OMDb API - The Open Movie Database\n",
    "\n",
    "http://www.omdbapi.com/\n",
    "\n",
    "Gerar uma chave (API key) e ativar o link enviado por e-mail."
   ]
  },
  {
   "cell_type": "code",
   "execution_count": 27,
   "metadata": {
    "scrolled": true
   },
   "outputs": [
    {
     "data": {
      "text/plain": [
       "{'Search': [{'Title': 'Avengers: Infinity War',\n",
       "   'Year': '2018',\n",
       "   'imdbID': 'tt4154756',\n",
       "   'Type': 'movie',\n",
       "   'Poster': 'https://m.media-amazon.com/images/M/MV5BMjMxNjY2MDU1OV5BMl5BanBnXkFtZTgwNzY1MTUwNTM@._V1_SX300.jpg'},\n",
       "  {'Title': 'Captain America: Civil War',\n",
       "   'Year': '2016',\n",
       "   'imdbID': 'tt3498820',\n",
       "   'Type': 'movie',\n",
       "   'Poster': 'https://m.media-amazon.com/images/M/MV5BMjQ0MTgyNjAxMV5BMl5BanBnXkFtZTgwNjUzMDkyODE@._V1_SX300.jpg'},\n",
       "  {'Title': 'World War Z',\n",
       "   'Year': '2013',\n",
       "   'imdbID': 'tt0816711',\n",
       "   'Type': 'movie',\n",
       "   'Poster': 'https://m.media-amazon.com/images/M/MV5BNDQ4YzFmNzktMmM5ZC00MDZjLTk1OTktNDE2ODE4YjM2MjJjXkEyXkFqcGdeQXVyNTA4NzY1MzY@._V1_SX300.jpg'},\n",
       "  {'Title': 'War of the Worlds',\n",
       "   'Year': '2005',\n",
       "   'imdbID': 'tt0407304',\n",
       "   'Type': 'movie',\n",
       "   'Poster': 'https://m.media-amazon.com/images/M/MV5BNDUyODAzNDI1Nl5BMl5BanBnXkFtZTcwMDA2NDAzMw@@._V1_SX300.jpg'},\n",
       "  {'Title': 'Lord of War',\n",
       "   'Year': '2005',\n",
       "   'imdbID': 'tt0399295',\n",
       "   'Type': 'movie',\n",
       "   'Poster': 'https://m.media-amazon.com/images/M/MV5BMTYzZWE3MDAtZjZkMi00MzhlLTlhZDUtNmI2Zjg3OWVlZWI0XkEyXkFqcGdeQXVyNDk3NzU2MTQ@._V1_SX300.jpg'},\n",
       "  {'Title': 'War for the Planet of the Apes',\n",
       "   'Year': '2017',\n",
       "   'imdbID': 'tt3450958',\n",
       "   'Type': 'movie',\n",
       "   'Poster': 'https://m.media-amazon.com/images/M/MV5BNDNmYTQzMDEtMmY0MS00OTNjLTk4MjItMDZhMzkzOGI3MzA0XkEyXkFqcGdeQXVyNjk5NDA3OTk@._V1_SX300.jpg'},\n",
       "  {'Title': 'This Means War',\n",
       "   'Year': '2012',\n",
       "   'imdbID': 'tt1596350',\n",
       "   'Type': 'movie',\n",
       "   'Poster': 'https://m.media-amazon.com/images/M/MV5BMTYyOTQ4MDE2MV5BMl5BanBnXkFtZTcwOTE0MTgwNw@@._V1_SX300.jpg'},\n",
       "  {'Title': 'War Dogs',\n",
       "   'Year': '2016',\n",
       "   'imdbID': 'tt2005151',\n",
       "   'Type': 'movie',\n",
       "   'Poster': 'https://m.media-amazon.com/images/M/MV5BMjEyNzQ0NzM4MV5BMl5BanBnXkFtZTgwMDI0ODM2OTE@._V1_SX300.jpg'},\n",
       "  {'Title': 'War Horse',\n",
       "   'Year': '2011',\n",
       "   'imdbID': 'tt1568911',\n",
       "   'Type': 'movie',\n",
       "   'Poster': 'https://m.media-amazon.com/images/M/MV5BMjExNzkxOTYyNl5BMl5BanBnXkFtZTcwODA0MjU4Ng@@._V1_SX300.jpg'},\n",
       "  {'Title': \"Charlie Wilson's War\",\n",
       "   'Year': '2007',\n",
       "   'imdbID': 'tt0472062',\n",
       "   'Type': 'movie',\n",
       "   'Poster': 'https://m.media-amazon.com/images/M/MV5BMTgwMDgwMDc4MF5BMl5BanBnXkFtZTYwOTU3MDM4._V1_SX300.jpg'}],\n",
       " 'totalResults': '3740',\n",
       " 'Response': 'True'}"
      ]
     },
     "execution_count": 27,
     "metadata": {},
     "output_type": "execute_result"
    }
   ],
   "source": [
    "API = 'http://www.omdbapi.com/?apikey=1bb91b3b&'\n",
    "\n",
    "requests.get(API + 's=war').json()"
   ]
  },
  {
   "cell_type": "code",
   "execution_count": 28,
   "metadata": {},
   "outputs": [],
   "source": [
    "dados = []\n",
    "\n",
    "for pagina in range(1, 11):\n",
    "    j = requests.get(API + 's=war&page=' + str(pagina)).json()\n",
    "    for resultado in j['Search']:\n",
    "        dados.append([\n",
    "            resultado['Title'],\n",
    "            resultado['Type'],\n",
    "            resultado['Year'],\n",
    "            resultado['Poster'],\n",
    "            resultado['imdbID'],\n",
    "        ])"
   ]
  },
  {
   "cell_type": "code",
   "execution_count": 29,
   "metadata": {},
   "outputs": [
    {
     "name": "stdout",
     "output_type": "stream",
     "text": [
      "(100, 5)\n"
     ]
    },
    {
     "data": {
      "text/html": [
       "<div>\n",
       "<style scoped>\n",
       "    .dataframe tbody tr th:only-of-type {\n",
       "        vertical-align: middle;\n",
       "    }\n",
       "\n",
       "    .dataframe tbody tr th {\n",
       "        vertical-align: top;\n",
       "    }\n",
       "\n",
       "    .dataframe thead th {\n",
       "        text-align: right;\n",
       "    }\n",
       "</style>\n",
       "<table border=\"1\" class=\"dataframe\">\n",
       "  <thead>\n",
       "    <tr style=\"text-align: right;\">\n",
       "      <th></th>\n",
       "      <th>titulo</th>\n",
       "      <th>tipo</th>\n",
       "      <th>ano</th>\n",
       "      <th>poster</th>\n",
       "      <th>id_imdb</th>\n",
       "    </tr>\n",
       "  </thead>\n",
       "  <tbody>\n",
       "    <tr>\n",
       "      <th>0</th>\n",
       "      <td>Avengers: Infinity War</td>\n",
       "      <td>movie</td>\n",
       "      <td>2018</td>\n",
       "      <td>https://m.media-amazon.com/images/M/MV5BMjMxNj...</td>\n",
       "      <td>tt4154756</td>\n",
       "    </tr>\n",
       "    <tr>\n",
       "      <th>1</th>\n",
       "      <td>Captain America: Civil War</td>\n",
       "      <td>movie</td>\n",
       "      <td>2016</td>\n",
       "      <td>https://m.media-amazon.com/images/M/MV5BMjQ0MT...</td>\n",
       "      <td>tt3498820</td>\n",
       "    </tr>\n",
       "    <tr>\n",
       "      <th>2</th>\n",
       "      <td>World War Z</td>\n",
       "      <td>movie</td>\n",
       "      <td>2013</td>\n",
       "      <td>https://m.media-amazon.com/images/M/MV5BNDQ4Yz...</td>\n",
       "      <td>tt0816711</td>\n",
       "    </tr>\n",
       "    <tr>\n",
       "      <th>3</th>\n",
       "      <td>War of the Worlds</td>\n",
       "      <td>movie</td>\n",
       "      <td>2005</td>\n",
       "      <td>https://m.media-amazon.com/images/M/MV5BNDUyOD...</td>\n",
       "      <td>tt0407304</td>\n",
       "    </tr>\n",
       "    <tr>\n",
       "      <th>4</th>\n",
       "      <td>Lord of War</td>\n",
       "      <td>movie</td>\n",
       "      <td>2005</td>\n",
       "      <td>https://m.media-amazon.com/images/M/MV5BMTYzZW...</td>\n",
       "      <td>tt0399295</td>\n",
       "    </tr>\n",
       "  </tbody>\n",
       "</table>\n",
       "</div>"
      ],
      "text/plain": [
       "                       titulo   tipo   ano  \\\n",
       "0      Avengers: Infinity War  movie  2018   \n",
       "1  Captain America: Civil War  movie  2016   \n",
       "2                 World War Z  movie  2013   \n",
       "3           War of the Worlds  movie  2005   \n",
       "4                 Lord of War  movie  2005   \n",
       "\n",
       "                                              poster    id_imdb  \n",
       "0  https://m.media-amazon.com/images/M/MV5BMjMxNj...  tt4154756  \n",
       "1  https://m.media-amazon.com/images/M/MV5BMjQ0MT...  tt3498820  \n",
       "2  https://m.media-amazon.com/images/M/MV5BNDQ4Yz...  tt0816711  \n",
       "3  https://m.media-amazon.com/images/M/MV5BNDUyOD...  tt0407304  \n",
       "4  https://m.media-amazon.com/images/M/MV5BMTYzZW...  tt0399295  "
      ]
     },
     "execution_count": 29,
     "metadata": {},
     "output_type": "execute_result"
    }
   ],
   "source": [
    "df = pd.DataFrame(dados, columns=['titulo', 'tipo', 'ano', 'poster', 'id_imdb'])\n",
    "\n",
    "print(df.shape)\n",
    "df.head()"
   ]
  },
  {
   "cell_type": "code",
   "execution_count": 30,
   "metadata": {},
   "outputs": [
    {
     "data": {
      "text/plain": [
       "array(['2018', '2016', '2013', '2005', '2017', '2012', '2011', '2007',\n",
       "       '2008', '2002', '1989', '2004', '1953', '2010', '2000', '2014',\n",
       "       '2003', '1973–1976', '2015', '2002–2015', '1994', '1990', '1999',\n",
       "       '2005–2007', '1956', '1988', '1967', '1996', '1980', '2009',\n",
       "       '1949', '2006', '1965', '1966', '1997', '2001', '1993', '1959',\n",
       "       '1983', '2009–', '1992', '1971', '2006–2009'], dtype=object)"
      ]
     },
     "execution_count": 30,
     "metadata": {},
     "output_type": "execute_result"
    }
   ],
   "source": [
    "df['ano'].unique()"
   ]
  },
  {
   "cell_type": "code",
   "execution_count": 31,
   "metadata": {},
   "outputs": [
    {
     "name": "stdout",
     "output_type": "stream",
     "text": [
      "<class 'pandas.core.frame.DataFrame'>\n",
      "RangeIndex: 100 entries, 0 to 99\n",
      "Data columns (total 5 columns):\n",
      "titulo     100 non-null object\n",
      "tipo       100 non-null object\n",
      "ano        100 non-null object\n",
      "poster     100 non-null object\n",
      "id_imdb    100 non-null object\n",
      "dtypes: object(5)\n",
      "memory usage: 4.0+ KB\n"
     ]
    }
   ],
   "source": [
    "df.info()"
   ]
  },
  {
   "cell_type": "code",
   "execution_count": 33,
   "metadata": {},
   "outputs": [],
   "source": [
    "# Corrigindo o tipo do ano\n",
    "df['ano'] = df['ano'].apply(lambda x: x.split('–')[0]) # Ano de início\n",
    "df = df.astype({'ano': int})"
   ]
  },
  {
   "cell_type": "code",
   "execution_count": 35,
   "metadata": {},
   "outputs": [
    {
     "data": {
      "text/plain": [
       "<matplotlib.axes._subplots.AxesSubplot at 0x7f7658cbc4e0>"
      ]
     },
     "execution_count": 35,
     "metadata": {},
     "output_type": "execute_result"
    },
    {
     "data": {
      "image/png": "[encoded data removed]",
      "text/plain": [
       "<Figure size 432x288 with 1 Axes>"
      ]
     },
     "metadata": {
      "needs_background": "light"
     },
     "output_type": "display_data"
    }
   ],
   "source": [
    "df['ano'].hist(edgecolor='black', grid=False)"
   ]
  },
  {
   "cell_type": "code",
   "execution_count": 36,
   "metadata": {},
   "outputs": [
    {
     "name": "stdout",
     "output_type": "stream",
     "text": [
      "['movie' 'series' 'game']\n"
     ]
    },
    {
     "data": {
      "text/plain": [
       "0    0\n",
       "1    0\n",
       "2    0\n",
       "3    0\n",
       "4    0\n",
       "Name: tipo, dtype: int64"
      ]
     },
     "execution_count": 36,
     "metadata": {},
     "output_type": "execute_result"
    }
   ],
   "source": [
    "print(df['tipo'].unique())\n",
    "\n",
    "df['tipo'] = df['tipo'].map({\n",
    "    'movie': 0,\n",
    "    'series': 1,\n",
    "    'game': 3\n",
    "})\n",
    "\n",
    "df['tipo'].head()"
   ]
  },
  {
   "cell_type": "code",
   "execution_count": 37,
   "metadata": {},
   "outputs": [
    {
     "data": {
      "text/plain": [
       "<matplotlib.axes._subplots.AxesSubplot at 0x7f7658cb1cf8>"
      ]
     },
     "execution_count": 37,
     "metadata": {},
     "output_type": "execute_result"
    },
    {
     "data": {
      "image/png": "[encoded data removed]",
      "text/plain": [
       "<Figure size 432x288 with 1 Axes>"
      ]
     },
     "metadata": {
      "needs_background": "light"
     },
     "output_type": "display_data"
    }
   ],
   "source": [
    "df['tipo'].hist(edgecolor='black', grid=False)"
   ]
  },
  {
   "cell_type": "code",
   "execution_count": 38,
   "metadata": {},
   "outputs": [
    {
     "data": {
      "text/html": [
       "<div>\n",
       "<style scoped>\n",
       "    .dataframe tbody tr th:only-of-type {\n",
       "        vertical-align: middle;\n",
       "    }\n",
       "\n",
       "    .dataframe tbody tr th {\n",
       "        vertical-align: top;\n",
       "    }\n",
       "\n",
       "    .dataframe thead th {\n",
       "        text-align: right;\n",
       "    }\n",
       "</style>\n",
       "<table border=\"1\" class=\"dataframe\">\n",
       "  <thead>\n",
       "    <tr style=\"text-align: right;\">\n",
       "      <th></th>\n",
       "      <th>titulo</th>\n",
       "      <th>tipo</th>\n",
       "      <th>ano</th>\n",
       "      <th>poster</th>\n",
       "      <th>id_imdb</th>\n",
       "      <th>tam_titulo</th>\n",
       "    </tr>\n",
       "  </thead>\n",
       "  <tbody>\n",
       "    <tr>\n",
       "      <th>0</th>\n",
       "      <td>Avengers: Infinity War</td>\n",
       "      <td>0</td>\n",
       "      <td>2018</td>\n",
       "      <td>https://m.media-amazon.com/images/M/MV5BMjMxNj...</td>\n",
       "      <td>tt4154756</td>\n",
       "      <td>22</td>\n",
       "    </tr>\n",
       "    <tr>\n",
       "      <th>1</th>\n",
       "      <td>Captain America: Civil War</td>\n",
       "      <td>0</td>\n",
       "      <td>2016</td>\n",
       "      <td>https://m.media-amazon.com/images/M/MV5BMjQ0MT...</td>\n",
       "      <td>tt3498820</td>\n",
       "      <td>26</td>\n",
       "    </tr>\n",
       "    <tr>\n",
       "      <th>2</th>\n",
       "      <td>World War Z</td>\n",
       "      <td>0</td>\n",
       "      <td>2013</td>\n",
       "      <td>https://m.media-amazon.com/images/M/MV5BNDQ4Yz...</td>\n",
       "      <td>tt0816711</td>\n",
       "      <td>11</td>\n",
       "    </tr>\n",
       "    <tr>\n",
       "      <th>3</th>\n",
       "      <td>War of the Worlds</td>\n",
       "      <td>0</td>\n",
       "      <td>2005</td>\n",
       "      <td>https://m.media-amazon.com/images/M/MV5BNDUyOD...</td>\n",
       "      <td>tt0407304</td>\n",
       "      <td>17</td>\n",
       "    </tr>\n",
       "    <tr>\n",
       "      <th>4</th>\n",
       "      <td>Lord of War</td>\n",
       "      <td>0</td>\n",
       "      <td>2005</td>\n",
       "      <td>https://m.media-amazon.com/images/M/MV5BMTYzZW...</td>\n",
       "      <td>tt0399295</td>\n",
       "      <td>11</td>\n",
       "    </tr>\n",
       "  </tbody>\n",
       "</table>\n",
       "</div>"
      ],
      "text/plain": [
       "                       titulo  tipo   ano  \\\n",
       "0      Avengers: Infinity War     0  2018   \n",
       "1  Captain America: Civil War     0  2016   \n",
       "2                 World War Z     0  2013   \n",
       "3           War of the Worlds     0  2005   \n",
       "4                 Lord of War     0  2005   \n",
       "\n",
       "                                              poster    id_imdb  tam_titulo  \n",
       "0  https://m.media-amazon.com/images/M/MV5BMjMxNj...  tt4154756          22  \n",
       "1  https://m.media-amazon.com/images/M/MV5BMjQ0MT...  tt3498820          26  \n",
       "2  https://m.media-amazon.com/images/M/MV5BNDQ4Yz...  tt0816711          11  \n",
       "3  https://m.media-amazon.com/images/M/MV5BNDUyOD...  tt0407304          17  \n",
       "4  https://m.media-amazon.com/images/M/MV5BMTYzZW...  tt0399295          11  "
      ]
     },
     "execution_count": 38,
     "metadata": {},
     "output_type": "execute_result"
    }
   ],
   "source": [
    "df['tam_titulo'] = df['titulo'].apply(lambda x: len(x))\n",
    "df.head()"
   ]
  },
  {
   "cell_type": "code",
   "execution_count": 39,
   "metadata": {},
   "outputs": [
    {
     "data": {
      "text/plain": [
       "<matplotlib.axes._subplots.AxesSubplot at 0x7f7658ca6dd8>"
      ]
     },
     "execution_count": 39,
     "metadata": {},
     "output_type": "execute_result"
    },
    {
     "data": {
      "image/png": "[encoded data removed]",
      "text/plain": [
       "<Figure size 432x288 with 1 Axes>"
      ]
     },
     "metadata": {
      "needs_background": "light"
     },
     "output_type": "display_data"
    }
   ],
   "source": [
    "df['tam_titulo'].hist(edgecolor='black', grid=False)"
   ]
  },
  {
   "cell_type": "code",
   "execution_count": 40,
   "metadata": {},
   "outputs": [],
   "source": [
    "df.to_csv('filmes.csv', index=False)"
   ]
  },
  {
   "cell_type": "code",
   "execution_count": 41,
   "metadata": {},
   "outputs": [
    {
     "data": {
      "text/html": [
       "<h1>Hello, world!</h1>"
      ],
      "text/plain": [
       "<IPython.core.display.HTML object>"
      ]
     },
     "metadata": {},
     "output_type": "display_data"
    }
   ],
   "source": [
    "# Renderizando HTML\n",
    "from IPython.core.display import display, HTML\n",
    "\n",
    "display(HTML('<h1>Hello, world!</h1>'))"
   ]
  },
  {
   "cell_type": "code",
   "execution_count": 42,
   "metadata": {},
   "outputs": [
    {
     "name": "stdout",
     "output_type": "stream",
     "text": [
      "Avengers: Infinity War\n"
     ]
    },
    {
     "data": {
      "text/html": [
       "<img src=\"https://m.media-amazon.com/images/M/MV5BMjMxNjY2MDU1OV5BMl5BanBnXkFtZTgwNzY1MTUwNTM@._V1_SX300.jpg\" style=\"width: 20%\">"
      ],
      "text/plain": [
       "<IPython.core.display.HTML object>"
      ]
     },
     "metadata": {},
     "output_type": "display_data"
    },
    {
     "data": {
      "text/html": [
       "<hr>"
      ],
      "text/plain": [
       "<IPython.core.display.HTML object>"
      ]
     },
     "metadata": {},
     "output_type": "display_data"
    },
    {
     "name": "stdout",
     "output_type": "stream",
     "text": [
      "Captain America: Civil War\n"
     ]
    },
    {
     "data": {
      "text/html": [
       "<img src=\"https://m.media-amazon.com/images/M/MV5BMjQ0MTgyNjAxMV5BMl5BanBnXkFtZTgwNjUzMDkyODE@._V1_SX300.jpg\" style=\"width: 20%\">"
      ],
      "text/plain": [
       "<IPython.core.display.HTML object>"
      ]
     },
     "metadata": {},
     "output_type": "display_data"
    },
    {
     "data": {
      "text/html": [
       "<hr>"
      ],
      "text/plain": [
       "<IPython.core.display.HTML object>"
      ]
     },
     "metadata": {},
     "output_type": "display_data"
    },
    {
     "name": "stdout",
     "output_type": "stream",
     "text": [
      "World War Z\n"
     ]
    },
    {
     "data": {
      "text/html": [
       "<img src=\"https://m.media-amazon.com/images/M/MV5BNDQ4YzFmNzktMmM5ZC00MDZjLTk1OTktNDE2ODE4YjM2MjJjXkEyXkFqcGdeQXVyNTA4NzY1MzY@._V1_SX300.jpg\" style=\"width: 20%\">"
      ],
      "text/plain": [
       "<IPython.core.display.HTML object>"
      ]
     },
     "metadata": {},
     "output_type": "display_data"
    },
    {
     "data": {
      "text/html": [
       "<hr>"
      ],
      "text/plain": [
       "<IPython.core.display.HTML object>"
      ]
     },
     "metadata": {},
     "output_type": "display_data"
    },
    {
     "name": "stdout",
     "output_type": "stream",
     "text": [
      "War of the Worlds\n"
     ]
    },
    {
     "data": {
      "text/html": [
       "<img src=\"https://m.media-amazon.com/images/M/MV5BNDUyODAzNDI1Nl5BMl5BanBnXkFtZTcwMDA2NDAzMw@@._V1_SX300.jpg\" style=\"width: 20%\">"
      ],
      "text/plain": [
       "<IPython.core.display.HTML object>"
      ]
     },
     "metadata": {},
     "output_type": "display_data"
    },
    {
     "data": {
      "text/html": [
       "<hr>"
      ],
      "text/plain": [
       "<IPython.core.display.HTML object>"
      ]
     },
     "metadata": {},
     "output_type": "display_data"
    },
    {
     "name": "stdout",
     "output_type": "stream",
     "text": [
      "Lord of War\n"
     ]
    },
    {
     "data": {
      "text/html": [
       "<img src=\"https://m.media-amazon.com/images/M/MV5BMTYzZWE3MDAtZjZkMi00MzhlLTlhZDUtNmI2Zjg3OWVlZWI0XkEyXkFqcGdeQXVyNDk3NzU2MTQ@._V1_SX300.jpg\" style=\"width: 20%\">"
      ],
      "text/plain": [
       "<IPython.core.display.HTML object>"
      ]
     },
     "metadata": {},
     "output_type": "display_data"
    },
    {
     "data": {
      "text/html": [
       "<hr>"
      ],
      "text/plain": [
       "<IPython.core.display.HTML object>"
      ]
     },
     "metadata": {},
     "output_type": "display_data"
    }
   ],
   "source": [
    "for i in range(5):\n",
    "    print(df['titulo'].iloc[i])\n",
    "    \n",
    "    display(HTML('<img src=\"{0}\" style=\"width: 20%\">'.format(df['poster'].iloc[i])))\n",
    "    display(HTML('<hr>'))"
   ]
  },
  {
   "cell_type": "markdown",
   "metadata": {},
   "source": [
    "## Atividade para sala\n",
    "\n",
    "Criar um dataset (tema livre) coletando dados de um site ou API. O dataset produzido precisa ter <strong>no mínimo</strong>:\n",
    "\n",
    "<ul>\n",
    "    <li>500 registros (linhas)</li>\n",
    "    <li>6 features (colunas)</li>\n",
    "</ul>\n",
    "\n",
    "Salvar o dataset no formato CSV.\n",
    "\n",
    "\n",
    "\n",
    "\n",
    "\n"
   ]
  },
  {
   "cell_type": "markdown",
   "metadata": {},
   "source": [
    "## Atividade para casa\n",
    "\n",
    "\n",
    "Realizar a análise exploratória do seu dataset, e apresentar para a turma na próxima aula, na forma de apresentação de slides."
   ]
  },
  {
   "cell_type": "code",
   "execution_count": null,
   "metadata": {},
   "outputs": [],
   "source": []
  }
 ],
 "metadata": {
  "kernelspec": {
   "display_name": "Python 3",
   "language": "python",
   "name": "python3"
  },
  "language_info": {
   "codemirror_mode": {
    "name": "ipython",
    "version": 3
   },
   "file_extension": ".py",
   "mimetype": "text/x-python",
   "name": "python",
   "nbconvert_exporter": "python",
   "pygments_lexer": "ipython3",
   "version": "3.7.3"
  }
 },
 "nbformat": 4,
 "nbformat_minor": 2
}
